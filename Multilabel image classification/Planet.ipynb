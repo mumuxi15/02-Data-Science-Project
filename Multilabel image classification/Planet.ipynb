{
 "cells": [
  {
   "cell_type": "markdown",
   "metadata": {},
   "source": [
    "#### Kaggle competition\n",
    "\n",
    "Label satellite image chips with atmospheric conditions and various classes of land cover/land use. Resulting algorithms will help the global community better understand where, how, and why deforestation happens all over the world - and ultimately how to respond\n",
    "\n",
    "\n",
    "#### What the data looks like ? \n",
    "Train-jpg: 40K+ satelite photos <br>\n",
    "train_v2: (image_name, tags) Unique tags 449 <br>\n",
    "So this is a multilabel image classification problem\n",
    "\n",
    "#### Challenge\n",
    "Unlike dog and cat image recognition, the image set are very similar in colors\n",
    "```terminal\n",
    "nvidia-smi CUDA # monitoring\n",
    "source activate tensorflow_p36\n",
    "```\n",
    "\n",
    "#### Kaggle Evaluation - F2 SCORE\n",
    "F2 is used to evaluate how good the model is and has a formula given below\n",
    "\n",
    "$F_{2} = (1+β^{2})\\frac{pr}{β^{2}p+r}$\n",
    "\n",
    "\n",
    ",where *p* is precision, *r* is recall and β=2 \n"
   ]
  },
  {
   "cell_type": "code",
   "execution_count": 1,
   "metadata": {},
   "outputs": [
    {
     "name": "stderr",
     "output_type": "stream",
     "text": [
      "/home/ubuntu/anaconda3/envs/tensorflow_p36/lib/python3.6/site-packages/h5py/__init__.py:36: FutureWarning: Conversion of the second argument of issubdtype from `float` to `np.floating` is deprecated. In future, it will be treated as `np.float64 == np.dtype(float).type`.\n",
      "  from ._conv import register_converters as _register_converters\n",
      "Using TensorFlow backend.\n"
     ]
    }
   ],
   "source": [
    "from sklearn.model_selection import train_test_split\n",
    "from keras.preprocessing.text import Tokenizer\n",
    "import matplotlib.pyplot as plt\n",
    "from scipy.stats import norm\n",
    "import keras.backend as K\n",
    "import numpy as np\n",
    "import pandas as pd\n",
    "import seaborn as sns\n",
    "import math, glob, os\n",
    "import operator, pickle\n",
    "import cv2"
   ]
  },
  {
   "cell_type": "code",
   "execution_count": 2,
   "metadata": {},
   "outputs": [],
   "source": [
    "kaggle_path = '/home/ubuntu/.kaggle/competitions/planet-understanding-the-amazon-from-space/'\n",
    "# kaggle_path = '/Users/mumuxi/.kaggle/competitions/planet-understanding-the-amazon-from-space/'\n",
    "\n",
    "def get_multitags(plot=False):\n",
    "    texts = pd.read_csv(kaggle_path+'train_v2.csv').tags.tolist()\n",
    "    tokenizer = Tokenizer(filters = '\"(),./:~')\n",
    "    tokenizer.fit_on_texts(texts)\n",
    "    M  = tokenizer.texts_to_matrix(texts, mode='count')\n",
    "    df = pd.DataFrame(data=M,columns=['0']+list(tokenizer.word_index.keys()))\n",
    "    cols = df.columns.tolist()\n",
    "    df = df[cols[-1:] + cols[1:-1]]\n",
    "    if plot:\n",
    "        corr = df.corr()\n",
    "        fig=plt.figure(figsize=(10, 8))\n",
    "        sns.heatmap(corr)\n",
    "    return df\n",
    "\n",
    "df_label = get_multitags()"
   ]
  },
  {
   "cell_type": "code",
   "execution_count": null,
   "metadata": {},
   "outputs": [],
   "source": [
    "# df_label.columns"
   ]
  },
  {
   "cell_type": "markdown",
   "metadata": {},
   "source": [
    "### Preprocess Image\n",
    "#### 1. Calculate haze degree\n",
    "Source: [Detecting Foggy Images and Estimating the Haze Degree Factor](https://www.omicsonline.org/open-access/detecting-foggy-images-and-estimating-the-haze-degree-factor-jcsb.1000226.pdf)\n",
    "\n",
    "Define haze degree as w, where w is a number between (0,1). Smaller w indicates a clearer image while haze images have greater w.  For example, w greater than 0.7 means 80%-100% of the image area is hazed.\n",
    "\n",
    "#### 2. Dehaze images\n",
    "Source: [Single Image Haze Removal Using Dark Channel Prior](http://kaiminghe.com/publications/pami10dehaze.pdf)\n",
    "\n",
    "The following formula is widely used to describe the formation of a haze image\n",
    "\n",
    "$I(x) = J(x)t(x) + A(1-t(x))$\n",
    "\n",
    "where *I* is the observed intensity, *J* represents the original haze-free image to be recovered, *A* is the global atmospheric light, and *t* is an exponential decay distribution .\n",
    "\n",
    "The aim is to recover *J* from *I*. We can achieve that by tuning *t*, as *t* has a formula of\n",
    "\n",
    "$t(x) = 1- w\\times min[min(\\frac{I_{c}(y)}{A^{c}})]$\n",
    ",where *w* is weight coefficient, *c* is the dark channel color (darkest channel of RGB channel)"
   ]
  },
  {
   "cell_type": "code",
   "execution_count": 3,
   "metadata": {},
   "outputs": [],
   "source": [
    "\"\"\"Single image dehazing.\"\"\"\n",
    "class Channel_value:\n",
    "    val = -1.0\n",
    "    intensity = -1.0\n",
    "\n",
    "def find_intensity_of_atmospheric_light(img, gray,img_width=256):\n",
    "    \"\"\"return Atomospheric light A \n",
    "       find brightest pixels in the dark channel and find max intensity\n",
    "    \"\"\"\n",
    "    toplist = [Channel_value()] * 2\n",
    "    dark_channel = find_dark_channel(img)\n",
    "    coords = np.argwhere(img[:,:,dark_channel] == np.max(img[:,:,dark_channel]) )\n",
    "    I = [gray[c[0],c[1]] for c in coords]\n",
    "    return max(I)\n",
    "\n",
    "def find_dark_channel(img): #get darkest RBG channel\n",
    "    return np.unravel_index(np.argmin(img), img.shape)[2]\n",
    "\n",
    "def clamp(minimum, x, maximum):\n",
    "    return max(minimum, min(x, maximum))\n",
    "\n",
    "def dehaze_function(img, light_intensity, windowSize, t0, w,img_width=256):\n",
    "    outimg = np.zeros(img.shape, img.dtype)\n",
    "    for y in range(img_width):\n",
    "        for x in range(img_width):\n",
    "            x_low = max(x-(windowSize//2), 0)\n",
    "            y_low = max(y-(windowSize//2), 0)\n",
    "            x_high = min(x+(windowSize//2), img_width)\n",
    "            y_high = min(y+(windowSize//2), img_width)\n",
    "            sliceimg = img[y_low:y_high, x_low:x_high]\n",
    "            dark_channel = find_dark_channel(sliceimg)\n",
    "            t = 1.0 - (w * img.item(y, x, dark_channel) / light_intensity)\n",
    "            outimg.itemset((y,x,0), clamp(0, ((img.item(y,x,0) - light_intensity) / max(t, t0) + light_intensity), 255))\n",
    "            outimg.itemset((y,x,1), clamp(0, ((img.item(y,x,1) - light_intensity) / max(t, t0) + light_intensity), 255))\n",
    "            outimg.itemset((y,x,2), clamp(0, ((img.item(y,x,2) - light_intensity) / max(t, t0) + light_intensity), 255))\n",
    "    return outimg\n",
    "\n",
    "\n",
    "def dehaze_image(path,w = 0.95, t0 = 0.55):\n",
    "    img = cv2.imread(path)\n",
    "    gray = cv2.cvtColor(img, cv2.COLOR_BGR2GRAY) #image to gray scale\n",
    "    light_intensity = find_intensity_of_atmospheric_light(img, gray)\n",
    "    outimg = dehaze_function(img, light_intensity, 20, t0, w)\n",
    "    return outimg\n",
    "\n",
    "#  %%%%%%%%%%%%%%%%%%%%%%%%%%%%%%%%%%%%%%%%%%%%%%%%%%\n",
    "def display_photo_no(image_id):\n",
    "    img = cv2.imread(kaggle_path+f'train-jpg/train_{image_id}.jpg')\n",
    "    plt.imshow(img)\n"
   ]
  },
  {
   "cell_type": "code",
   "execution_count": 4,
   "metadata": {},
   "outputs": [],
   "source": [
    "miu, v, sigma = 5.1,2.9,.2461\n",
    "def calculate_haziness(img_id):\n",
    "    path = kaggle_path+f'train-jpg/train_{img_id}.jpg'\n",
    "    img = cv2.imread(path)\n",
    "    gray = cv2.cvtColor(img, cv2.COLOR_BGR2GRAY) #image to gray scale\n",
    "    A = find_intensity_of_atmospheric_light(img, gray)\n",
    "    D = img.min(2).sum()/(img.shape[0]*img.shape[1])\n",
    "    B = img.max(2).sum()/(img.shape[0]*img.shape[1])\n",
    "    C = B - D\n",
    "    w = math.e**(-0.5*(miu*(A-D)/A+v*C/A))\n",
    "    return (img_id,w,A)\n",
    "\n",
    "def compare_photos(image_id):\n",
    "    path = kaggle_path+f'train-jpg/train_{image_id}.jpg'\n",
    "    fig=plt.figure(figsize=(5, 8))\n",
    "    ax1 = fig.add_subplot(211)\n",
    "    dehazed_img = dehaze_image(path)\n",
    "    plt.imshow(dehazed_img)\n",
    "    fig.add_subplot(212,sharex=ax1)\n",
    "    display_photo_no(image_id)\n",
    "    plt.show()"
   ]
  },
  {
   "cell_type": "code",
   "execution_count": null,
   "metadata": {},
   "outputs": [],
   "source": [
    "# from multiprocessing import Pool\n",
    "# import pickle\n",
    "\n",
    "# res = []\n",
    "# d = range(0,40479,1)\n",
    "# chunks = [d[x:x+5000] for x in range(0, len(d), 5000)]\n",
    "# pool = Pool(6)\n",
    "# for rang in chunks:\n",
    "#     print (rang)\n",
    "#     res+=pool.map(calculate_haziness,rang)\n",
    "# pool.close()\n",
    "# pool.join()\n",
    "# with open('haze_train.pkl', 'wb') as f:\n",
    "#     pickle.dump(res, f)"
   ]
  },
  {
   "cell_type": "markdown",
   "metadata": {},
   "source": [
    "### 1 Neural Network vanilla model\n",
    "\n",
    "Initialise model as a sequential network. There are two basic ways of initialising a neural network, either by a sequence of layers or as a graph\n",
    "\n",
    "#### 1.1 Load data\n",
    "- opencv convert image to numpy array (256x256x3) 256 pixels 3 RBG channels\n",
    "- train/test split\n",
    "\n",
    "#### 1.2 Model Work Flow\n",
    "1. **Conv2D** \n",
    "    - Images => 2 D arrays\n",
    "    - Videos => Convolution 3-D \n",
    "    \n",
    "    \n",
    "2. **MaxPooling2D**:<br> The primary aim of a pooling operation is to reduce the size of the images. Different types of pooling operations like Min Pooling, Mean Pooling, etc. Here in MaxPooling we need the maximum value pixel from the respective region of interest.\n",
    "\n",
    "\n",
    "3. **Flatten**:<br> Flattening is the process of converting all the resultant 2 dimensional arrays into a continuous vector.\n",
    "\n",
    "\n",
    "4. **Dense** \n",
    "    - units: no nodes in the hidden layer\n",
    "5. **Compile**\n",
    "    - Optimizer:  stochastic gradient descent algorithm\n",
    "    - Loss: loss function\n",
    "    - Metrics: performance metric"
   ]
  },
  {
   "cell_type": "code",
   "execution_count": 6,
   "metadata": {},
   "outputs": [],
   "source": [
    "from keras.models import Sequential\n",
    "from keras.layers import Conv2D, MaxPooling2D, Flatten, Dense, Activation, Dropout,BatchNormalization\n",
    "from keras.initializers import glorot_normal, RandomNormal, Zeros"
   ]
  },
  {
   "cell_type": "code",
   "execution_count": null,
   "metadata": {},
   "outputs": [],
   "source": [
    "def load_train_test(train_ids,test_ids):\n",
    "    read = lambda i: cv2.imread(kaggle_path+f'train-jpg/train_{i}.jpg')\n",
    "    train_array = np.array(list(map(read,train_ids)))\n",
    "    test_array = np.array(list(map(read,test_ids)))\n",
    "    return train_array,test_array\n",
    "\n",
    "y_train, y_test = train_test_split(df_label, test_size=0.3,random_state=1404)\n",
    "X_train, X_test = load_train_test(y_train.index.tolist(),y_test.index.tolist())\n",
    "print (X_test.shape,y_test.shape)"
   ]
  },
  {
   "cell_type": "code",
   "execution_count": 9,
   "metadata": {},
   "outputs": [],
   "source": [
    "def build_layers():\n",
    "    model = Sequential()\n",
    "    model.add(Conv2D(32, (3, 3),activation = 'relu', input_shape = (256, 256, 3)))\n",
    "    model.add(BatchNormalization())\n",
    "    model.add(MaxPooling2D(pool_size=(3, 2)))\n",
    "    \n",
    "    model.add(Conv2D(32, (3, 3),activation = 'relu'))\n",
    "    model.add(BatchNormalization())\n",
    "    model.add(MaxPooling2D(pool_size=(3, 2)))\n",
    "\n",
    "    model.add(Conv2D(32, (3, 3),activation = 'relu'))\n",
    "    model.add(BatchNormalization())\n",
    "    model.add(MaxPooling2D(pool_size=(3, 2)))\n",
    "\n",
    "    model.add(Flatten())\n",
    "    model.add(Dense(32))\n",
    "    model.add(Activation('relu'))\n",
    "    model.add(BatchNormalization())\n",
    "    model.add(Dropout(0.2))\n",
    "    model.add(Dense(17))\n",
    "    model.add(Activation('sigmoid'))\n",
    "#     model.summary()\n",
    "    return model"
   ]
  },
  {
   "cell_type": "code",
   "execution_count": 4,
   "metadata": {},
   "outputs": [],
   "source": [
    "\"\"\" Define matrice functions \"\"\"\n",
    "def precision(y_true,y_pred):\n",
    "    true_positives = K.sum(K.round(K.clip(y_true * y_pred, 0, 1)))\n",
    "    predicted_positives = K.sum(K.round(K.clip(y_pred, 0, 1)))\n",
    "    precision = true_positives / (predicted_positives + K.epsilon())\n",
    "    return precision\n",
    "\n",
    "def recall(y_true,y_pred):\n",
    "    true_positives = K.sum(K.round(K.clip(y_true * y_pred, 0, 1)))\n",
    "    possible_positives = K.sum(K.round(K.clip(y_true, 0, 1)))\n",
    "    recall = true_positives / (possible_positives + K.epsilon())\n",
    "    return recall\n",
    "    \n",
    "def F2_score(y_true, y_pred):\n",
    "    true_positives = K.sum(K.round(K.clip(y_true * y_pred, 0, 1)))\n",
    "    predicted_positives = K.sum(K.round(K.clip(y_pred, 0, 1)))\n",
    "    precision = true_positives / (predicted_positives + K.epsilon())\n",
    "    \n",
    "    true_positives = K.sum(K.round(K.clip(y_true * y_pred, 0, 1)))\n",
    "    possible_positives = K.sum(K.round(K.clip(y_true, 0, 1)))\n",
    "    recall = true_positives / (possible_positives + K.epsilon())\n",
    "    return (1+4)*precision*recall/(4*precision+recall)\n",
    "\n",
    "def build_model():\n",
    "    model = build_layers()\n",
    "    model.compile(optimizer = 'adam', loss = 'categorical_crossentropy', \n",
    "                  metrics = ['accuracy',F2_score])\n",
    "    return model\n",
    "\n",
    "def train_model():\n",
    "    model = build_model()\n",
    "    model.fit(X_train, y_train, epochs=2, batch_size=50,validation_data=(X_test, y_test))\n",
    "    score = model.evaluate(X_test, y_test, verbose=0)\n",
    "    print('Test loss: %.3f  accuracy: %.3f F2 score: %.3f.' %(score[0],score[1],score[2]))\n",
    "    return model\n",
    "    "
   ]
  },
  {
   "cell_type": "code",
   "execution_count": null,
   "metadata": {},
   "outputs": [
    {
     "name": "stdout",
     "output_type": "stream",
     "text": [
      "Train on 28335 samples, validate on 12144 samples\n",
      "Epoch 1/2\n",
      "28335/28335 [==============================] - 128s 5ms/step - loss: 5.9307 - acc: 0.2844 - F2_score: 0.6554 - val_loss: 5.5013 - val_acc: 0.8709 - val_F2_score: 0.5387\n",
      "Epoch 2/2\n",
      "28335/28335 [==============================] - 127s 4ms/step - loss: 5.0636 - acc: 0.6142 - F2_score: 0.7116 - val_loss: 5.1653 - val_acc: 0.6509 - val_F2_score: 0.6734\n"
     ]
    }
   ],
   "source": [
    "model = train_model()\n"
   ]
  },
  {
   "cell_type": "markdown",
   "metadata": {},
   "source": [
    "#### 1.3 Implementation\n",
    "Build different models and test\n",
    "F2 | prec  |  recall\n",
    "_________________________\n",
    "\n",
    "0.70 | 0.47 | 0.75 | model 2 Test F2: 0.754 - multi layers\n",
    "\n",
    "0.00 | 0.00 | 0.00 | model 3 - haze free\n",
    "\n",
    "-  Divide labels to 2 categories.\n",
    "    - weather labels\n",
    "    - non-weather labels\n",
    "-  Run model on haze free images\n",
    "\n"
   ]
  },
  {
   "cell_type": "markdown",
   "metadata": {},
   "source": [
    "### Predict weather labels \n",
    "- Predict clear,haze,partly_cloudy,cloudy tags\n",
    "- Define weather_tags = \\['clear','haze','partly_cloudy','cloudy'\\]\n",
    "\n",
    "We test if the weather labels are independent. In other words, if image only has 1 label from (clear,haze,partly_cloudy,cloudy)\n",
    "```python\n",
    "def test():\n",
    "    y = df_label[weather_tags].copy()\n",
    "    y.columns=[1,2,3,4]\n",
    "    y['sum'] = y.sum(axis=1)\n",
    "    return y[y['sum']!=1]  \n",
    "```\n",
    "All train images contains 1 weather label, except train_img2448.jpg has none"
   ]
  },
  {
   "cell_type": "code",
   "execution_count": null,
   "metadata": {},
   "outputs": [],
   "source": [
    "print ('            water')\n",
    "display_photo_no(24448)"
   ]
  },
  {
   "cell_type": "code",
   "execution_count": 3,
   "metadata": {},
   "outputs": [],
   "source": [
    "from sklearn.linear_model import LogisticRegression\n",
    "from sklearn.ensemble import RandomForestClassifier\n",
    "from sklearn.metrics import confusion_matrix"
   ]
  },
  {
   "cell_type": "code",
   "execution_count": 4,
   "metadata": {},
   "outputs": [],
   "source": [
    "weather_tags = ['clear','haze','partly_cloudy','cloudy']\n",
    "\n",
    "def load_test_train():\n",
    "    df_w = pd.DataFrame(data=pickle.load(open(\"haze_train.pkl\", \"rb\" )),columns=['id','w','A'])\n",
    "    y = df_label[weather_tags].copy()\n",
    "    y.columns=[0,1,2,3]\n",
    "    y = pd.get_dummies(y).idxmax(1)\n",
    "    X_train,X_test,y_train,y_test = train_test_split(df_w[['w','A']],y,stratify=y,test_size=0.3,random_state=1404)\n",
    "    return X_train,X_test,y_train,y_test\n",
    "\n",
    "def plot_confusion_matrix(y_test,y_pred):\n",
    "    M = confusion_matrix(y_test,y_pred)\n",
    "    M = M/M.sum(axis=1)[:,None]\n",
    "    plt.figure(figsize=(10, 8))\n",
    "    ax = sns.heatmap(M, annot=True,fmt='.0%',cmap=\"YlGnBu\")\n",
    "    ax.set_xticklabels(weather_tags)\n",
    "    ax.set_yticklabels(weather_tags)\n",
    "    plt.show()\n",
    "    \n",
    "X_train,X_test,y_train,y_test = load_test_train()"
   ]
  },
  {
   "cell_type": "code",
   "execution_count": 5,
   "metadata": {},
   "outputs": [
    {
     "data": {
      "image/png": "[encoded data removed]",
      "text/plain": [
       "<Figure size 720x576 with 2 Axes>"
      ]
     },
     "metadata": {},
     "output_type": "display_data"
    }
   ],
   "source": [
    "def multi_class_logistic():\n",
    "    lgr = LogisticRegression(multi_class=\"multinomial\",solver='newton-cg')\n",
    "    lgr.fit(X_train, y_train)\n",
    "    y_pred = lgr.predict(X_test)\n",
    "    plot_confusion_matrix(y_test,y_pred)\n",
    "    \n",
    "multi_class_logistic()"
   ]
  },
  {
   "cell_type": "code",
   "execution_count": 6,
   "metadata": {},
   "outputs": [
    {
     "name": "stdout",
     "output_type": "stream",
     "text": [
      "[1 1 1 ... 2 0 0]\n"
     ]
    },
    {
     "data": {
      "image/png": "[encoded data removed]",
      "text/plain": [
       "<Figure size 720x576 with 2 Axes>"
      ]
     },
     "metadata": {},
     "output_type": "display_data"
    }
   ],
   "source": [
    "def random_forest():\n",
    "    rf = RandomForestClassifier()\n",
    "    rf.fit(X_train, y_train)\n",
    "    y_pred = rf.predict(X_test)\n",
    "    plot_confusion_matrix(y_test,y_pred)\n",
    "    \n",
    "random_forest()\n"
   ]
  },
  {
   "cell_type": "code",
   "execution_count": 19,
   "metadata": {},
   "outputs": [
    {
     "name": "stdout",
     "output_type": "stream",
     "text": [
      "[0]\tvalidation_0-mlogloss:1.29323\tvalidation_1-mlogloss:1.2934\n",
      "Multiple eval metrics have been passed: 'validation_1-mlogloss' will be used for early stopping.\n",
      "\n",
      "Will train until validation_1-mlogloss hasn't improved in 50 rounds.\n",
      "[1]\tvalidation_0-mlogloss:1.21602\tvalidation_1-mlogloss:1.21632\n",
      "[2]\tvalidation_0-mlogloss:1.14691\tvalidation_1-mlogloss:1.14815\n",
      "[3]\tvalidation_0-mlogloss:1.09084\tvalidation_1-mlogloss:1.09279\n",
      "[4]\tvalidation_0-mlogloss:1.03819\tvalidation_1-mlogloss:1.04057\n",
      "[5]\tvalidation_0-mlogloss:0.997315\tvalidation_1-mlogloss:0.999953\n",
      "[6]\tvalidation_0-mlogloss:0.960428\tvalidation_1-mlogloss:0.962986\n",
      "[7]\tvalidation_0-mlogloss:0.916097\tvalidation_1-mlogloss:0.919226\n",
      "[8]\tvalidation_0-mlogloss:0.883826\tvalidation_1-mlogloss:0.887324\n",
      "[9]\tvalidation_0-mlogloss:0.858279\tvalidation_1-mlogloss:0.861779\n",
      "[10]\tvalidation_0-mlogloss:0.835711\tvalidation_1-mlogloss:0.839186\n",
      "[11]\tvalidation_0-mlogloss:0.80947\tvalidation_1-mlogloss:0.813375\n",
      "[12]\tvalidation_0-mlogloss:0.785728\tvalidation_1-mlogloss:0.790044\n",
      "[13]\tvalidation_0-mlogloss:0.764228\tvalidation_1-mlogloss:0.768928\n",
      "[14]\tvalidation_0-mlogloss:0.745684\tvalidation_1-mlogloss:0.750634\n",
      "[15]\tvalidation_0-mlogloss:0.729467\tvalidation_1-mlogloss:0.73468\n",
      "[16]\tvalidation_0-mlogloss:0.716211\tvalidation_1-mlogloss:0.721761\n",
      "[17]\tvalidation_0-mlogloss:0.704205\tvalidation_1-mlogloss:0.710074\n",
      "[18]\tvalidation_0-mlogloss:0.695181\tvalidation_1-mlogloss:0.701094\n",
      "[19]\tvalidation_0-mlogloss:0.68509\tvalidation_1-mlogloss:0.691131\n",
      "[20]\tvalidation_0-mlogloss:0.667936\tvalidation_1-mlogloss:0.674357\n",
      "[21]\tvalidation_0-mlogloss:0.656088\tvalidation_1-mlogloss:0.662563\n",
      "[22]\tvalidation_0-mlogloss:0.648385\tvalidation_1-mlogloss:0.654957\n",
      "[23]\tvalidation_0-mlogloss:0.636051\tvalidation_1-mlogloss:0.642944\n",
      "[24]\tvalidation_0-mlogloss:0.624922\tvalidation_1-mlogloss:0.632232\n",
      "[25]\tvalidation_0-mlogloss:0.616493\tvalidation_1-mlogloss:0.62387\n",
      "[26]\tvalidation_0-mlogloss:0.607554\tvalidation_1-mlogloss:0.615111\n",
      "[27]\tvalidation_0-mlogloss:0.597887\tvalidation_1-mlogloss:0.605734\n",
      "[28]\tvalidation_0-mlogloss:0.591438\tvalidation_1-mlogloss:0.599485\n",
      "[29]\tvalidation_0-mlogloss:0.584279\tvalidation_1-mlogloss:0.592538\n",
      "[30]\tvalidation_0-mlogloss:0.577851\tvalidation_1-mlogloss:0.586215\n",
      "[31]\tvalidation_0-mlogloss:0.572996\tvalidation_1-mlogloss:0.581431\n",
      "[32]\tvalidation_0-mlogloss:0.56655\tvalidation_1-mlogloss:0.575195\n",
      "[33]\tvalidation_0-mlogloss:0.562487\tvalidation_1-mlogloss:0.5712\n",
      "[34]\tvalidation_0-mlogloss:0.557732\tvalidation_1-mlogloss:0.566621\n",
      "[35]\tvalidation_0-mlogloss:0.553399\tvalidation_1-mlogloss:0.562429\n",
      "[36]\tvalidation_0-mlogloss:0.551026\tvalidation_1-mlogloss:0.560145\n",
      "[37]\tvalidation_0-mlogloss:0.548406\tvalidation_1-mlogloss:0.557632\n",
      "[38]\tvalidation_0-mlogloss:0.54434\tvalidation_1-mlogloss:0.553791\n",
      "[39]\tvalidation_0-mlogloss:0.540924\tvalidation_1-mlogloss:0.550527\n",
      "[40]\tvalidation_0-mlogloss:0.537049\tvalidation_1-mlogloss:0.54687\n",
      "[41]\tvalidation_0-mlogloss:0.534261\tvalidation_1-mlogloss:0.544235\n",
      "[42]\tvalidation_0-mlogloss:0.531327\tvalidation_1-mlogloss:0.541368\n",
      "[43]\tvalidation_0-mlogloss:0.528592\tvalidation_1-mlogloss:0.53881\n",
      "[44]\tvalidation_0-mlogloss:0.526968\tvalidation_1-mlogloss:0.537331\n",
      "[45]\tvalidation_0-mlogloss:0.52467\tvalidation_1-mlogloss:0.535175\n",
      "[46]\tvalidation_0-mlogloss:0.521921\tvalidation_1-mlogloss:0.532594\n",
      "[47]\tvalidation_0-mlogloss:0.52017\tvalidation_1-mlogloss:0.530982\n",
      "[48]\tvalidation_0-mlogloss:0.518216\tvalidation_1-mlogloss:0.529213\n",
      "[49]\tvalidation_0-mlogloss:0.51695\tvalidation_1-mlogloss:0.528017\n",
      "[50]\tvalidation_0-mlogloss:0.514938\tvalidation_1-mlogloss:0.526153\n",
      "[51]\tvalidation_0-mlogloss:0.513721\tvalidation_1-mlogloss:0.525132\n",
      "[52]\tvalidation_0-mlogloss:0.51183\tvalidation_1-mlogloss:0.523469\n",
      "[53]\tvalidation_0-mlogloss:0.509974\tvalidation_1-mlogloss:0.521802\n",
      "[54]\tvalidation_0-mlogloss:0.508022\tvalidation_1-mlogloss:0.52004\n",
      "[55]\tvalidation_0-mlogloss:0.506592\tvalidation_1-mlogloss:0.51872\n",
      "[56]\tvalidation_0-mlogloss:0.505463\tvalidation_1-mlogloss:0.517653\n",
      "[57]\tvalidation_0-mlogloss:0.504394\tvalidation_1-mlogloss:0.516705\n",
      "[58]\tvalidation_0-mlogloss:0.503466\tvalidation_1-mlogloss:0.515871\n",
      "[59]\tvalidation_0-mlogloss:0.502065\tvalidation_1-mlogloss:0.514644\n",
      "[60]\tvalidation_0-mlogloss:0.500768\tvalidation_1-mlogloss:0.513531\n",
      "[61]\tvalidation_0-mlogloss:0.499956\tvalidation_1-mlogloss:0.512851\n",
      "[62]\tvalidation_0-mlogloss:0.498652\tvalidation_1-mlogloss:0.511774\n",
      "[63]\tvalidation_0-mlogloss:0.49765\tvalidation_1-mlogloss:0.510825\n",
      "[64]\tvalidation_0-mlogloss:0.496948\tvalidation_1-mlogloss:0.510252\n",
      "[65]\tvalidation_0-mlogloss:0.49586\tvalidation_1-mlogloss:0.509312\n",
      "[66]\tvalidation_0-mlogloss:0.495116\tvalidation_1-mlogloss:0.508691\n",
      "[67]\tvalidation_0-mlogloss:0.494343\tvalidation_1-mlogloss:0.508037\n",
      "[68]\tvalidation_0-mlogloss:0.493623\tvalidation_1-mlogloss:0.507457\n",
      "[69]\tvalidation_0-mlogloss:0.493038\tvalidation_1-mlogloss:0.507037\n",
      "[70]\tvalidation_0-mlogloss:0.492505\tvalidation_1-mlogloss:0.506593\n",
      "[71]\tvalidation_0-mlogloss:0.491543\tvalidation_1-mlogloss:0.505858\n",
      "[72]\tvalidation_0-mlogloss:0.490729\tvalidation_1-mlogloss:0.505234\n",
      "[73]\tvalidation_0-mlogloss:0.490152\tvalidation_1-mlogloss:0.504793\n",
      "[74]\tvalidation_0-mlogloss:0.48949\tvalidation_1-mlogloss:0.504306\n",
      "[75]\tvalidation_0-mlogloss:0.488721\tvalidation_1-mlogloss:0.503732\n",
      "[76]\tvalidation_0-mlogloss:0.488005\tvalidation_1-mlogloss:0.503255\n",
      "[77]\tvalidation_0-mlogloss:0.487191\tvalidation_1-mlogloss:0.502603\n",
      "[78]\tvalidation_0-mlogloss:0.486776\tvalidation_1-mlogloss:0.502348\n",
      "[79]\tvalidation_0-mlogloss:0.486224\tvalidation_1-mlogloss:0.501925\n",
      "[80]\tvalidation_0-mlogloss:0.485857\tvalidation_1-mlogloss:0.501695\n",
      "[81]\tvalidation_0-mlogloss:0.485456\tvalidation_1-mlogloss:0.501467\n",
      "[82]\tvalidation_0-mlogloss:0.485104\tvalidation_1-mlogloss:0.501249\n",
      "[83]\tvalidation_0-mlogloss:0.484418\tvalidation_1-mlogloss:0.500697\n",
      "[84]\tvalidation_0-mlogloss:0.483918\tvalidation_1-mlogloss:0.500328\n",
      "[85]\tvalidation_0-mlogloss:0.483618\tvalidation_1-mlogloss:0.500135\n",
      "[86]\tvalidation_0-mlogloss:0.483346\tvalidation_1-mlogloss:0.499951\n",
      "[87]\tvalidation_0-mlogloss:0.482892\tvalidation_1-mlogloss:0.499618\n",
      "[88]\tvalidation_0-mlogloss:0.482258\tvalidation_1-mlogloss:0.499138\n",
      "[89]\tvalidation_0-mlogloss:0.481686\tvalidation_1-mlogloss:0.498709\n",
      "[90]\tvalidation_0-mlogloss:0.481243\tvalidation_1-mlogloss:0.498399\n",
      "[91]\tvalidation_0-mlogloss:0.480724\tvalidation_1-mlogloss:0.498001\n",
      "[92]\tvalidation_0-mlogloss:0.480321\tvalidation_1-mlogloss:0.4977\n",
      "[93]\tvalidation_0-mlogloss:0.479802\tvalidation_1-mlogloss:0.497289\n",
      "[94]\tvalidation_0-mlogloss:0.479362\tvalidation_1-mlogloss:0.496972\n",
      "[95]\tvalidation_0-mlogloss:0.479134\tvalidation_1-mlogloss:0.496852\n",
      "[96]\tvalidation_0-mlogloss:0.478796\tvalidation_1-mlogloss:0.496643\n",
      "[97]\tvalidation_0-mlogloss:0.478516\tvalidation_1-mlogloss:0.496438\n",
      "[98]\tvalidation_0-mlogloss:0.478177\tvalidation_1-mlogloss:0.496271\n",
      "[99]\tvalidation_0-mlogloss:0.477974\tvalidation_1-mlogloss:0.496184\n",
      "[100]\tvalidation_0-mlogloss:0.477568\tvalidation_1-mlogloss:0.495945\n",
      "[101]\tvalidation_0-mlogloss:0.477218\tvalidation_1-mlogloss:0.495701\n",
      "[102]\tvalidation_0-mlogloss:0.476903\tvalidation_1-mlogloss:0.495474\n",
      "[103]\tvalidation_0-mlogloss:0.476653\tvalidation_1-mlogloss:0.495312\n",
      "[104]\tvalidation_0-mlogloss:0.476281\tvalidation_1-mlogloss:0.495054\n",
      "[105]\tvalidation_0-mlogloss:0.476085\tvalidation_1-mlogloss:0.494978\n",
      "[106]\tvalidation_0-mlogloss:0.475792\tvalidation_1-mlogloss:0.494883\n",
      "[107]\tvalidation_0-mlogloss:0.475544\tvalidation_1-mlogloss:0.494751\n",
      "[108]\tvalidation_0-mlogloss:0.475257\tvalidation_1-mlogloss:0.494628\n",
      "[109]\tvalidation_0-mlogloss:0.474977\tvalidation_1-mlogloss:0.494501\n",
      "[110]\tvalidation_0-mlogloss:0.474727\tvalidation_1-mlogloss:0.494409\n",
      "[111]\tvalidation_0-mlogloss:0.474503\tvalidation_1-mlogloss:0.494293\n",
      "[112]\tvalidation_0-mlogloss:0.47424\tvalidation_1-mlogloss:0.494167\n",
      "[113]\tvalidation_0-mlogloss:0.474038\tvalidation_1-mlogloss:0.494121\n",
      "[114]\tvalidation_0-mlogloss:0.473822\tvalidation_1-mlogloss:0.494015\n",
      "[115]\tvalidation_0-mlogloss:0.473664\tvalidation_1-mlogloss:0.493947\n",
      "[116]\tvalidation_0-mlogloss:0.473488\tvalidation_1-mlogloss:0.493879\n",
      "[117]\tvalidation_0-mlogloss:0.473339\tvalidation_1-mlogloss:0.493809\n",
      "[118]\tvalidation_0-mlogloss:0.47311\tvalidation_1-mlogloss:0.493724\n",
      "[119]\tvalidation_0-mlogloss:0.472951\tvalidation_1-mlogloss:0.493628\n",
      "[120]\tvalidation_0-mlogloss:0.472725\tvalidation_1-mlogloss:0.493521\n"
     ]
    },
    {
     "name": "stdout",
     "output_type": "stream",
     "text": [
      "[121]\tvalidation_0-mlogloss:0.472539\tvalidation_1-mlogloss:0.493534\n",
      "[122]\tvalidation_0-mlogloss:0.472328\tvalidation_1-mlogloss:0.493454\n",
      "[123]\tvalidation_0-mlogloss:0.47211\tvalidation_1-mlogloss:0.493411\n",
      "[124]\tvalidation_0-mlogloss:0.471999\tvalidation_1-mlogloss:0.493387\n",
      "[125]\tvalidation_0-mlogloss:0.471813\tvalidation_1-mlogloss:0.49332\n",
      "[126]\tvalidation_0-mlogloss:0.47161\tvalidation_1-mlogloss:0.493214\n",
      "[127]\tvalidation_0-mlogloss:0.471436\tvalidation_1-mlogloss:0.493211\n",
      "[128]\tvalidation_0-mlogloss:0.471219\tvalidation_1-mlogloss:0.493164\n",
      "[129]\tvalidation_0-mlogloss:0.471096\tvalidation_1-mlogloss:0.493168\n",
      "[130]\tvalidation_0-mlogloss:0.470942\tvalidation_1-mlogloss:0.493134\n",
      "[131]\tvalidation_0-mlogloss:0.47078\tvalidation_1-mlogloss:0.493068\n",
      "[132]\tvalidation_0-mlogloss:0.470546\tvalidation_1-mlogloss:0.492993\n",
      "[133]\tvalidation_0-mlogloss:0.470397\tvalidation_1-mlogloss:0.492939\n",
      "[134]\tvalidation_0-mlogloss:0.470226\tvalidation_1-mlogloss:0.492908\n",
      "[135]\tvalidation_0-mlogloss:0.47001\tvalidation_1-mlogloss:0.492906\n",
      "[136]\tvalidation_0-mlogloss:0.469894\tvalidation_1-mlogloss:0.49289\n",
      "[137]\tvalidation_0-mlogloss:0.469761\tvalidation_1-mlogloss:0.492856\n",
      "[138]\tvalidation_0-mlogloss:0.469602\tvalidation_1-mlogloss:0.492858\n",
      "[139]\tvalidation_0-mlogloss:0.469458\tvalidation_1-mlogloss:0.492845\n",
      "[140]\tvalidation_0-mlogloss:0.469337\tvalidation_1-mlogloss:0.492832\n",
      "[141]\tvalidation_0-mlogloss:0.469161\tvalidation_1-mlogloss:0.492791\n",
      "[142]\tvalidation_0-mlogloss:0.469017\tvalidation_1-mlogloss:0.492762\n",
      "[143]\tvalidation_0-mlogloss:0.468846\tvalidation_1-mlogloss:0.492688\n",
      "[144]\tvalidation_0-mlogloss:0.468749\tvalidation_1-mlogloss:0.492712\n",
      "[145]\tvalidation_0-mlogloss:0.468674\tvalidation_1-mlogloss:0.492742\n",
      "[146]\tvalidation_0-mlogloss:0.468568\tvalidation_1-mlogloss:0.492756\n",
      "[147]\tvalidation_0-mlogloss:0.468426\tvalidation_1-mlogloss:0.492716\n",
      "[148]\tvalidation_0-mlogloss:0.468293\tvalidation_1-mlogloss:0.492698\n",
      "[149]\tvalidation_0-mlogloss:0.468141\tvalidation_1-mlogloss:0.492669\n",
      "[150]\tvalidation_0-mlogloss:0.46802\tvalidation_1-mlogloss:0.492702\n",
      "[151]\tvalidation_0-mlogloss:0.46794\tvalidation_1-mlogloss:0.492722\n",
      "[152]\tvalidation_0-mlogloss:0.467827\tvalidation_1-mlogloss:0.492693\n",
      "[153]\tvalidation_0-mlogloss:0.467731\tvalidation_1-mlogloss:0.492686\n",
      "[154]\tvalidation_0-mlogloss:0.467598\tvalidation_1-mlogloss:0.492696\n",
      "[155]\tvalidation_0-mlogloss:0.467462\tvalidation_1-mlogloss:0.492711\n",
      "[156]\tvalidation_0-mlogloss:0.467372\tvalidation_1-mlogloss:0.492684\n",
      "[157]\tvalidation_0-mlogloss:0.467272\tvalidation_1-mlogloss:0.49265\n",
      "[158]\tvalidation_0-mlogloss:0.467147\tvalidation_1-mlogloss:0.492627\n",
      "[159]\tvalidation_0-mlogloss:0.467038\tvalidation_1-mlogloss:0.492624\n",
      "[160]\tvalidation_0-mlogloss:0.466955\tvalidation_1-mlogloss:0.492587\n",
      "[161]\tvalidation_0-mlogloss:0.466894\tvalidation_1-mlogloss:0.492606\n",
      "[162]\tvalidation_0-mlogloss:0.466789\tvalidation_1-mlogloss:0.492591\n",
      "[163]\tvalidation_0-mlogloss:0.466673\tvalidation_1-mlogloss:0.492556\n",
      "[164]\tvalidation_0-mlogloss:0.4666\tvalidation_1-mlogloss:0.492561\n",
      "[165]\tvalidation_0-mlogloss:0.4665\tvalidation_1-mlogloss:0.492573\n",
      "[166]\tvalidation_0-mlogloss:0.466428\tvalidation_1-mlogloss:0.492543\n",
      "[167]\tvalidation_0-mlogloss:0.466288\tvalidation_1-mlogloss:0.492522\n",
      "[168]\tvalidation_0-mlogloss:0.466219\tvalidation_1-mlogloss:0.492549\n",
      "[169]\tvalidation_0-mlogloss:0.46612\tvalidation_1-mlogloss:0.49256\n",
      "[170]\tvalidation_0-mlogloss:0.466034\tvalidation_1-mlogloss:0.492572\n",
      "[171]\tvalidation_0-mlogloss:0.465933\tvalidation_1-mlogloss:0.492584\n",
      "[172]\tvalidation_0-mlogloss:0.465838\tvalidation_1-mlogloss:0.492578\n",
      "[173]\tvalidation_0-mlogloss:0.465753\tvalidation_1-mlogloss:0.492563\n",
      "[174]\tvalidation_0-mlogloss:0.465672\tvalidation_1-mlogloss:0.492558\n",
      "[175]\tvalidation_0-mlogloss:0.465588\tvalidation_1-mlogloss:0.492563\n",
      "[176]\tvalidation_0-mlogloss:0.465506\tvalidation_1-mlogloss:0.492564\n",
      "[177]\tvalidation_0-mlogloss:0.465395\tvalidation_1-mlogloss:0.49257\n",
      "[178]\tvalidation_0-mlogloss:0.465341\tvalidation_1-mlogloss:0.492581\n",
      "[179]\tvalidation_0-mlogloss:0.465282\tvalidation_1-mlogloss:0.492586\n",
      "[180]\tvalidation_0-mlogloss:0.465193\tvalidation_1-mlogloss:0.492606\n",
      "[181]\tvalidation_0-mlogloss:0.465107\tvalidation_1-mlogloss:0.492624\n",
      "[182]\tvalidation_0-mlogloss:0.465005\tvalidation_1-mlogloss:0.492657\n",
      "[183]\tvalidation_0-mlogloss:0.464917\tvalidation_1-mlogloss:0.492669\n",
      "[184]\tvalidation_0-mlogloss:0.46483\tvalidation_1-mlogloss:0.492689\n",
      "[185]\tvalidation_0-mlogloss:0.464721\tvalidation_1-mlogloss:0.492693\n",
      "[186]\tvalidation_0-mlogloss:0.464618\tvalidation_1-mlogloss:0.492666\n",
      "[187]\tvalidation_0-mlogloss:0.464548\tvalidation_1-mlogloss:0.492684\n",
      "[188]\tvalidation_0-mlogloss:0.464467\tvalidation_1-mlogloss:0.492697\n",
      "[189]\tvalidation_0-mlogloss:0.464378\tvalidation_1-mlogloss:0.492712\n",
      "[190]\tvalidation_0-mlogloss:0.464298\tvalidation_1-mlogloss:0.492718\n",
      "[191]\tvalidation_0-mlogloss:0.46421\tvalidation_1-mlogloss:0.492698\n",
      "[192]\tvalidation_0-mlogloss:0.464124\tvalidation_1-mlogloss:0.492702\n",
      "[193]\tvalidation_0-mlogloss:0.464055\tvalidation_1-mlogloss:0.492679\n",
      "[194]\tvalidation_0-mlogloss:0.463956\tvalidation_1-mlogloss:0.492711\n",
      "[195]\tvalidation_0-mlogloss:0.463893\tvalidation_1-mlogloss:0.492706\n",
      "[196]\tvalidation_0-mlogloss:0.463821\tvalidation_1-mlogloss:0.492696\n",
      "[197]\tvalidation_0-mlogloss:0.463766\tvalidation_1-mlogloss:0.492722\n",
      "[198]\tvalidation_0-mlogloss:0.463729\tvalidation_1-mlogloss:0.492728\n",
      "[199]\tvalidation_0-mlogloss:0.463669\tvalidation_1-mlogloss:0.492737\n",
      "[200]\tvalidation_0-mlogloss:0.463576\tvalidation_1-mlogloss:0.492737\n",
      "[201]\tvalidation_0-mlogloss:0.463526\tvalidation_1-mlogloss:0.492714\n",
      "[202]\tvalidation_0-mlogloss:0.463458\tvalidation_1-mlogloss:0.492758\n",
      "[203]\tvalidation_0-mlogloss:0.463412\tvalidation_1-mlogloss:0.492749\n",
      "[204]\tvalidation_0-mlogloss:0.463281\tvalidation_1-mlogloss:0.492733\n",
      "[205]\tvalidation_0-mlogloss:0.463224\tvalidation_1-mlogloss:0.492704\n",
      "[206]\tvalidation_0-mlogloss:0.463143\tvalidation_1-mlogloss:0.492726\n",
      "[207]\tvalidation_0-mlogloss:0.463064\tvalidation_1-mlogloss:0.492718\n",
      "[208]\tvalidation_0-mlogloss:0.463026\tvalidation_1-mlogloss:0.492746\n",
      "[209]\tvalidation_0-mlogloss:0.462953\tvalidation_1-mlogloss:0.492756\n",
      "[210]\tvalidation_0-mlogloss:0.462877\tvalidation_1-mlogloss:0.492833\n",
      "[211]\tvalidation_0-mlogloss:0.462827\tvalidation_1-mlogloss:0.492848\n",
      "[212]\tvalidation_0-mlogloss:0.462762\tvalidation_1-mlogloss:0.492831\n",
      "[213]\tvalidation_0-mlogloss:0.462703\tvalidation_1-mlogloss:0.492828\n",
      "[214]\tvalidation_0-mlogloss:0.462632\tvalidation_1-mlogloss:0.492821\n",
      "[215]\tvalidation_0-mlogloss:0.462587\tvalidation_1-mlogloss:0.492808\n",
      "[216]\tvalidation_0-mlogloss:0.462472\tvalidation_1-mlogloss:0.492862\n",
      "[217]\tvalidation_0-mlogloss:0.462412\tvalidation_1-mlogloss:0.492918\n",
      "Stopping. Best iteration:\n",
      "[167]\tvalidation_0-mlogloss:0.466288\tvalidation_1-mlogloss:0.492522\n",
      "\n"
     ]
    },
    {
     "data": {
      "image/png": "[encoded data removed]",
      "text/plain": [
       "<Figure size 720x576 with 2 Axes>"
      ]
     },
     "metadata": {},
     "output_type": "display_data"
    }
   ],
   "source": [
    "import xgboost as xgb\n",
    "def gbm_tree(X_train,y_train):\n",
    "    X_train, X_val, y_train, y_val = train_test_split(X_train, y_train, stratify=y_train,test_size=0.3, random_state=218)\n",
    "    gbm = xgb.XGBRegressor( \n",
    "                           n_estimators=3000, #arbitrary large number\n",
    "                           max_depth=3,\n",
    "                           objective=\"multi:softprob\",\n",
    "                           learning_rate=.1, \n",
    "                           subsample=1,\n",
    "                           min_child_weight=1,\n",
    "                           colsample_bytree=.5,  \n",
    "                           num_class=4\n",
    "                          )\n",
    "\n",
    "    eval_set=[(X_train,y_train),(X_val,y_val)] #tracking train/validation error as we go\n",
    "    gbm.fit( \n",
    "            X_train, y_train, \n",
    "            eval_set=eval_set,\n",
    "            eval_metric='mlogloss',\n",
    "            early_stopping_rounds=50,\n",
    "            verbose=True #gives output log as below\n",
    "    )\n",
    "    y_pred = gbm.predict(X_test, ntree_limit=gbm.best_ntree_limit).argmax(axis=1)\n",
    "    plot_confusion_matrix(y_test,y_pred)\n",
    "\n",
    "    return \n",
    "gbm = gbm_tree(X_train,y_train)"
   ]
  },
  {
   "cell_type": "code",
   "execution_count": null,
   "metadata": {},
   "outputs": [],
   "source": []
  },
  {
   "cell_type": "code",
   "execution_count": 16,
   "metadata": {},
   "outputs": [
    {
     "data": {
      "text/plain": [
       "(12144, 4)"
      ]
     },
     "execution_count": 16,
     "metadata": {},
     "output_type": "execute_result"
    }
   ],
   "source": []
  },
  {
   "cell_type": "code",
   "execution_count": 17,
   "metadata": {},
   "outputs": [
    {
     "data": {
      "text/plain": [
       "(12144,)"
      ]
     },
     "execution_count": 17,
     "metadata": {},
     "output_type": "execute_result"
    }
   ],
   "source": [
    "y"
   ]
  },
  {
   "cell_type": "code",
   "execution_count": null,
   "metadata": {},
   "outputs": [],
   "source": []
  },
  {
   "cell_type": "code",
   "execution_count": null,
   "metadata": {},
   "outputs": [],
   "source": []
  },
  {
   "cell_type": "code",
   "execution_count": null,
   "metadata": {},
   "outputs": [],
   "source": []
  },
  {
   "cell_type": "code",
   "execution_count": null,
   "metadata": {},
   "outputs": [],
   "source": []
  },
  {
   "cell_type": "code",
   "execution_count": null,
   "metadata": {},
   "outputs": [],
   "source": [
    "# def predict_test_labels(model):\n",
    "#     N = 5000\n",
    "#     y_pred = model.predict(X_train[0:N])\n",
    "#     primary_train = y_pred[:,2]\n",
    "#     primary_test = y_train['clear'][0:N].values\n",
    "#     plt.scatter(primary_train,primary_test)\n",
    "#     plt.show()\n",
    "# predict_test_labels(model2)"
   ]
  },
  {
   "cell_type": "code",
   "execution_count": null,
   "metadata": {},
   "outputs": [],
   "source": []
  },
  {
   "cell_type": "code",
   "execution_count": null,
   "metadata": {},
   "outputs": [],
   "source": []
  },
  {
   "cell_type": "code",
   "execution_count": null,
   "metadata": {},
   "outputs": [],
   "source": [
    "y_test.head()"
   ]
  },
  {
   "cell_type": "code",
   "execution_count": null,
   "metadata": {},
   "outputs": [],
   "source": []
  },
  {
   "cell_type": "markdown",
   "metadata": {},
   "source": [
    "y_pred"
   ]
  },
  {
   "cell_type": "code",
   "execution_count": null,
   "metadata": {},
   "outputs": [],
   "source": []
  },
  {
   "cell_type": "code",
   "execution_count": null,
   "metadata": {},
   "outputs": [],
   "source": [
    "from keras.wrappers.scikit_learn import KerasClassifier\n",
    "\n",
    "estimator = KerasClassifier(build_fn=baseline_model, epochs=200, batch_size=5, verbose=0)\n",
    "kfold = KFold(n_splits=10, shuffle=True, random_state=123)\n",
    "results = cross_val_score(estimator, X, y cv=kfold)\n",
    "print(\"Baseline: %.2f%% (%.2f%%)\" % (results.mean()*100, results.std()*100))"
   ]
  },
  {
   "cell_type": "markdown",
   "metadata": {},
   "source": [
    "#### Appendix\n",
    "version 1 - single layer\n",
    "```python\n",
    "def build_layers():\n",
    "    \"\"\"32 filters of size 12x12\n",
    "        input image size 256 x 256, 3 for RGB\n",
    "    \"\"\"\n",
    "    no_features = 17\n",
    "    model = Sequential()\n",
    "    model.add(Conv2D(32, kernel_size=(12,12), activation = 'relu',input_shape = (256, 256, 3)))\n",
    "    model.add(MaxPooling2D(pool_size = (2, 2)))\n",
    "    model.add(Flatten())\n",
    "    model.add(Dense(units = no_features, activation = 'sigmoid'))\n",
    "    return model\n",
    "```\n"
   ]
  },
  {
   "cell_type": "code",
   "execution_count": null,
   "metadata": {},
   "outputs": [],
   "source": []
  }
 ],
 "metadata": {
  "kernelspec": {
   "display_name": "Python [conda env:tensorflow_p36]",
   "language": "python",
   "name": "conda-env-tensorflow_p36-py"
  },
  "language_info": {
   "codemirror_mode": {
    "name": "ipython",
    "version": 3
   },
   "file_extension": ".py",
   "mimetype": "text/x-python",
   "name": "python",
   "nbconvert_exporter": "python",
   "pygments_lexer": "ipython3",
   "version": "3.6.4"
  }
 },
 "nbformat": 4,
 "nbformat_minor": 2
}
