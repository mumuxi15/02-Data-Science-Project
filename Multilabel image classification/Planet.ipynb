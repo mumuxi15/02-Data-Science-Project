{
 "cells": [
  {
   "cell_type": "markdown",
   "metadata": {},
   "source": [
    "#### Kaggle competition\n",
    "\n",
    "Label satellite image chips with atmospheric conditions and various classes of land cover/land use. Resulting algorithms will help the global community better understand where, how, and why deforestation happens all over the world - and ultimately how to respond\n",
    "\n",
    "\n",
    "#### What the data looks like ? \n",
    "Train-jpg: 40K+ satelite photos <br>\n",
    "train_v2: (image_name, tags) Unique tags 449 <br>\n",
    "So this is a multilabel image classification problem\n",
    "\n",
    "#### Challenge\n",
    "Unlike dog and cat image recognition, the image set are very similar in colors\n",
    "```terminal\n",
    "nvidia-smi CUDA # monitoring\n",
    "source activate tensorflow_p36\n",
    "```\n",
    "\n",
    "#### Kaggle Evaluation - F2 SCORE\n",
    "F2 is used to evaluate how good the model is and has a formula given below\n",
    "\n",
    "$F_{2} = (1+β^{2})\\frac{pr}{β^{2}p+r}$\n",
    "\n",
    "\n",
    ",where *p* is precision, *r* is recall and β=2 \n"
   ]
  },
  {
   "cell_type": "code",
   "execution_count": 1,
   "metadata": {},
   "outputs": [
    {
     "name": "stderr",
     "output_type": "stream",
     "text": [
      "/home/ubuntu/anaconda3/envs/tensorflow_p36/lib/python3.6/site-packages/h5py/__init__.py:36: FutureWarning: Conversion of the second argument of issubdtype from `float` to `np.floating` is deprecated. In future, it will be treated as `np.float64 == np.dtype(float).type`.\n",
      "  from ._conv import register_converters as _register_converters\n",
      "Using TensorFlow backend.\n"
     ]
    }
   ],
   "source": [
    "from sklearn.model_selection import train_test_split\n",
    "from keras.preprocessing.text import Tokenizer\n",
    "import matplotlib.pyplot as plt\n",
    "from scipy.stats import norm\n",
    "import keras.backend as K\n",
    "import numpy as np\n",
    "import pandas as pd\n",
    "import seaborn as sns\n",
    "import math, glob, os\n",
    "import operator, pickle\n",
    "import cv2"
   ]
  },
  {
   "cell_type": "code",
   "execution_count": 2,
   "metadata": {},
   "outputs": [],
   "source": [
    "kaggle_path = '/home/ubuntu/.kaggle/competitions/planet-understanding-the-amazon-from-space/'\n",
    "# kaggle_path = '/Users/mumuxi/.kaggle/competitions/planet-understanding-the-amazon-from-space/'\n",
    "\n",
    "def get_multitags(plot=False):\n",
    "    texts = pd.read_csv(kaggle_path+'train_v2.csv').tags.tolist()\n",
    "    tokenizer = Tokenizer(filters = '\"(),./:~')\n",
    "    tokenizer.fit_on_texts(texts)\n",
    "    M  = tokenizer.texts_to_matrix(texts, mode='count')\n",
    "    df = pd.DataFrame(data=M,columns=['0']+list(tokenizer.word_index.keys()))\n",
    "    cols = df.columns.tolist()\n",
    "    df = df[cols[-1:] + cols[1:-1]]\n",
    "    if plot:\n",
    "        corr = df.corr()\n",
    "        fig=plt.figure(figsize=(10, 8))\n",
    "        sns.heatmap(corr)\n",
    "    return df\n",
    "\n",
    "df_label = get_multitags()"
   ]
  },
  {
   "cell_type": "code",
   "execution_count": 3,
   "metadata": {},
   "outputs": [
    {
     "data": {
      "text/plain": [
       "Index(['conventional_mine', 'primary', 'clear', 'agriculture', 'road', 'water',\n",
       "       'partly_cloudy', 'cultivation', 'habitation', 'haze', 'cloudy',\n",
       "       'bare_ground', 'selective_logging', 'artisinal_mine', 'blooming',\n",
       "       'slash_burn', 'blow_down'],\n",
       "      dtype='object')"
      ]
     },
     "execution_count": 3,
     "metadata": {},
     "output_type": "execute_result"
    }
   ],
   "source": [
    "# df_label.columns"
   ]
  },
  {
   "cell_type": "markdown",
   "metadata": {},
   "source": [
    "### Preprocess Image\n",
    "#### 1. Calculate haze degree\n",
    "Source: [Detecting Foggy Images and Estimating the Haze Degree Factor](https://www.omicsonline.org/open-access/detecting-foggy-images-and-estimating-the-haze-degree-factor-jcsb.1000226.pdf)\n",
    "\n",
    "Define haze degree as w, where w is a number between (0,1). Smaller w indicates a clearer image while haze images have greater w.  For example, w greater than 0.7 means 80%-100% of the image area is hazed.\n",
    "\n",
    "#### 2. Dehaze images\n",
    "Source: [Single Image Haze Removal Using Dark Channel Prior](http://kaiminghe.com/publications/pami10dehaze.pdf)\n",
    "\n",
    "The following formula is widely used to describe the formation of a haze image\n",
    "\n",
    "$I(x) = J(x)t(x) + A(1-t(x))$\n",
    "\n",
    "where *I* is the observed intensity, *J* represents the original haze-free image to be recovered, *A* is the global atmospheric light, and *t* is an exponential decay distribution .\n",
    "\n",
    "The aim is to recover *J* from *I*. We can achieve that by tuning *t*, as *t* has a formula of\n",
    "\n",
    "$t(x) = 1- w\\times min[min(\\frac{I_{c}(y)}{A^{c}})]$\n",
    ",where *w* is weight coefficient, *c* is the dark channel color (darkest channel of RGB channel)"
   ]
  },
  {
   "cell_type": "code",
   "execution_count": 3,
   "metadata": {},
   "outputs": [],
   "source": [
    "\"\"\"Single image dehazing.\"\"\"\n",
    "class Channel_value:\n",
    "    val = -1.0\n",
    "    intensity = -1.0\n",
    "\n",
    "def find_intensity_of_atmospheric_light(img, gray,img_width=256):\n",
    "    \"\"\"return Atomospheric light A \n",
    "       find brightest pixels in the dark channel and find max intensity\n",
    "    \"\"\"\n",
    "    toplist = [Channel_value()] * 2\n",
    "    dark_channel = find_dark_channel(img)\n",
    "    coords = np.argwhere(img[:,:,dark_channel] == np.max(img[:,:,dark_channel]) )\n",
    "    I = [gray[c[0],c[1]] for c in coords]\n",
    "    return max(I)\n",
    "\n",
    "def find_dark_channel(img): #get darkest RBG channel\n",
    "    return np.unravel_index(np.argmin(img), img.shape)[2]\n",
    "\n",
    "def clamp(minimum, x, maximum):\n",
    "    return max(minimum, min(x, maximum))\n",
    "\n",
    "def dehaze_function(img, light_intensity, windowSize, t0, w,img_width=256):\n",
    "    outimg = np.zeros(img.shape, img.dtype)\n",
    "    for y in range(img_width):\n",
    "        for x in range(img_width):\n",
    "            x_low = max(x-(windowSize//2), 0)\n",
    "            y_low = max(y-(windowSize//2), 0)\n",
    "            x_high = min(x+(windowSize//2), img_width)\n",
    "            y_high = min(y+(windowSize//2), img_width)\n",
    "            sliceimg = img[y_low:y_high, x_low:x_high]\n",
    "            dark_channel = find_dark_channel(sliceimg)\n",
    "            t = 1.0 - (w * img.item(y, x, dark_channel) / light_intensity)\n",
    "            outimg.itemset((y,x,0), clamp(0, ((img.item(y,x,0) - light_intensity) / max(t, t0) + light_intensity), 255))\n",
    "            outimg.itemset((y,x,1), clamp(0, ((img.item(y,x,1) - light_intensity) / max(t, t0) + light_intensity), 255))\n",
    "            outimg.itemset((y,x,2), clamp(0, ((img.item(y,x,2) - light_intensity) / max(t, t0) + light_intensity), 255))\n",
    "    return outimg\n",
    "\n",
    "\n",
    "def dehaze_image(path,w = 0.95, t0 = 0.55):\n",
    "    img = cv2.imread(path)\n",
    "    gray = cv2.cvtColor(img, cv2.COLOR_BGR2GRAY) #image to gray scale\n",
    "    light_intensity = find_intensity_of_atmospheric_light(img, gray)\n",
    "    outimg = dehaze_function(img, light_intensity, 20, t0, w)\n",
    "    return outimg\n",
    "\n",
    "#  %%%%%%%%%%%%%%%%%%%%%%%%%%%%%%%%%%%%%%%%%%%%%%%%%%\n",
    "def display_photo_no(image_id):\n",
    "    img = cv2.imread(kaggle_path+f'train-jpg/train_{image_id}.jpg')\n",
    "    plt.imshow(img)\n"
   ]
  },
  {
   "cell_type": "code",
   "execution_count": 4,
   "metadata": {},
   "outputs": [],
   "source": [
    "miu, v, sigma = 5.1,2.9,.2461\n",
    "def calculate_haziness(img_id):\n",
    "    path = kaggle_path+f'train-jpg/train_{img_id}.jpg'\n",
    "    img = cv2.imread(path)\n",
    "    gray = cv2.cvtColor(img, cv2.COLOR_BGR2GRAY) #image to gray scale\n",
    "    A = find_intensity_of_atmospheric_light(img, gray)\n",
    "    D = img.min(2).sum()/(img.shape[0]*img.shape[1])\n",
    "    B = img.max(2).sum()/(img.shape[0]*img.shape[1])\n",
    "    C = B - D\n",
    "    w = math.e**(-0.5*(miu*(A-D)/A+v*C/A))\n",
    "    return (img_id,w,A)\n",
    "\n",
    "def compare_photos(image_id):\n",
    "    path = kaggle_path+f'train-jpg/train_{image_id}.jpg'\n",
    "    fig=plt.figure(figsize=(5, 8))\n",
    "    ax1 = fig.add_subplot(211)\n",
    "    dehazed_img = dehaze_image(path)\n",
    "    plt.imshow(dehazed_img)\n",
    "    fig.add_subplot(212,sharex=ax1)\n",
    "    display_photo_no(image_id)\n",
    "    plt.show()"
   ]
  },
  {
   "cell_type": "code",
   "execution_count": null,
   "metadata": {},
   "outputs": [],
   "source": [
    "# from multiprocessing import Pool\n",
    "# import pickle\n",
    "\n",
    "# res = []\n",
    "# d = range(0,40479,1)\n",
    "# chunks = [d[x:x+5000] for x in range(0, len(d), 5000)]\n",
    "# pool = Pool(6)\n",
    "# for rang in chunks:\n",
    "#     print (rang)\n",
    "#     res+=pool.map(calculate_haziness,rang)\n",
    "# pool.close()\n",
    "# pool.join()\n",
    "# with open('haze_train.pkl', 'wb') as f:\n",
    "#     pickle.dump(res, f)"
   ]
  },
  {
   "cell_type": "markdown",
   "metadata": {},
   "source": [
    "### 1 Neural Network vanilla model\n",
    "\n",
    "Initialise model as a sequential network. There are two basic ways of initialising a neural network, either by a sequence of layers or as a graph\n",
    "\n",
    "#### 1.1 Load data\n",
    "- opencv convert image to numpy array (256x256x3) 256 pixels 3 RBG channels\n",
    "- train/test split\n",
    "\n",
    "#### 1.2 Model Work Flow\n",
    "1. **Conv2D** \n",
    "    - Images => 2 D arrays\n",
    "    - Videos => Convolution 3-D \n",
    "    \n",
    "    \n",
    "2. **MaxPooling2D**:<br> The primary aim of a pooling operation is to reduce the size of the images. Different types of pooling operations like Min Pooling, Mean Pooling, etc. Here in MaxPooling we need the maximum value pixel from the respective region of interest.\n",
    "\n",
    "\n",
    "3. **Flatten**:<br> Flattening is the process of converting all the resultant 2 dimensional arrays into a continuous vector.\n",
    "\n",
    "\n",
    "4. **Dense** \n",
    "    - units: no nodes in the hidden layer\n",
    "5. **Compile**\n",
    "    - Optimizer:  stochastic gradient descent algorithm\n",
    "    - Loss: loss function\n",
    "    - Metrics: performance metric"
   ]
  },
  {
   "cell_type": "code",
   "execution_count": 19,
   "metadata": {},
   "outputs": [],
   "source": [
    "from keras.models import Sequential\n",
    "from keras.layers import Conv2D, MaxPooling2D, Flatten, Dense, Activation, Dropout,BatchNormalization\n",
    "from keras.initializers import glorot_normal, RandomNormal, Zeros"
   ]
  },
  {
   "cell_type": "code",
   "execution_count": 8,
   "metadata": {},
   "outputs": [
    {
     "name": "stdout",
     "output_type": "stream",
     "text": [
      "(12144, 256, 256, 3) (12144, 17)\n"
     ]
    }
   ],
   "source": [
    "def load_train_test(train_ids,test_ids):\n",
    "    read = lambda i: cv2.imread(kaggle_path+f'train-jpg/train_{i}.jpg')\n",
    "    train_array = np.array(list(map(read,train_ids)))\n",
    "    test_array = np.array(list(map(read,test_ids)))\n",
    "    return train_array,test_array\n",
    "\n",
    "y_train, y_test = train_test_split(df_label, test_size=0.3,random_state=1404)\n",
    "X_train, X_test = load_train_test(y_train.index.tolist(),y_test.index.tolist())\n",
    "print (X_test.shape,y_test.shape)"
   ]
  },
  {
   "cell_type": "code",
   "execution_count": 9,
   "metadata": {},
   "outputs": [],
   "source": [
    "def build_layers():\n",
    "    model = Sequential()\n",
    "    model.add(Conv2D(32, (3, 3),activation = 'relu', input_shape = (256, 256, 3)))\n",
    "    model.add(BatchNormalization())\n",
    "    model.add(MaxPooling2D(pool_size=(3, 2)))\n",
    "    \n",
    "    model.add(Conv2D(32, (3, 3),activation = 'relu'))\n",
    "    model.add(BatchNormalization())\n",
    "    model.add(MaxPooling2D(pool_size=(3, 2)))\n",
    "\n",
    "    model.add(Conv2D(32, (3, 3),activation = 'relu'))\n",
    "    model.add(BatchNormalization())\n",
    "    model.add(MaxPooling2D(pool_size=(3, 2)))\n",
    "\n",
    "    model.add(Flatten())\n",
    "    model.add(Dense(32))\n",
    "    model.add(Activation('relu'))\n",
    "    model.add(BatchNormalization())\n",
    "    model.add(Dropout(0.2))\n",
    "    model.add(Dense(17))\n",
    "    model.add(Activation('sigmoid'))\n",
    "#     model.summary()\n",
    "    return model"
   ]
  },
  {
   "cell_type": "code",
   "execution_count": 4,
   "metadata": {},
   "outputs": [],
   "source": [
    "\"\"\" Define matrice functions \"\"\"\n",
    "def precision(y_true,y_pred):\n",
    "    true_positives = K.sum(K.round(K.clip(y_true * y_pred, 0, 1)))\n",
    "    predicted_positives = K.sum(K.round(K.clip(y_pred, 0, 1)))\n",
    "    precision = true_positives / (predicted_positives + K.epsilon())\n",
    "    return precision\n",
    "\n",
    "def recall(y_true,y_pred):\n",
    "    true_positives = K.sum(K.round(K.clip(y_true * y_pred, 0, 1)))\n",
    "    possible_positives = K.sum(K.round(K.clip(y_true, 0, 1)))\n",
    "    recall = true_positives / (possible_positives + K.epsilon())\n",
    "    return recall\n",
    "    \n",
    "def F2_score(y_true, y_pred):\n",
    "    true_positives = K.sum(K.round(K.clip(y_true * y_pred, 0, 1)))\n",
    "    predicted_positives = K.sum(K.round(K.clip(y_pred, 0, 1)))\n",
    "    precision = true_positives / (predicted_positives + K.epsilon())\n",
    "    \n",
    "    true_positives = K.sum(K.round(K.clip(y_true * y_pred, 0, 1)))\n",
    "    possible_positives = K.sum(K.round(K.clip(y_true, 0, 1)))\n",
    "    recall = true_positives / (possible_positives + K.epsilon())\n",
    "    return (1+4)*precision*recall/(4*precision+recall)\n",
    "\n",
    "def build_model():\n",
    "    model = build_layers()\n",
    "    model.compile(optimizer = 'adam', loss = 'categorical_crossentropy', \n",
    "                  metrics = ['accuracy',F2_score])\n",
    "    return model\n",
    "\n",
    "def train_model():\n",
    "    model = build_model()\n",
    "    model.fit(X_train, y_train, epochs=2, batch_size=50,validation_data=(X_test, y_test))\n",
    "    score = model.evaluate(X_test, y_test, verbose=0)\n",
    "    print('Test loss: %.3f  accuracy: %.3f F2 score: %.3f.' %(score[0],score[1],score[2]))\n",
    "    return model\n",
    "    "
   ]
  },
  {
   "cell_type": "code",
   "execution_count": null,
   "metadata": {},
   "outputs": [
    {
     "name": "stdout",
     "output_type": "stream",
     "text": [
      "Train on 28335 samples, validate on 12144 samples\n",
      "Epoch 1/2\n",
      "28335/28335 [==============================] - 128s 5ms/step - loss: 5.9307 - acc: 0.2844 - F2_score: 0.6554 - val_loss: 5.5013 - val_acc: 0.8709 - val_F2_score: 0.5387\n",
      "Epoch 2/2\n",
      "28335/28335 [==============================] - 127s 4ms/step - loss: 5.0636 - acc: 0.6142 - F2_score: 0.7116 - val_loss: 5.1653 - val_acc: 0.6509 - val_F2_score: 0.6734\n"
     ]
    }
   ],
   "source": [
    "model = train_model()\n"
   ]
  },
  {
   "cell_type": "markdown",
   "metadata": {},
   "source": [
    "#### 1.3 Implementation\n",
    "Build different models and test\n",
    "F2 | prec  |  recall\n",
    "_________________________\n",
    "\n",
    "0.70 | 0.47 | 0.75 | model 2 Test F2: 0.754 - multi layers\n",
    "\n",
    "0.00 | 0.00 | 0.00 | model 3 - haze free\n",
    "\n",
    "-  Divide labels to 2 categories.\n",
    "    - weather labels\n",
    "    - non-weather labels\n",
    "-  Run model on haze free images\n",
    "\n"
   ]
  },
  {
   "cell_type": "markdown",
   "metadata": {},
   "source": [
    "### Predict weather labels \n",
    "- Predict clear,haze,partly_cloudy,cloudy tags\n",
    "- Define weather_tags = \\['clear','haze','partly_cloudy','cloudy'\\]\n",
    "\n",
    "We test if the weather labels are independent. In other words, if image only has 1 label from (clear,haze,partly_cloudy,cloudy)\n",
    "```python\n",
    "def test():\n",
    "    y = df_label[weather_tags].copy()\n",
    "    y.columns=[1,2,3,4]\n",
    "    y['sum'] = y.sum(axis=1)\n",
    "    return y[y['sum']!=1]  \n",
    "```\n",
    "All train images contains 1 weather label, except train_img2448.jpg has none"
   ]
  },
  {
   "cell_type": "code",
   "execution_count": 119,
   "metadata": {},
   "outputs": [
    {
     "name": "stdout",
     "output_type": "stream",
     "text": [
      "            water\n"
     ]
    },
    {
     "data": {
      "image/png": "[encoded data removed]",
      "text/plain": [
       "<Figure size 432x288 with 1 Axes>"
      ]
     },
     "metadata": {},
     "output_type": "display_data"
    }
   ],
   "source": [
    "print ('            water')\n",
    "display_photo_no(24448)"
   ]
  },
  {
   "cell_type": "code",
   "execution_count": 120,
   "metadata": {},
   "outputs": [],
   "source": [
    "from sklearn.linear_model import LogisticRegression\n",
    "from sklearn.ensemble import RandomForestClassifier\n",
    "from sklearn.metrics import confusion_matrix"
   ]
  },
  {
   "cell_type": "code",
   "execution_count": 110,
   "metadata": {},
   "outputs": [],
   "source": [
    "weather_tags = ['clear','haze','partly_cloudy','cloudy']\n",
    "\n",
    "def load_test_train():\n",
    "    df_w = pd.DataFrame(data=pickle.load(open(\"haze_train.pkl\", \"rb\" )),columns=['id','w','A'])\n",
    "    y = df_label[weather_tags].copy()\n",
    "    y.columns=[1,2,3,4]\n",
    "    y = pd.get_dummies(y).idxmax(1)\n",
    "    X_train,X_test,y_train,y_test = train_test_split(df_w[['w','A']],y,stratify=y,test_size=0.3,random_state=1404)\n",
    "    return X_train,X_test,y_train,y_test\n",
    "\n",
    "def plot_confusion_matrix(y_test,y_pred):\n",
    "    M = confusion_matrix(y_test,y_pred)\n",
    "    M = M/M.sum(axis=1)[:,None]\n",
    "    plt.figure(figsize=(10, 8))\n",
    "    ax = sns.heatmap(M, annot=True,fmt='.0%',cmap=\"YlGnBu\")\n",
    "    ax.set_xticklabels(weather_tags)\n",
    "    ax.set_yticklabels(weather_tags)\n",
    "    plt.show()\n",
    "    \n",
    "X_train,X_test,y_train,y_test = load_test_train()"
   ]
  },
  {
   "cell_type": "code",
   "execution_count": 111,
   "metadata": {},
   "outputs": [
    {
     "data": {
      "image/png": "[encoded data removed]",
      "text/plain": [
       "<Figure size 720x576 with 2 Axes>"
      ]
     },
     "metadata": {},
     "output_type": "display_data"
    }
   ],
   "source": [
    "def multi_class_logistic():\n",
    "    lgr = LogisticRegression(multi_class=\"multinomial\",solver='newton-cg')\n",
    "    lgr.fit(X_train, y_train)\n",
    "    y_pred = lgr.predict(X_test)\n",
    "    plot_confusion_matrix(y_test,y_pred)\n",
    "    \n",
    "multi_class_logistic()"
   ]
  },
  {
   "cell_type": "code",
   "execution_count": 122,
   "metadata": {},
   "outputs": [
    {
     "data": {
      "image/png": "[encoded data removed]",
      "text/plain": [
       "<Figure size 720x576 with 2 Axes>"
      ]
     },
     "metadata": {},
     "output_type": "display_data"
    }
   ],
   "source": [
    "def random_forest():\n",
    "    rf = RandomForestClassifier()\n",
    "    rf.fit(X_train, y_train)\n",
    "    y_pred = rf.predict(X_test)\n",
    "    plot_confusion_matrix(y_test,y_pred)\n",
    "    \n",
    "random_forest()\n"
   ]
  },
  {
   "cell_type": "code",
   "execution_count": null,
   "metadata": {},
   "outputs": [],
   "source": [
    "df_label.head()"
   ]
  },
  {
   "cell_type": "code",
   "execution_count": null,
   "metadata": {},
   "outputs": [],
   "source": [
    "\"\"\" Random Forest.\n",
    "Implement Random Forest algorithm with TensorFlow, and apply it to classify \n",
    "handwritten digit images. This example is using the MNIST database of \n",
    "handwritten digits as training samples (http://yann.lecun.com/exdb/mnist/).\n",
    "Author: Aymeric Damien\n",
    "Project: https://github.com/aymericdamien/TensorFlow-Examples/\n",
    "\"\"\"\n",
    "\n",
    "from __future__ import print_function\n",
    "\n",
    "import tensorflow as tf\n",
    "from tensorflow.contrib.tensor_forest.python import tensor_forest\n",
    "from tensorflow.python.ops import resources\n",
    "\n",
    "# Ignore all GPUs, tf random forest does not benefit from it.\n",
    "import os\n",
    "os.environ[\"CUDA_VISIBLE_DEVICES\"] = \"\"\n",
    "\n",
    "# Import MNIST data\n",
    "from tensorflow.examples.tutorials.mnist import input_data\n",
    "mnist = input_data.read_data_sets(\"/tmp/data/\", one_hot=False)\n",
    "\n",
    "# Parameters\n",
    "num_steps = 500 # Total steps to train\n",
    "batch_size = 1024 # The number of samples per batch\n",
    "num_classes = 10 # The 10 digits\n",
    "num_features = 784 # Each image is 28x28 pixels\n",
    "num_trees = 10\n",
    "max_nodes = 1000\n",
    "\n",
    "# Input and Target data\n",
    "X = tf.placeholder(tf.float32, shape=[None, num_features])\n",
    "# For random forest, labels must be integers (the class id)\n",
    "Y = tf.placeholder(tf.int32, shape=[None])\n",
    "\n",
    "# Random Forest Parameters\n",
    "hparams = tensor_forest.ForestHParams(num_classes=num_classes,\n",
    "                                      num_features=num_features,\n",
    "                                      num_trees=num_trees,\n",
    "                                      max_nodes=max_nodes).fill()\n",
    "\n",
    "# Build the Random Forest\n",
    "forest_graph = tensor_forest.RandomForestGraphs(hparams)\n",
    "# Get training graph and loss\n",
    "train_op = forest_graph.training_graph(X, Y)\n",
    "loss_op = forest_graph.training_loss(X, Y)\n",
    "\n",
    "# Measure the accuracy\n",
    "infer_op, _, _ = forest_graph.inference_graph(X)\n",
    "correct_prediction = tf.equal(tf.argmax(infer_op, 1), tf.cast(Y, tf.int64))\n",
    "accuracy_op = tf.reduce_mean(tf.cast(correct_prediction, tf.float32))\n",
    "\n",
    "# Initialize the variables (i.e. assign their default value) and forest resources\n",
    "init_vars = tf.group(tf.global_variables_initializer(),\n",
    "    resources.initialize_resources(resources.shared_resources()))\n",
    "\n",
    "# Start TensorFlow session\n",
    "sess = tf.Session()\n",
    "\n",
    "# Run the initializer\n",
    "sess.run(init_vars)\n",
    "\n",
    "# Training\n",
    "for i in range(1, num_steps + 1):\n",
    "    # Prepare Data\n",
    "    # Get the next batch of MNIST data (only images are needed, not labels)\n",
    "    batch_x, batch_y = mnist.train.next_batch(batch_size)\n",
    "    _, l = sess.run([train_op, loss_op], feed_dict={X: batch_x, Y: batch_y})\n",
    "    if i % 50 == 0 or i == 1:\n",
    "        acc = sess.run(accuracy_op, feed_dict={X: batch_x, Y: batch_y})\n",
    "        print('Step %i, Loss: %f, Acc: %f' % (i, l, acc))\n",
    "\n",
    "# Test Model\n",
    "test_x, test_y = mnist.test.images, mnist.test.labels\n",
    "print(\"Test Accuracy:\", sess.run(accuracy_op, feed_dict={X: test_x, Y: test_y}))"
   ]
  },
  {
   "cell_type": "code",
   "execution_count": null,
   "metadata": {},
   "outputs": [],
   "source": []
  },
  {
   "cell_type": "code",
   "execution_count": null,
   "metadata": {},
   "outputs": [],
   "source": []
  },
  {
   "cell_type": "code",
   "execution_count": null,
   "metadata": {},
   "outputs": [],
   "source": []
  },
  {
   "cell_type": "code",
   "execution_count": null,
   "metadata": {},
   "outputs": [],
   "source": []
  },
  {
   "cell_type": "code",
   "execution_count": null,
   "metadata": {},
   "outputs": [],
   "source": []
  },
  {
   "cell_type": "code",
   "execution_count": null,
   "metadata": {},
   "outputs": [],
   "source": []
  },
  {
   "cell_type": "code",
   "execution_count": null,
   "metadata": {},
   "outputs": [],
   "source": []
  },
  {
   "cell_type": "code",
   "execution_count": null,
   "metadata": {},
   "outputs": [],
   "source": [
    "# def predict_test_labels(model):\n",
    "#     N = 5000\n",
    "#     y_pred = model.predict(X_train[0:N])\n",
    "#     primary_train = y_pred[:,2]\n",
    "#     primary_test = y_train['clear'][0:N].values\n",
    "#     plt.scatter(primary_train,primary_test)\n",
    "#     plt.show()\n",
    "# predict_test_labels(model2)"
   ]
  },
  {
   "cell_type": "code",
   "execution_count": null,
   "metadata": {},
   "outputs": [],
   "source": []
  },
  {
   "cell_type": "code",
   "execution_count": null,
   "metadata": {},
   "outputs": [],
   "source": []
  },
  {
   "cell_type": "code",
   "execution_count": null,
   "metadata": {},
   "outputs": [],
   "source": [
    "y_test.head()"
   ]
  },
  {
   "cell_type": "code",
   "execution_count": null,
   "metadata": {},
   "outputs": [],
   "source": []
  },
  {
   "cell_type": "markdown",
   "metadata": {},
   "source": [
    "y_pred"
   ]
  },
  {
   "cell_type": "code",
   "execution_count": null,
   "metadata": {},
   "outputs": [],
   "source": []
  },
  {
   "cell_type": "code",
   "execution_count": null,
   "metadata": {},
   "outputs": [],
   "source": [
    "from keras.wrappers.scikit_learn import KerasClassifier\n",
    "\n",
    "estimator = KerasClassifier(build_fn=baseline_model, epochs=200, batch_size=5, verbose=0)\n",
    "kfold = KFold(n_splits=10, shuffle=True, random_state=123)\n",
    "results = cross_val_score(estimator, X, y cv=kfold)\n",
    "print(\"Baseline: %.2f%% (%.2f%%)\" % (results.mean()*100, results.std()*100))"
   ]
  },
  {
   "cell_type": "markdown",
   "metadata": {},
   "source": [
    "#### Appendix\n",
    "version 1 - single layer\n",
    "```python\n",
    "def build_layers():\n",
    "    \"\"\"32 filters of size 12x12\n",
    "        input image size 256 x 256, 3 for RGB\n",
    "    \"\"\"\n",
    "    no_features = 17\n",
    "    model = Sequential()\n",
    "    model.add(Conv2D(32, kernel_size=(12,12), activation = 'relu',input_shape = (256, 256, 3)))\n",
    "    model.add(MaxPooling2D(pool_size = (2, 2)))\n",
    "    model.add(Flatten())\n",
    "    model.add(Dense(units = no_features, activation = 'sigmoid'))\n",
    "    return model\n",
    "```\n"
   ]
  },
  {
   "cell_type": "code",
   "execution_count": null,
   "metadata": {},
   "outputs": [],
   "source": []
  }
 ],
 "metadata": {
  "kernelspec": {
   "display_name": "Python [conda env:tensorflow_p36]",
   "language": "python",
   "name": "conda-env-tensorflow_p36-py"
  },
  "language_info": {
   "codemirror_mode": {
    "name": "ipython",
    "version": 3
   },
   "file_extension": ".py",
   "mimetype": "text/x-python",
   "name": "python",
   "nbconvert_exporter": "python",
   "pygments_lexer": "ipython3",
   "version": "3.6.4"
  }
 },
 "nbformat": 4,
 "nbformat_minor": 2
}
