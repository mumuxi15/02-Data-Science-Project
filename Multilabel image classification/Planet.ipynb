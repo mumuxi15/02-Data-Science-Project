{
 "cells": [
  {
   "cell_type": "markdown",
   "metadata": {},
   "source": [
    "#### Kaggle competition\n",
    "\n",
    "- Label satellite image chips with atmospheric conditions and various classes of land cover/land use.\n",
    "- Each chip will have one atmospheric label and zero or more common and rare labels\n",
    "- 17 Unique labels, 4 weather labels and 13 land use labels\n",
    "\n",
    "#### What the data looks like ?\n",
    "Please check EDA.ipynb for EDA part <br>\n",
    "<img style=\"float:left; width:600px; display: block;margin-right: 350px\" src=\"img/eg1.jpg\" />\n",
    "\n",
    "#### Challenge\n",
    "Unlike dog and cat image recognition, the image set are very similar in colors\n",
    "Labels are highly imbalanced with a few labelling errors\n",
    "\n",
    "#### Environment\n",
    "```terminal\n",
    "source activate tensorflow_p36\n",
    "```\n",
    "\n",
    "#### Kaggle Evaluation - F2 SCORE\n",
    "F2 is used to evaluate how good the model is and has a formula given below\n",
    "\n",
    "$F_{2} = (1+β^{2})\\frac{pr}{β^{2}p+r}$\n",
    "\n",
    "\n",
    ",where *p* is precision, *r* is recall and β=2 \n",
    "<br>\n",
    "\n",
    "\n",
    "\n",
    "shortcuts (this is a quick start for me for me, ignore if you are reading it )\n",
    "```terminal\n",
    "cd ~/Desktop/metis_proj\n",
    "source activate tensorflow_p36\n",
    "jupyter notebook\n",
    "```"
   ]
  },
  {
   "cell_type": "code",
   "execution_count": 77,
   "metadata": {},
   "outputs": [],
   "source": [
    "from sklearn.metrics import confusion_matrix,precision_recall_fscore_support, coverage_error\n",
    "from sklearn.model_selection import train_test_split\n",
    "from sklearn.linear_model import LogisticRegression\n",
    "from sklearn.ensemble import RandomForestClassifier\n",
    "from keras.preprocessing.text import Tokenizer\n",
    "import matplotlib.pyplot as plt\n",
    "import keras.backend as K\n",
    "import numpy as np\n",
    "import pandas as pd\n",
    "import seaborn as sns\n",
    "import xgboost as xgb\n",
    "import math, glob, os\n",
    "import operator, pickle\n",
    "import cv2\n"
   ]
  },
  {
   "cell_type": "markdown",
   "metadata": {},
   "source": [
    "#### Read in labels and convert text labels to count vectors\n",
    "- df_labels shape = (40479, 17)\n",
    "- total train size 40479 with 17 unique label tags"
   ]
  },
  {
   "cell_type": "code",
   "execution_count": 78,
   "metadata": {},
   "outputs": [],
   "source": [
    "\"\"\"GLOBAL VARIABLE\"\"\"\n",
    "kaggle_path = '/home/ubuntu/.kaggle/competitions/planet-understanding-the-amazon-from-space/'\n",
    "# kaggle_path = '/Users/mumuxi/.kaggle/competitions/planet-understanding-the-amazon-from-space/'\n",
    "\n",
    "def get_multitags(plot=False):\n",
    "    texts = pd.read_csv(kaggle_path+'train_v2.csv').tags.tolist()\n",
    "    tokenizer = Tokenizer(filters = '\"(),./:~')\n",
    "    tokenizer.fit_on_texts(texts)\n",
    "    M  = tokenizer.texts_to_matrix(texts, mode='count')\n",
    "    df = pd.DataFrame(data=M,columns=['0']+list(tokenizer.word_index.keys()))\n",
    "    cols = df.columns.tolist()\n",
    "    df = df[cols[-1:] + cols[1:-1]]\n",
    "    df = df.where(df <= 1, 1) #some photos cultivation appreared twice\n",
    "    if plot:\n",
    "        corr = df.corr()\n",
    "        fig=plt.figure(figsize=(10, 8))\n",
    "        sns.heatmap(corr)\n",
    "    return df\n",
    "\n",
    "df_label = get_multitags()"
   ]
  },
  {
   "cell_type": "code",
   "execution_count": 80,
   "metadata": {},
   "outputs": [
    {
     "data": {
      "text/html": [
       "<div>\n",
       "<style scoped>\n",
       "    .dataframe tbody tr th:only-of-type {\n",
       "        vertical-align: middle;\n",
       "    }\n",
       "\n",
       "    .dataframe tbody tr th {\n",
       "        vertical-align: top;\n",
       "    }\n",
       "\n",
       "    .dataframe thead th {\n",
       "        text-align: right;\n",
       "    }\n",
       "</style>\n",
       "<table border=\"1\" class=\"dataframe\">\n",
       "  <thead>\n",
       "    <tr style=\"text-align: right;\">\n",
       "      <th></th>\n",
       "      <th>conventional_mine</th>\n",
       "      <th>primary</th>\n",
       "      <th>clear</th>\n",
       "      <th>agriculture</th>\n",
       "      <th>road</th>\n",
       "      <th>water</th>\n",
       "      <th>partly_cloudy</th>\n",
       "      <th>cultivation</th>\n",
       "      <th>habitation</th>\n",
       "      <th>haze</th>\n",
       "      <th>cloudy</th>\n",
       "      <th>bare_ground</th>\n",
       "      <th>selective_logging</th>\n",
       "      <th>artisinal_mine</th>\n",
       "      <th>blooming</th>\n",
       "      <th>slash_burn</th>\n",
       "      <th>blow_down</th>\n",
       "    </tr>\n",
       "  </thead>\n",
       "  <tbody>\n",
       "    <tr>\n",
       "      <th>0</th>\n",
       "      <td>0.0</td>\n",
       "      <td>1.0</td>\n",
       "      <td>0.0</td>\n",
       "      <td>0.0</td>\n",
       "      <td>0.0</td>\n",
       "      <td>0.0</td>\n",
       "      <td>0.0</td>\n",
       "      <td>0.0</td>\n",
       "      <td>0.0</td>\n",
       "      <td>1.0</td>\n",
       "      <td>0.0</td>\n",
       "      <td>0.0</td>\n",
       "      <td>0.0</td>\n",
       "      <td>0.0</td>\n",
       "      <td>0.0</td>\n",
       "      <td>0.0</td>\n",
       "      <td>0.0</td>\n",
       "    </tr>\n",
       "    <tr>\n",
       "      <th>1</th>\n",
       "      <td>0.0</td>\n",
       "      <td>1.0</td>\n",
       "      <td>1.0</td>\n",
       "      <td>1.0</td>\n",
       "      <td>0.0</td>\n",
       "      <td>1.0</td>\n",
       "      <td>0.0</td>\n",
       "      <td>0.0</td>\n",
       "      <td>0.0</td>\n",
       "      <td>0.0</td>\n",
       "      <td>0.0</td>\n",
       "      <td>0.0</td>\n",
       "      <td>0.0</td>\n",
       "      <td>0.0</td>\n",
       "      <td>0.0</td>\n",
       "      <td>0.0</td>\n",
       "      <td>0.0</td>\n",
       "    </tr>\n",
       "    <tr>\n",
       "      <th>2</th>\n",
       "      <td>0.0</td>\n",
       "      <td>1.0</td>\n",
       "      <td>1.0</td>\n",
       "      <td>0.0</td>\n",
       "      <td>0.0</td>\n",
       "      <td>0.0</td>\n",
       "      <td>0.0</td>\n",
       "      <td>0.0</td>\n",
       "      <td>0.0</td>\n",
       "      <td>0.0</td>\n",
       "      <td>0.0</td>\n",
       "      <td>0.0</td>\n",
       "      <td>0.0</td>\n",
       "      <td>0.0</td>\n",
       "      <td>0.0</td>\n",
       "      <td>0.0</td>\n",
       "      <td>0.0</td>\n",
       "    </tr>\n",
       "  </tbody>\n",
       "</table>\n",
       "</div>"
      ],
      "text/plain": [
       "   conventional_mine  primary  clear  agriculture  road  water  partly_cloudy  \\\n",
       "0                0.0      1.0    0.0          0.0   0.0    0.0            0.0   \n",
       "1                0.0      1.0    1.0          1.0   0.0    1.0            0.0   \n",
       "2                0.0      1.0    1.0          0.0   0.0    0.0            0.0   \n",
       "\n",
       "   cultivation  habitation  haze  cloudy  bare_ground  selective_logging  \\\n",
       "0          0.0         0.0   1.0     0.0          0.0                0.0   \n",
       "1          0.0         0.0   0.0     0.0          0.0                0.0   \n",
       "2          0.0         0.0   0.0     0.0          0.0                0.0   \n",
       "\n",
       "   artisinal_mine  blooming  slash_burn  blow_down  \n",
       "0             0.0       0.0         0.0        0.0  \n",
       "1             0.0       0.0         0.0        0.0  \n",
       "2             0.0       0.0         0.0        0.0  "
      ]
     },
     "execution_count": 80,
     "metadata": {},
     "output_type": "execute_result"
    }
   ],
   "source": [
    "df_label.head(3)"
   ]
  },
  {
   "cell_type": "markdown",
   "metadata": {},
   "source": [
    "### 1. Predict weather labels (Multiclass classification)\n",
    "- Weather labels are exclusive\n",
    "- Predict clear,haze,partly_cloudy,cloudy tags\n",
    "- Define weather_tags = \\['clear','haze','partly_cloudy','cloudy'\\]\n",
    "\n",
    "\n",
    "All train images contains 1 weather label, except train_img2448.jpg has none\n",
    "\n",
    "#### 1.1 old opencv statistical approach\n",
    "- multi-class logistic \n",
    "- random forest\n",
    "- gradient boosted random forest\n",
    "\n",
    "#### 1.2 modern neutral network approach\n",
    "- CNN\n",
    "- Pre-trained VGG16"
   ]
  },
  {
   "cell_type": "code",
   "execution_count": 3,
   "metadata": {},
   "outputs": [],
   "source": [
    "def categorical_to_array(y,no_features):\n",
    "    y.columns=range(no_features)\n",
    "    y = pd.get_dummies(y).idxmax(1)\n",
    "    return y.values\n",
    "\n",
    "def plot_confusion_matrix(y_test,y_pred,x_labels=weather_tags):\n",
    "    M = confusion_matrix(y_test,y_pred)\n",
    "    M = M/M.sum(axis=1)[:,None]\n",
    "    plt.figure(figsize=(10, 8))\n",
    "    ax = sns.heatmap(M, annot=True,fmt='.0%',cmap=\"YlGnBu\")\n",
    "    ax.set_xticklabels(x_labels,rotation=30)\n",
    "    ax.set_yticklabels(x_labels,rotation=30)\n",
    "    plt.show()\n",
    "    \n",
    "class Statistical_Approach():\n",
    "    \"\"\"Predict weather labels on haziness and atomospheric light\"\"\"\n",
    "    def __init__(self):\n",
    "        self.no_features = len(weather_tags)\n",
    "        self.maxdepth = 3\n",
    "        self.random_num = 5678\n",
    "        self.tags = ['clear','haze','partly_cloudy','cloudy']\n",
    "   \n",
    "    def load_data(self):\n",
    "        df_w = pd.DataFrame(data = pickle.load(open(\"haze_train.pkl\", \"rb\")),\n",
    "                            columns = ['id','w','A'])\n",
    "        y = categorical_to_array(df_label[self.tags].copy(),self.no_features)\n",
    "        return train_test_split(df_w[['w','A']],y,\n",
    "                                 stratify=y,\n",
    "                                 test_size=0.3,\n",
    "                                 random_state=self.random_num)\n",
    "    \n",
    "    def multi_class_logistic(self,x_train,x_test,y_train,y_test):\n",
    "        print ('multi class logistic')    \n",
    "        lgr = LogisticRegression(multi_class=\"multinomial\",\n",
    "                                 solver='newton-cg')\n",
    "        lgr.fit(x_train, y_train)\n",
    "        y_pred = lgr.predict(x_test)\n",
    "        plot_confusion_matrix(y_test,y_pred)\n",
    "    \n",
    "    def random_forest(self,x_train,x_test,y_train,y_test):\n",
    "        print ('basic random forest')     \n",
    "        rf = RandomForestClassifier(max_depth=self.maxdepth)\n",
    "        rf.fit(x_train, y_train)\n",
    "        y_pred = rf.predict(x_test)\n",
    "        plot_confusion_matrix(y_test,y_pred)\n",
    "    \n",
    "    def gbm_tree(self,x_train,x_test,y_train,y_test):\n",
    "        x_train, x_val, y_train, y_val = train_test_split(\n",
    "                                                          x_train, y_train, \n",
    "                                                          stratify=y_train,\n",
    "                                                          test_size=0.3, \n",
    "                                                          random_state=self.random_num)\n",
    "        gbm = xgb.XGBRegressor( \n",
    "                               n_estimators=3000, #arbitrary large number\n",
    "                               max_depth=self.maxdepth,\n",
    "                               objective=\"multi:softprob\",\n",
    "                               learning_rate=.1, \n",
    "                               subsample=1,\n",
    "                               min_child_weight=1,\n",
    "                               colsample_bytree=.5,  \n",
    "                               num_class=self.no_features\n",
    "                              )\n",
    "\n",
    "        eval_set=[(x_train,y_train),(x_val,y_val)] #tracking train/validation error as we go\n",
    "        gbm.fit( \n",
    "                x_train, y_train, \n",
    "                eval_set=eval_set,\n",
    "                eval_metric='mlogloss',\n",
    "                early_stopping_rounds=50,\n",
    "                verbose=True #gives output log as below\n",
    "        )\n",
    "        y_pred = gbm.predict(x_test, ntree_limit=gbm.best_ntree_limit).argmax(axis=1)\n",
    "        plot_confusion_matrix(y_test,y_pred)\n",
    "\n",
    "        \n",
    "    def run_models(self):\n",
    "        x_train,x_test,y_train,y_test = self.load_data()\n",
    "        self.multi_class_logistic(x_train,x_test,y_train,y_test)\n",
    "        self.random_forest(x_train,x_test,y_train,y_test)\n",
    "        self.gbm_tree(x_train,x_test,y_train,y_test)\n"
   ]
  },
  {
   "cell_type": "code",
   "execution_count": 12,
   "metadata": {},
   "outputs": [
    {
     "name": "stdout",
     "output_type": "stream",
     "text": [
      "multi class logistic\n"
     ]
    },
    {
     "data": {
      "image/png": "[encoded data removed]",
      "text/plain": [
       "<Figure size 720x576 with 2 Axes>"
      ]
     },
     "metadata": {},
     "output_type": "display_data"
    },
    {
     "name": "stdout",
     "output_type": "stream",
     "text": [
      "basic random forest\n"
     ]
    },
    {
     "data": {
      "image/png": "[encoded data removed]",
      "text/plain": [
       "<Figure size 720x576 with 2 Axes>"
      ]
     },
     "metadata": {},
     "output_type": "display_data"
    },
    {
     "name": "stdout",
     "output_type": "stream",
     "text": [
      "[0]\tvalidation_0-mlogloss:1.29301\tvalidation_1-mlogloss:1.29337\n",
      "Multiple eval metrics have been passed: 'validation_1-mlogloss' will be used for early stopping.\n",
      "\n",
      "Will train until validation_1-mlogloss hasn't improved in 50 rounds.\n",
      "[1]\tvalidation_0-mlogloss:1.21561\tvalidation_1-mlogloss:1.21627\n",
      "[2]\tvalidation_0-mlogloss:1.14683\tvalidation_1-mlogloss:1.14715\n",
      "[3]\tvalidation_0-mlogloss:1.09102\tvalidation_1-mlogloss:1.09105\n",
      "[4]\tvalidation_0-mlogloss:1.03858\tvalidation_1-mlogloss:1.03857\n",
      "[5]\tvalidation_0-mlogloss:0.997669\tvalidation_1-mlogloss:0.997934\n",
      "[6]\tvalidation_0-mlogloss:0.960643\tvalidation_1-mlogloss:0.960871\n",
      "[7]\tvalidation_0-mlogloss:0.916801\tvalidation_1-mlogloss:0.916401\n",
      "[8]\tvalidation_0-mlogloss:0.884701\tvalidation_1-mlogloss:0.883923\n",
      "[9]\tvalidation_0-mlogloss:0.859046\tvalidation_1-mlogloss:0.858236\n",
      "[10]\tvalidation_0-mlogloss:0.83638\tvalidation_1-mlogloss:0.835522\n",
      "[11]\tvalidation_0-mlogloss:0.810215\tvalidation_1-mlogloss:0.809202\n",
      "[12]\tvalidation_0-mlogloss:0.786686\tvalidation_1-mlogloss:0.785496\n",
      "[13]\tvalidation_0-mlogloss:0.76539\tvalidation_1-mlogloss:0.764026\n",
      "[14]\tvalidation_0-mlogloss:0.746998\tvalidation_1-mlogloss:0.745528\n",
      "[15]\tvalidation_0-mlogloss:0.730822\tvalidation_1-mlogloss:0.729085\n",
      "[16]\tvalidation_0-mlogloss:0.717646\tvalidation_1-mlogloss:0.715695\n",
      "[17]\tvalidation_0-mlogloss:0.705705\tvalidation_1-mlogloss:0.703528\n",
      "[18]\tvalidation_0-mlogloss:0.696625\tvalidation_1-mlogloss:0.694435\n",
      "[19]\tvalidation_0-mlogloss:0.686547\tvalidation_1-mlogloss:0.684462\n",
      "[20]\tvalidation_0-mlogloss:0.669701\tvalidation_1-mlogloss:0.66734\n",
      "[21]\tvalidation_0-mlogloss:0.657971\tvalidation_1-mlogloss:0.655438\n",
      "[22]\tvalidation_0-mlogloss:0.650281\tvalidation_1-mlogloss:0.647864\n",
      "[23]\tvalidation_0-mlogloss:0.638186\tvalidation_1-mlogloss:0.635467\n",
      "[24]\tvalidation_0-mlogloss:0.627288\tvalidation_1-mlogloss:0.624335\n",
      "[25]\tvalidation_0-mlogloss:0.61893\tvalidation_1-mlogloss:0.615847\n",
      "[26]\tvalidation_0-mlogloss:0.610089\tvalidation_1-mlogloss:0.607014\n",
      "[27]\tvalidation_0-mlogloss:0.600585\tvalidation_1-mlogloss:0.597297\n",
      "[28]\tvalidation_0-mlogloss:0.594236\tvalidation_1-mlogloss:0.590955\n",
      "[29]\tvalidation_0-mlogloss:0.587108\tvalidation_1-mlogloss:0.583597\n",
      "[30]\tvalidation_0-mlogloss:0.580688\tvalidation_1-mlogloss:0.577008\n",
      "[31]\tvalidation_0-mlogloss:0.575863\tvalidation_1-mlogloss:0.572072\n",
      "[32]\tvalidation_0-mlogloss:0.56947\tvalidation_1-mlogloss:0.565628\n",
      "[33]\tvalidation_0-mlogloss:0.565434\tvalidation_1-mlogloss:0.561509\n",
      "[34]\tvalidation_0-mlogloss:0.56075\tvalidation_1-mlogloss:0.556877\n",
      "[35]\tvalidation_0-mlogloss:0.55646\tvalidation_1-mlogloss:0.552695\n",
      "[36]\tvalidation_0-mlogloss:0.55406\tvalidation_1-mlogloss:0.550308\n",
      "[37]\tvalidation_0-mlogloss:0.55148\tvalidation_1-mlogloss:0.547646\n",
      "[38]\tvalidation_0-mlogloss:0.547465\tvalidation_1-mlogloss:0.543488\n",
      "[39]\tvalidation_0-mlogloss:0.544019\tvalidation_1-mlogloss:0.539911\n",
      "[40]\tvalidation_0-mlogloss:0.540164\tvalidation_1-mlogloss:0.536031\n",
      "[41]\tvalidation_0-mlogloss:0.537338\tvalidation_1-mlogloss:0.533199\n",
      "[42]\tvalidation_0-mlogloss:0.534382\tvalidation_1-mlogloss:0.530325\n",
      "[43]\tvalidation_0-mlogloss:0.531674\tvalidation_1-mlogloss:0.5277\n",
      "[44]\tvalidation_0-mlogloss:0.530032\tvalidation_1-mlogloss:0.526046\n",
      "[45]\tvalidation_0-mlogloss:0.527699\tvalidation_1-mlogloss:0.52365\n",
      "[46]\tvalidation_0-mlogloss:0.52488\tvalidation_1-mlogloss:0.520914\n",
      "[47]\tvalidation_0-mlogloss:0.52316\tvalidation_1-mlogloss:0.519062\n",
      "[48]\tvalidation_0-mlogloss:0.521226\tvalidation_1-mlogloss:0.51721\n",
      "[49]\tvalidation_0-mlogloss:0.519998\tvalidation_1-mlogloss:0.515931\n",
      "[50]\tvalidation_0-mlogloss:0.517982\tvalidation_1-mlogloss:0.514059\n",
      "[51]\tvalidation_0-mlogloss:0.516782\tvalidation_1-mlogloss:0.512841\n",
      "[52]\tvalidation_0-mlogloss:0.514869\tvalidation_1-mlogloss:0.510972\n",
      "[53]\tvalidation_0-mlogloss:0.513012\tvalidation_1-mlogloss:0.509375\n",
      "[54]\tvalidation_0-mlogloss:0.51103\tvalidation_1-mlogloss:0.507485\n",
      "[55]\tvalidation_0-mlogloss:0.509586\tvalidation_1-mlogloss:0.50607\n",
      "[56]\tvalidation_0-mlogloss:0.508459\tvalidation_1-mlogloss:0.505056\n",
      "[57]\tvalidation_0-mlogloss:0.507424\tvalidation_1-mlogloss:0.504073\n",
      "[58]\tvalidation_0-mlogloss:0.50651\tvalidation_1-mlogloss:0.503194\n",
      "[59]\tvalidation_0-mlogloss:0.505088\tvalidation_1-mlogloss:0.501964\n",
      "[60]\tvalidation_0-mlogloss:0.503765\tvalidation_1-mlogloss:0.500808\n",
      "[61]\tvalidation_0-mlogloss:0.50294\tvalidation_1-mlogloss:0.49999\n",
      "[62]\tvalidation_0-mlogloss:0.501638\tvalidation_1-mlogloss:0.498669\n",
      "[63]\tvalidation_0-mlogloss:0.500632\tvalidation_1-mlogloss:0.497643\n",
      "[64]\tvalidation_0-mlogloss:0.499961\tvalidation_1-mlogloss:0.497016\n",
      "[65]\tvalidation_0-mlogloss:0.498878\tvalidation_1-mlogloss:0.496075\n",
      "[66]\tvalidation_0-mlogloss:0.498151\tvalidation_1-mlogloss:0.495242\n",
      "[67]\tvalidation_0-mlogloss:0.497375\tvalidation_1-mlogloss:0.494607\n",
      "[68]\tvalidation_0-mlogloss:0.496642\tvalidation_1-mlogloss:0.493967\n",
      "[69]\tvalidation_0-mlogloss:0.496082\tvalidation_1-mlogloss:0.493419\n",
      "[70]\tvalidation_0-mlogloss:0.495555\tvalidation_1-mlogloss:0.492888\n",
      "[71]\tvalidation_0-mlogloss:0.494594\tvalidation_1-mlogloss:0.491935\n",
      "[72]\tvalidation_0-mlogloss:0.493788\tvalidation_1-mlogloss:0.491191\n",
      "[73]\tvalidation_0-mlogloss:0.49321\tvalidation_1-mlogloss:0.490588\n",
      "[74]\tvalidation_0-mlogloss:0.492562\tvalidation_1-mlogloss:0.490083\n",
      "[75]\tvalidation_0-mlogloss:0.49177\tvalidation_1-mlogloss:0.489316\n",
      "[76]\tvalidation_0-mlogloss:0.491043\tvalidation_1-mlogloss:0.488621\n",
      "[77]\tvalidation_0-mlogloss:0.490185\tvalidation_1-mlogloss:0.487877\n",
      "[78]\tvalidation_0-mlogloss:0.489776\tvalidation_1-mlogloss:0.487561\n",
      "[79]\tvalidation_0-mlogloss:0.48924\tvalidation_1-mlogloss:0.487033\n",
      "[80]\tvalidation_0-mlogloss:0.48889\tvalidation_1-mlogloss:0.486715\n",
      "[81]\tvalidation_0-mlogloss:0.488513\tvalidation_1-mlogloss:0.486427\n",
      "[82]\tvalidation_0-mlogloss:0.488159\tvalidation_1-mlogloss:0.486159\n",
      "[83]\tvalidation_0-mlogloss:0.487455\tvalidation_1-mlogloss:0.485537\n",
      "[84]\tvalidation_0-mlogloss:0.486956\tvalidation_1-mlogloss:0.485091\n",
      "[85]\tvalidation_0-mlogloss:0.486671\tvalidation_1-mlogloss:0.484834\n",
      "[86]\tvalidation_0-mlogloss:0.486424\tvalidation_1-mlogloss:0.484525\n",
      "[87]\tvalidation_0-mlogloss:0.485978\tvalidation_1-mlogloss:0.484164\n",
      "[88]\tvalidation_0-mlogloss:0.485336\tvalidation_1-mlogloss:0.483624\n",
      "[89]\tvalidation_0-mlogloss:0.484776\tvalidation_1-mlogloss:0.483191\n",
      "[90]\tvalidation_0-mlogloss:0.48433\tvalidation_1-mlogloss:0.482804\n",
      "[91]\tvalidation_0-mlogloss:0.483811\tvalidation_1-mlogloss:0.482406\n",
      "[92]\tvalidation_0-mlogloss:0.483416\tvalidation_1-mlogloss:0.482159\n",
      "[93]\tvalidation_0-mlogloss:0.482884\tvalidation_1-mlogloss:0.481786\n",
      "[94]\tvalidation_0-mlogloss:0.482432\tvalidation_1-mlogloss:0.481477\n",
      "[95]\tvalidation_0-mlogloss:0.482205\tvalidation_1-mlogloss:0.481243\n",
      "[96]\tvalidation_0-mlogloss:0.481876\tvalidation_1-mlogloss:0.481004\n",
      "[97]\tvalidation_0-mlogloss:0.481566\tvalidation_1-mlogloss:0.480837\n",
      "[98]\tvalidation_0-mlogloss:0.48125\tvalidation_1-mlogloss:0.480545\n",
      "[99]\tvalidation_0-mlogloss:0.481057\tvalidation_1-mlogloss:0.48036\n",
      "[100]\tvalidation_0-mlogloss:0.480647\tvalidation_1-mlogloss:0.480051\n",
      "[101]\tvalidation_0-mlogloss:0.480317\tvalidation_1-mlogloss:0.47978\n",
      "[102]\tvalidation_0-mlogloss:0.479984\tvalidation_1-mlogloss:0.479571\n",
      "[103]\tvalidation_0-mlogloss:0.47973\tvalidation_1-mlogloss:0.479437\n",
      "[104]\tvalidation_0-mlogloss:0.479339\tvalidation_1-mlogloss:0.479219\n",
      "[105]\tvalidation_0-mlogloss:0.479153\tvalidation_1-mlogloss:0.479057\n",
      "[106]\tvalidation_0-mlogloss:0.478889\tvalidation_1-mlogloss:0.47886\n",
      "[107]\tvalidation_0-mlogloss:0.478629\tvalidation_1-mlogloss:0.478666\n",
      "[108]\tvalidation_0-mlogloss:0.478338\tvalidation_1-mlogloss:0.478503\n",
      "[109]\tvalidation_0-mlogloss:0.47806\tvalidation_1-mlogloss:0.478327\n",
      "[110]\tvalidation_0-mlogloss:0.477834\tvalidation_1-mlogloss:0.478211\n",
      "[111]\tvalidation_0-mlogloss:0.477623\tvalidation_1-mlogloss:0.478072\n",
      "[112]\tvalidation_0-mlogloss:0.477367\tvalidation_1-mlogloss:0.477845\n",
      "[113]\tvalidation_0-mlogloss:0.47717\tvalidation_1-mlogloss:0.477789\n",
      "[114]\tvalidation_0-mlogloss:0.476966\tvalidation_1-mlogloss:0.477727\n",
      "[115]\tvalidation_0-mlogloss:0.476807\tvalidation_1-mlogloss:0.477622\n",
      "[116]\tvalidation_0-mlogloss:0.476647\tvalidation_1-mlogloss:0.477583\n",
      "[117]\tvalidation_0-mlogloss:0.4765\tvalidation_1-mlogloss:0.477504\n",
      "[118]\tvalidation_0-mlogloss:0.476275\tvalidation_1-mlogloss:0.477347\n",
      "[119]\tvalidation_0-mlogloss:0.476094\tvalidation_1-mlogloss:0.477245\n",
      "[120]\tvalidation_0-mlogloss:0.475874\tvalidation_1-mlogloss:0.477188\n"
     ]
    },
    {
     "name": "stdout",
     "output_type": "stream",
     "text": [
      "[121]\tvalidation_0-mlogloss:0.475713\tvalidation_1-mlogloss:0.477097\n",
      "[122]\tvalidation_0-mlogloss:0.475504\tvalidation_1-mlogloss:0.476971\n",
      "[123]\tvalidation_0-mlogloss:0.475287\tvalidation_1-mlogloss:0.476898\n",
      "[124]\tvalidation_0-mlogloss:0.475174\tvalidation_1-mlogloss:0.476811\n",
      "[125]\tvalidation_0-mlogloss:0.47498\tvalidation_1-mlogloss:0.476639\n",
      "[126]\tvalidation_0-mlogloss:0.47478\tvalidation_1-mlogloss:0.476484\n",
      "[127]\tvalidation_0-mlogloss:0.474597\tvalidation_1-mlogloss:0.476418\n",
      "[128]\tvalidation_0-mlogloss:0.474377\tvalidation_1-mlogloss:0.476293\n",
      "[129]\tvalidation_0-mlogloss:0.474256\tvalidation_1-mlogloss:0.47621\n",
      "[130]\tvalidation_0-mlogloss:0.474117\tvalidation_1-mlogloss:0.476124\n",
      "[131]\tvalidation_0-mlogloss:0.473965\tvalidation_1-mlogloss:0.476021\n",
      "[132]\tvalidation_0-mlogloss:0.47374\tvalidation_1-mlogloss:0.475928\n",
      "[133]\tvalidation_0-mlogloss:0.473586\tvalidation_1-mlogloss:0.475842\n",
      "[134]\tvalidation_0-mlogloss:0.473435\tvalidation_1-mlogloss:0.475766\n",
      "[135]\tvalidation_0-mlogloss:0.473242\tvalidation_1-mlogloss:0.475663\n",
      "[136]\tvalidation_0-mlogloss:0.473125\tvalidation_1-mlogloss:0.475575\n",
      "[137]\tvalidation_0-mlogloss:0.472998\tvalidation_1-mlogloss:0.475472\n",
      "[138]\tvalidation_0-mlogloss:0.472838\tvalidation_1-mlogloss:0.47538\n",
      "[139]\tvalidation_0-mlogloss:0.47269\tvalidation_1-mlogloss:0.475314\n",
      "[140]\tvalidation_0-mlogloss:0.472569\tvalidation_1-mlogloss:0.475246\n",
      "[141]\tvalidation_0-mlogloss:0.472399\tvalidation_1-mlogloss:0.475189\n",
      "[142]\tvalidation_0-mlogloss:0.472276\tvalidation_1-mlogloss:0.475143\n",
      "[143]\tvalidation_0-mlogloss:0.472095\tvalidation_1-mlogloss:0.475081\n",
      "[144]\tvalidation_0-mlogloss:0.472009\tvalidation_1-mlogloss:0.475034\n",
      "[145]\tvalidation_0-mlogloss:0.471936\tvalidation_1-mlogloss:0.474981\n",
      "[146]\tvalidation_0-mlogloss:0.47184\tvalidation_1-mlogloss:0.474968\n",
      "[147]\tvalidation_0-mlogloss:0.471712\tvalidation_1-mlogloss:0.474922\n",
      "[148]\tvalidation_0-mlogloss:0.471597\tvalidation_1-mlogloss:0.474875\n",
      "[149]\tvalidation_0-mlogloss:0.471464\tvalidation_1-mlogloss:0.474829\n",
      "[150]\tvalidation_0-mlogloss:0.471368\tvalidation_1-mlogloss:0.474793\n",
      "[151]\tvalidation_0-mlogloss:0.471303\tvalidation_1-mlogloss:0.47476\n",
      "[152]\tvalidation_0-mlogloss:0.47119\tvalidation_1-mlogloss:0.474655\n",
      "[153]\tvalidation_0-mlogloss:0.471102\tvalidation_1-mlogloss:0.474632\n",
      "[154]\tvalidation_0-mlogloss:0.470998\tvalidation_1-mlogloss:0.474616\n",
      "[155]\tvalidation_0-mlogloss:0.470881\tvalidation_1-mlogloss:0.474596\n",
      "[156]\tvalidation_0-mlogloss:0.470804\tvalidation_1-mlogloss:0.474572\n",
      "[157]\tvalidation_0-mlogloss:0.470692\tvalidation_1-mlogloss:0.474537\n",
      "[158]\tvalidation_0-mlogloss:0.470567\tvalidation_1-mlogloss:0.474499\n",
      "[159]\tvalidation_0-mlogloss:0.470481\tvalidation_1-mlogloss:0.474468\n",
      "[160]\tvalidation_0-mlogloss:0.470407\tvalidation_1-mlogloss:0.474435\n",
      "[161]\tvalidation_0-mlogloss:0.470342\tvalidation_1-mlogloss:0.474447\n",
      "[162]\tvalidation_0-mlogloss:0.470247\tvalidation_1-mlogloss:0.474479\n",
      "[163]\tvalidation_0-mlogloss:0.470133\tvalidation_1-mlogloss:0.474434\n",
      "[164]\tvalidation_0-mlogloss:0.47005\tvalidation_1-mlogloss:0.474469\n",
      "[165]\tvalidation_0-mlogloss:0.469927\tvalidation_1-mlogloss:0.474437\n",
      "[166]\tvalidation_0-mlogloss:0.469822\tvalidation_1-mlogloss:0.474421\n",
      "[167]\tvalidation_0-mlogloss:0.469705\tvalidation_1-mlogloss:0.47443\n",
      "[168]\tvalidation_0-mlogloss:0.469639\tvalidation_1-mlogloss:0.474384\n",
      "[169]\tvalidation_0-mlogloss:0.469529\tvalidation_1-mlogloss:0.474373\n",
      "[170]\tvalidation_0-mlogloss:0.469455\tvalidation_1-mlogloss:0.474369\n",
      "[171]\tvalidation_0-mlogloss:0.469357\tvalidation_1-mlogloss:0.474362\n",
      "[172]\tvalidation_0-mlogloss:0.469276\tvalidation_1-mlogloss:0.474329\n",
      "[173]\tvalidation_0-mlogloss:0.469155\tvalidation_1-mlogloss:0.474307\n",
      "[174]\tvalidation_0-mlogloss:0.469048\tvalidation_1-mlogloss:0.474248\n",
      "[175]\tvalidation_0-mlogloss:0.46897\tvalidation_1-mlogloss:0.474244\n",
      "[176]\tvalidation_0-mlogloss:0.468892\tvalidation_1-mlogloss:0.474222\n",
      "[177]\tvalidation_0-mlogloss:0.46876\tvalidation_1-mlogloss:0.474189\n",
      "[178]\tvalidation_0-mlogloss:0.468673\tvalidation_1-mlogloss:0.47418\n",
      "[179]\tvalidation_0-mlogloss:0.468604\tvalidation_1-mlogloss:0.474129\n",
      "[180]\tvalidation_0-mlogloss:0.468517\tvalidation_1-mlogloss:0.474092\n",
      "[181]\tvalidation_0-mlogloss:0.468422\tvalidation_1-mlogloss:0.474085\n",
      "[182]\tvalidation_0-mlogloss:0.46834\tvalidation_1-mlogloss:0.474091\n",
      "[183]\tvalidation_0-mlogloss:0.468241\tvalidation_1-mlogloss:0.474078\n",
      "[184]\tvalidation_0-mlogloss:0.468158\tvalidation_1-mlogloss:0.474057\n",
      "[185]\tvalidation_0-mlogloss:0.468052\tvalidation_1-mlogloss:0.474059\n",
      "[186]\tvalidation_0-mlogloss:0.46797\tvalidation_1-mlogloss:0.474066\n",
      "[187]\tvalidation_0-mlogloss:0.467906\tvalidation_1-mlogloss:0.474061\n",
      "[188]\tvalidation_0-mlogloss:0.46783\tvalidation_1-mlogloss:0.47403\n",
      "[189]\tvalidation_0-mlogloss:0.46773\tvalidation_1-mlogloss:0.474029\n",
      "[190]\tvalidation_0-mlogloss:0.467662\tvalidation_1-mlogloss:0.474045\n",
      "[191]\tvalidation_0-mlogloss:0.467555\tvalidation_1-mlogloss:0.474016\n",
      "[192]\tvalidation_0-mlogloss:0.467426\tvalidation_1-mlogloss:0.473979\n",
      "[193]\tvalidation_0-mlogloss:0.467326\tvalidation_1-mlogloss:0.47396\n",
      "[194]\tvalidation_0-mlogloss:0.46724\tvalidation_1-mlogloss:0.473931\n",
      "[195]\tvalidation_0-mlogloss:0.467187\tvalidation_1-mlogloss:0.473944\n",
      "[196]\tvalidation_0-mlogloss:0.467105\tvalidation_1-mlogloss:0.473941\n",
      "[197]\tvalidation_0-mlogloss:0.467054\tvalidation_1-mlogloss:0.473918\n",
      "[198]\tvalidation_0-mlogloss:0.467016\tvalidation_1-mlogloss:0.473906\n",
      "[199]\tvalidation_0-mlogloss:0.46692\tvalidation_1-mlogloss:0.473897\n",
      "[200]\tvalidation_0-mlogloss:0.466852\tvalidation_1-mlogloss:0.473872\n",
      "[201]\tvalidation_0-mlogloss:0.466788\tvalidation_1-mlogloss:0.473869\n",
      "[202]\tvalidation_0-mlogloss:0.466717\tvalidation_1-mlogloss:0.473858\n",
      "[203]\tvalidation_0-mlogloss:0.466676\tvalidation_1-mlogloss:0.473858\n",
      "[204]\tvalidation_0-mlogloss:0.466581\tvalidation_1-mlogloss:0.473871\n",
      "[205]\tvalidation_0-mlogloss:0.466495\tvalidation_1-mlogloss:0.473891\n",
      "[206]\tvalidation_0-mlogloss:0.466458\tvalidation_1-mlogloss:0.473896\n",
      "[207]\tvalidation_0-mlogloss:0.466392\tvalidation_1-mlogloss:0.473889\n",
      "[208]\tvalidation_0-mlogloss:0.466353\tvalidation_1-mlogloss:0.473905\n",
      "[209]\tvalidation_0-mlogloss:0.466277\tvalidation_1-mlogloss:0.47388\n",
      "[210]\tvalidation_0-mlogloss:0.466171\tvalidation_1-mlogloss:0.473835\n",
      "[211]\tvalidation_0-mlogloss:0.466099\tvalidation_1-mlogloss:0.473815\n",
      "[212]\tvalidation_0-mlogloss:0.465999\tvalidation_1-mlogloss:0.473804\n",
      "[213]\tvalidation_0-mlogloss:0.465907\tvalidation_1-mlogloss:0.473783\n",
      "[214]\tvalidation_0-mlogloss:0.46584\tvalidation_1-mlogloss:0.473761\n",
      "[215]\tvalidation_0-mlogloss:0.465793\tvalidation_1-mlogloss:0.473772\n",
      "[216]\tvalidation_0-mlogloss:0.465723\tvalidation_1-mlogloss:0.473784\n",
      "[217]\tvalidation_0-mlogloss:0.465645\tvalidation_1-mlogloss:0.473777\n",
      "[218]\tvalidation_0-mlogloss:0.46557\tvalidation_1-mlogloss:0.473769\n",
      "[219]\tvalidation_0-mlogloss:0.465512\tvalidation_1-mlogloss:0.473777\n",
      "[220]\tvalidation_0-mlogloss:0.465444\tvalidation_1-mlogloss:0.473788\n",
      "[221]\tvalidation_0-mlogloss:0.465378\tvalidation_1-mlogloss:0.473782\n",
      "[222]\tvalidation_0-mlogloss:0.465324\tvalidation_1-mlogloss:0.473792\n",
      "[223]\tvalidation_0-mlogloss:0.465248\tvalidation_1-mlogloss:0.473777\n",
      "[224]\tvalidation_0-mlogloss:0.465165\tvalidation_1-mlogloss:0.473779\n",
      "[225]\tvalidation_0-mlogloss:0.465131\tvalidation_1-mlogloss:0.473754\n",
      "[226]\tvalidation_0-mlogloss:0.465079\tvalidation_1-mlogloss:0.473787\n",
      "[227]\tvalidation_0-mlogloss:0.46498\tvalidation_1-mlogloss:0.473774\n",
      "[228]\tvalidation_0-mlogloss:0.464895\tvalidation_1-mlogloss:0.473743\n",
      "[229]\tvalidation_0-mlogloss:0.464834\tvalidation_1-mlogloss:0.473763\n",
      "[230]\tvalidation_0-mlogloss:0.464798\tvalidation_1-mlogloss:0.473762\n",
      "[231]\tvalidation_0-mlogloss:0.464725\tvalidation_1-mlogloss:0.473769\n",
      "[232]\tvalidation_0-mlogloss:0.464666\tvalidation_1-mlogloss:0.473754\n",
      "[233]\tvalidation_0-mlogloss:0.464614\tvalidation_1-mlogloss:0.473762\n",
      "[234]\tvalidation_0-mlogloss:0.46456\tvalidation_1-mlogloss:0.47375\n",
      "[235]\tvalidation_0-mlogloss:0.464428\tvalidation_1-mlogloss:0.473791\n",
      "[236]\tvalidation_0-mlogloss:0.464351\tvalidation_1-mlogloss:0.473787\n",
      "[237]\tvalidation_0-mlogloss:0.464261\tvalidation_1-mlogloss:0.47381\n",
      "[238]\tvalidation_0-mlogloss:0.464159\tvalidation_1-mlogloss:0.473807\n",
      "[239]\tvalidation_0-mlogloss:0.464071\tvalidation_1-mlogloss:0.47383\n",
      "[240]\tvalidation_0-mlogloss:0.464022\tvalidation_1-mlogloss:0.473815\n",
      "[241]\tvalidation_0-mlogloss:0.463951\tvalidation_1-mlogloss:0.473823\n"
     ]
    },
    {
     "name": "stdout",
     "output_type": "stream",
     "text": [
      "[242]\tvalidation_0-mlogloss:0.463921\tvalidation_1-mlogloss:0.473803\n",
      "[243]\tvalidation_0-mlogloss:0.463846\tvalidation_1-mlogloss:0.473826\n",
      "[244]\tvalidation_0-mlogloss:0.463746\tvalidation_1-mlogloss:0.473817\n",
      "[245]\tvalidation_0-mlogloss:0.463712\tvalidation_1-mlogloss:0.473804\n",
      "[246]\tvalidation_0-mlogloss:0.463654\tvalidation_1-mlogloss:0.473846\n",
      "[247]\tvalidation_0-mlogloss:0.463584\tvalidation_1-mlogloss:0.473841\n",
      "[248]\tvalidation_0-mlogloss:0.463538\tvalidation_1-mlogloss:0.473855\n",
      "[249]\tvalidation_0-mlogloss:0.463473\tvalidation_1-mlogloss:0.473879\n",
      "[250]\tvalidation_0-mlogloss:0.46343\tvalidation_1-mlogloss:0.473879\n",
      "[251]\tvalidation_0-mlogloss:0.46335\tvalidation_1-mlogloss:0.473847\n",
      "[252]\tvalidation_0-mlogloss:0.463293\tvalidation_1-mlogloss:0.473841\n",
      "[253]\tvalidation_0-mlogloss:0.463229\tvalidation_1-mlogloss:0.473841\n",
      "[254]\tvalidation_0-mlogloss:0.463172\tvalidation_1-mlogloss:0.473829\n",
      "[255]\tvalidation_0-mlogloss:0.463117\tvalidation_1-mlogloss:0.473871\n",
      "[256]\tvalidation_0-mlogloss:0.463049\tvalidation_1-mlogloss:0.473879\n",
      "[257]\tvalidation_0-mlogloss:0.462913\tvalidation_1-mlogloss:0.473857\n",
      "[258]\tvalidation_0-mlogloss:0.462849\tvalidation_1-mlogloss:0.473874\n",
      "[259]\tvalidation_0-mlogloss:0.46278\tvalidation_1-mlogloss:0.473881\n",
      "[260]\tvalidation_0-mlogloss:0.462726\tvalidation_1-mlogloss:0.473853\n",
      "[261]\tvalidation_0-mlogloss:0.462649\tvalidation_1-mlogloss:0.473834\n",
      "[262]\tvalidation_0-mlogloss:0.462628\tvalidation_1-mlogloss:0.473866\n",
      "[263]\tvalidation_0-mlogloss:0.462561\tvalidation_1-mlogloss:0.473885\n",
      "[264]\tvalidation_0-mlogloss:0.462514\tvalidation_1-mlogloss:0.473864\n",
      "[265]\tvalidation_0-mlogloss:0.462462\tvalidation_1-mlogloss:0.473865\n",
      "[266]\tvalidation_0-mlogloss:0.462346\tvalidation_1-mlogloss:0.473911\n",
      "[267]\tvalidation_0-mlogloss:0.462303\tvalidation_1-mlogloss:0.473932\n",
      "[268]\tvalidation_0-mlogloss:0.462221\tvalidation_1-mlogloss:0.473943\n",
      "[269]\tvalidation_0-mlogloss:0.462164\tvalidation_1-mlogloss:0.473949\n",
      "[270]\tvalidation_0-mlogloss:0.462136\tvalidation_1-mlogloss:0.473947\n",
      "[271]\tvalidation_0-mlogloss:0.461999\tvalidation_1-mlogloss:0.47397\n",
      "[272]\tvalidation_0-mlogloss:0.461919\tvalidation_1-mlogloss:0.473977\n",
      "[273]\tvalidation_0-mlogloss:0.461812\tvalidation_1-mlogloss:0.473991\n",
      "[274]\tvalidation_0-mlogloss:0.461742\tvalidation_1-mlogloss:0.473991\n",
      "[275]\tvalidation_0-mlogloss:0.46166\tvalidation_1-mlogloss:0.474002\n",
      "[276]\tvalidation_0-mlogloss:0.461616\tvalidation_1-mlogloss:0.473993\n",
      "[277]\tvalidation_0-mlogloss:0.461576\tvalidation_1-mlogloss:0.473986\n",
      "[278]\tvalidation_0-mlogloss:0.461531\tvalidation_1-mlogloss:0.474\n",
      "Stopping. Best iteration:\n",
      "[228]\tvalidation_0-mlogloss:0.464895\tvalidation_1-mlogloss:0.473743\n",
      "\n"
     ]
    },
    {
     "data": {
      "image/png": "[encoded data removed]",
      "text/plain": [
       "<Figure size 720x576 with 2 Axes>"
      ]
     },
     "metadata": {},
     "output_type": "display_data"
    }
   ],
   "source": [
    "ss_predictor = Statistical_Approach()\n",
    "ss_predictor.run_models()"
   ]
  },
  {
   "cell_type": "markdown",
   "metadata": {},
   "source": [
    "####  1.2 Neural Network vanilla model\n",
    "\n",
    "Initialise model as a sequential network. There are two basic ways of initialising a neural network, either by a sequence of layers or as a graph\n",
    "\n",
    "####  Load data\n",
    "- opencv convert image to numpy array (256x256x3) 256 pixels 3 RBG channels\n",
    "- train/test split\n",
    "\n",
    "####  Model Work Flow\n",
    "1. **Conv2D** \n",
    "    - Images => 2 D arrays\n",
    "    - Videos => Convolution 3-D \n",
    "    \n",
    "    \n",
    "2. **MaxPooling2D**:<br> The primary aim of a pooling operation is to reduce the size of the images. Different types of pooling operations like Min Pooling, Mean Pooling, etc. Here in MaxPooling we need the maximum value pixel from the respective region of interest.\n",
    "\n",
    "\n",
    "3. **Flatten**:<br> Flattening is the process of converting all the resultant 2 dimensional arrays into a continuous vector.\n",
    "\n",
    "\n",
    "4. **Dense** \n",
    "    - units: no nodes in the hidden layer\n",
    "5. **Compile**\n",
    "    - Optimizer:  stochastic gradient descent algorithm\n",
    "    - Loss: loss function\n",
    "    - Metrics: performance metric"
   ]
  },
  {
   "cell_type": "code",
   "execution_count": 3,
   "metadata": {},
   "outputs": [],
   "source": [
    "from keras.models import Sequential,Model\n",
    "from keras.layers import Conv2D, MaxPooling2D, Flatten, Dense, Activation, Dropout,BatchNormalization,InputLayer\n",
    "from keras.initializers import glorot_normal, RandomNormal, Zeros\n",
    "from keras.optimizers import SGD\n",
    "import keras"
   ]
  },
  {
   "cell_type": "code",
   "execution_count": 76,
   "metadata": {},
   "outputs": [
    {
     "name": "stdout",
     "output_type": "stream",
     "text": [
      "Epoch 1/10\n",
      "21000/21000 [==============================] - 86s 4ms/step - loss: 3.6568 - acc: 0.5254 - F2_score: 0.5620\n",
      "Epoch 2/10\n",
      "21000/21000 [==============================] - 85s 4ms/step - loss: 2.8762 - acc: 0.8749 - F2_score: 0.6472\n",
      "Epoch 3/10\n",
      "21000/21000 [==============================] - 85s 4ms/step - loss: 2.8221 - acc: 0.9189 - F2_score: 0.6744\n",
      "Epoch 4/10\n",
      "21000/21000 [==============================] - 85s 4ms/step - loss: 2.7563 - acc: 0.9604 - F2_score: 0.6918\n",
      "Epoch 5/10\n",
      "21000/21000 [==============================] - 85s 4ms/step - loss: 2.7042 - acc: 0.9575 - F2_score: 0.7060\n",
      "Epoch 6/10\n",
      "21000/21000 [==============================] - 85s 4ms/step - loss: 2.6722 - acc: 0.9640 - F2_score: 0.7138\n",
      "Epoch 7/10\n",
      "21000/21000 [==============================] - 85s 4ms/step - loss: 2.6525 - acc: 0.9579 - F2_score: 0.7193\n",
      "Epoch 8/10\n",
      "21000/21000 [==============================] - 85s 4ms/step - loss: 2.6226 - acc: 0.9559 - F2_score: 0.7301\n",
      "Epoch 9/10\n",
      "21000/21000 [==============================] - 85s 4ms/step - loss: 2.6007 - acc: 0.9516 - F2_score: 0.7316\n",
      "Epoch 10/10\n",
      "21000/21000 [==============================] - 85s 4ms/step - loss: 2.5917 - acc: 0.9557 - F2_score: 0.7358\n"
     ]
    }
   ],
   "source": [
    "\"\"\" Define matrice functions \"\"\"\n",
    "def precision(y_true,y_pred):\n",
    "    true_positives = K.sum(K.round(K.clip(y_true * y_pred, 0, 1)))\n",
    "    predicted_positives = K.sum(K.round(K.clip(y_pred, 0, 1)))\n",
    "    precision = true_positives / (predicted_positives + K.epsilon())\n",
    "    return precision\n",
    "\n",
    "def recall(y_true,y_pred):\n",
    "    true_positives = K.sum(K.round(K.clip(y_true * y_pred, 0, 1)))\n",
    "    possible_positives = K.sum(K.round(K.clip(y_true, 0, 1)))\n",
    "    recall = true_positives / (possible_positives + K.epsilon())\n",
    "    return recall\n",
    "\n",
    "def F2_score(y_true, y_pred):\n",
    "        true_positives = K.sum(K.round(K.clip(y_true * y_pred, 0, 1)))\n",
    "        predicted_positives = K.sum(K.round(K.clip(y_pred, 0, 1)))\n",
    "        precision = true_positives / (predicted_positives + K.epsilon())\n",
    "\n",
    "        true_positives = K.sum(K.round(K.clip(y_true * y_pred, 0, 1)))\n",
    "        possible_positives = K.sum(K.round(K.clip(y_true, 0, 1)))\n",
    "        recall = true_positives / (possible_positives + K.epsilon())\n",
    "        return (1+4)*precision*recall/(4*precision+recall)\n",
    "    \n",
    "class MyCNN(keras.utils.Sequence):\n",
    "    def __init__(self,label_class,haze_free,optimizer, loss, class_weight,epochs):\n",
    "        self.labels, self.no_features = self.choose_labels(label_class)\n",
    "        self.haze_free = haze_free\n",
    "        self.optimizer = optimizer\n",
    "        self.class_weight = class_weight\n",
    "        self.loss = loss\n",
    "        self.epochs = epoches\n",
    "\n",
    "    def choose_labels(self,label_class=0):\n",
    "        \"\"\"  label class 0 : weather labels ; 1 : land_cover labels   \"\"\"\n",
    "        weather  = ['clear','haze','partly_cloudy','cloudy']\n",
    "        land_use = ['primary', 'agriculture', 'road', 'water','cultivation', 'habitation','bare_ground', \n",
    "                    'conventional_mine', 'selective_logging', 'artisinal_mine', 'blooming','slash_burn', 'blow_down']\n",
    "        \n",
    "        labels = weather if label_class==0 else land_use\n",
    "        no_features = 4 if label_class==0 else 13\n",
    "        return labels, no_features\n",
    "    \n",
    "    def __data_generation(self):\n",
    "        'Generates data' \n",
    "        path =  '/home/ubuntu/.kaggle/competitions/planet-understanding-the-amazon-from-space/'\n",
    "        path += 'train_haze_free/' if self.haze_free else 'train-jpg/'\n",
    "        read = lambda i: cv2.imread(path+f'train_{i}.jpg')\n",
    "        y_train, y_test = train_test_split(df_label[self.labels], test_size=0.3,random_state=1100)\n",
    "        X_train = np.array(list(map(read,y_train.index.tolist())))\n",
    "        X_test = np.array(list(map(read,y_test.index.tolist())))\n",
    "        return X_train,y_train,X_test,y_test\n",
    "    \n",
    "    \n",
    "    def __build_layers(self):\n",
    "        model = Sequential()\n",
    "\n",
    "        model.add(InputLayer(input_shape = (256, 256, 3)))\n",
    "        model.add(BatchNormalization())\n",
    "\n",
    "        model.add(Conv2D(32, (3, 3),activation = 'relu'))\n",
    "        model.add(BatchNormalization())\n",
    "        model.add(MaxPooling2D(pool_size=(3, 2)))\n",
    "\n",
    "        model.add(Conv2D(32, (3, 3),activation = 'relu'))\n",
    "        model.add(BatchNormalization())\n",
    "        model.add(MaxPooling2D(pool_size=(3, 2)))\n",
    "\n",
    "        model.add(Conv2D(32, (3, 3),activation = 'relu'))\n",
    "        model.add(BatchNormalization())\n",
    "        model.add(MaxPooling2D(pool_size=(3, 2)))\n",
    "\n",
    "        model.add(Flatten())\n",
    "        model.add(Dense(32))\n",
    "        model.add(Activation('relu'))\n",
    "        model.add(BatchNormalization())\n",
    "\n",
    "        model.add(Dropout(0.2))\n",
    "        model.add(Dense(self.no_features))\n",
    "        model.add(Activation('sigmoid'))\n",
    "    #     model.summary()\n",
    "        return model\n",
    "    \n",
    "    def __build_model(self):\n",
    "        model = self.__build_layers()\n",
    "        model.compile(optimizer = self.optimizer, loss = self.loss, \n",
    "                      metrics = ['accuracy',F2_score])\n",
    "        return model\n",
    "    \n",
    "    def train_model(self):\n",
    "        model = self.__build_model()\n",
    "        X_train,y_train,X_test,y_test = self.__data_generation()\n",
    "        model.fit(X_train, y_train, epochs=self.epochs, batch_size=50,class_weight = self.class_weight)\n",
    "\n",
    "        return model,X_train,y_train,X_test,y_test\n",
    "\n",
    "params = {'label_class': 1,\n",
    "          'haze_free': False,\n",
    "          'optimizer':'adam',\n",
    "          'loss': 'categorical_crossentropy',\n",
    "          'class_weight': {0: 1.,\n",
    "                           1: 2,\n",
    "                           2: 2.,\n",
    "                           3: 2.,\n",
    "                           4: 2,\n",
    "                           5: 2.,\n",
    "                           6: 2,\n",
    "                           7: 100,\n",
    "                           8: 100,\n",
    "                           9: 100,\n",
    "                           10: 100,\n",
    "                           11: 100,\n",
    "                           12: 100},\n",
    "          'epoches': 10\n",
    "         }\n",
    "c = MyCNN(**params)\n",
    "cnn,X_train,y_train,X_test,y_test = c.train_model()\n"
   ]
  },
  {
   "cell_type": "code",
   "execution_count": null,
   "metadata": {},
   "outputs": [],
   "source": [
    "#SOPH: Increase Conv Units. \n",
    "# Consider adding more layers (so that your final conv layer is close to 2x2)\n",
    "# add dropout. even if your model is overfit, a small dropout helps (~5%)\n",
    "# (maybe) try replacing Flatten() with GlobalAvgPool()\n",
    "# class_weight= self.class_weight\n"
   ]
  },
  {
   "cell_type": "code",
   "execution_count": 11,
   "metadata": {},
   "outputs": [],
   "source": [
    "\n",
    "\n",
    "    "
   ]
  },
  {
   "cell_type": "code",
   "execution_count": 9,
   "metadata": {},
   "outputs": [
    {
     "name": "stdout",
     "output_type": "stream",
     "text": [
      "Epoch 1/20\n",
      "10500/10500 [==============================] - 45s 4ms/step - loss: 4.0060 - acc: 0.4297 - F2_score: 0.5421\n",
      "Epoch 2/20\n",
      "10500/10500 [==============================] - 42s 4ms/step - loss: 3.0429 - acc: 0.7995 - F2_score: 0.6134\n",
      "Epoch 3/20\n",
      "10500/10500 [==============================] - 42s 4ms/step - loss: 2.7992 - acc: 0.8617 - F2_score: 0.6573\n",
      "Epoch 4/20\n",
      "10500/10500 [==============================] - 43s 4ms/step - loss: 2.7300 - acc: 0.8675 - F2_score: 0.6811\n",
      "Epoch 5/20\n",
      "10500/10500 [==============================] - 42s 4ms/step - loss: 2.7432 - acc: 0.8908 - F2_score: 0.6700\n",
      "Epoch 6/20\n",
      "10500/10500 [==============================] - 42s 4ms/step - loss: 2.6761 - acc: 0.8957 - F2_score: 0.6855\n",
      "Epoch 7/20\n",
      "10500/10500 [==============================] - 42s 4ms/step - loss: 2.6630 - acc: 0.8855 - F2_score: 0.7145\n",
      "Epoch 8/20\n",
      "10500/10500 [==============================] - 42s 4ms/step - loss: 2.5700 - acc: 0.8924 - F2_score: 0.7389\n",
      "Epoch 9/20\n",
      "10500/10500 [==============================] - 42s 4ms/step - loss: 2.5095 - acc: 0.8934 - F2_score: 0.7516\n",
      "Epoch 10/20\n",
      "10500/10500 [==============================] - 42s 4ms/step - loss: 2.5152 - acc: 0.8966 - F2_score: 0.7505\n",
      "Epoch 11/20\n",
      "10500/10500 [==============================] - 42s 4ms/step - loss: 2.4511 - acc: 0.9002 - F2_score: 0.7572\n",
      "Epoch 12/20\n",
      "10500/10500 [==============================] - 42s 4ms/step - loss: 2.4160 - acc: 0.8922 - F2_score: 0.7688\n",
      "Epoch 13/20\n",
      "10500/10500 [==============================] - 42s 4ms/step - loss: 2.3697 - acc: 0.8905 - F2_score: 0.7824\n",
      "Epoch 14/20\n",
      "10500/10500 [==============================] - 42s 4ms/step - loss: 2.3302 - acc: 0.8867 - F2_score: 0.7940\n",
      "Epoch 15/20\n",
      "10500/10500 [==============================] - 42s 4ms/step - loss: 2.2799 - acc: 0.8938 - F2_score: 0.8066\n",
      "Epoch 16/20\n",
      "10500/10500 [==============================] - 42s 4ms/step - loss: 2.2537 - acc: 0.8835 - F2_score: 0.8128\n",
      "Epoch 17/20\n",
      "10500/10500 [==============================] - 42s 4ms/step - loss: 2.2166 - acc: 0.8789 - F2_score: 0.8225\n",
      "Epoch 18/20\n",
      "10500/10500 [==============================] - 42s 4ms/step - loss: 2.1936 - acc: 0.8743 - F2_score: 0.8287\n",
      "Epoch 19/20\n",
      "10500/10500 [==============================] - 42s 4ms/step - loss: 2.1583 - acc: 0.8652 - F2_score: 0.8390\n",
      "Epoch 20/20\n",
      "10500/10500 [==============================] - 42s 4ms/step - loss: 2.1279 - acc: 0.8620 - F2_score: 0.8480\n",
      "cnn\n"
     ]
    }
   ],
   "source": [
    "y_pred_train = cnn.predict(X_train)\n",
    "y_pred_test = cnn.predict(X_test)\n",
    "\n",
    "print ('cnn')\n"
   ]
  },
  {
   "cell_type": "code",
   "execution_count": 77,
   "metadata": {},
   "outputs": [
    {
     "name": "stdout",
     "output_type": "stream",
     "text": [
      "********** 0 conventional_mine **********\n"
     ]
    },
    {
     "name": "stderr",
     "output_type": "stream",
     "text": [
      "/home/ubuntu/anaconda3/envs/tensorflow_p36/lib/python3.6/site-packages/sklearn/metrics/classification.py:1135: UndefinedMetricWarning: Precision and F-score are ill-defined and being set to 0.0 due to no predicted samples.\n",
      "  'precision', 'predicted', average, warn_for)\n"
     ]
    },
    {
     "data": {
      "image/png": "[encoded data removed]",
      "text/plain": [
       "<Figure size 432x288 with 2 Axes>"
      ]
     },
     "metadata": {},
     "output_type": "display_data"
    },
    {
     "name": "stdout",
     "output_type": "stream",
     "text": [
      "********** 1 primary **********\n"
     ]
    },
    {
     "name": "stderr",
     "output_type": "stream",
     "text": [
      "/home/ubuntu/anaconda3/envs/tensorflow_p36/lib/python3.6/site-packages/sklearn/metrics/classification.py:1135: UndefinedMetricWarning: Precision and F-score are ill-defined and being set to 0.0 due to no predicted samples.\n",
      "  'precision', 'predicted', average, warn_for)\n"
     ]
    },
    {
     "data": {
      "image/png": "[encoded data removed]",
      "text/plain": [
       "<Figure size 432x288 with 2 Axes>"
      ]
     },
     "metadata": {},
     "output_type": "display_data"
    },
    {
     "name": "stdout",
     "output_type": "stream",
     "text": [
      "********** 2 agriculture **********\n"
     ]
    },
    {
     "name": "stderr",
     "output_type": "stream",
     "text": [
      "/home/ubuntu/anaconda3/envs/tensorflow_p36/lib/python3.6/site-packages/sklearn/metrics/classification.py:1135: UndefinedMetricWarning: Precision and F-score are ill-defined and being set to 0.0 due to no predicted samples.\n",
      "  'precision', 'predicted', average, warn_for)\n"
     ]
    },
    {
     "data": {
      "image/png": "[encoded data removed]",
      "text/plain": [
       "<Figure size 432x288 with 2 Axes>"
      ]
     },
     "metadata": {},
     "output_type": "display_data"
    },
    {
     "name": "stdout",
     "output_type": "stream",
     "text": [
      "********** 3 road **********\n"
     ]
    },
    {
     "name": "stderr",
     "output_type": "stream",
     "text": [
      "/home/ubuntu/anaconda3/envs/tensorflow_p36/lib/python3.6/site-packages/sklearn/metrics/classification.py:1135: UndefinedMetricWarning: Precision and F-score are ill-defined and being set to 0.0 due to no predicted samples.\n",
      "  'precision', 'predicted', average, warn_for)\n"
     ]
    },
    {
     "data": {
      "image/png": "[encoded data removed]",
      "text/plain": [
       "<Figure size 432x288 with 2 Axes>"
      ]
     },
     "metadata": {},
     "output_type": "display_data"
    },
    {
     "name": "stdout",
     "output_type": "stream",
     "text": [
      "********** 4 water **********\n"
     ]
    },
    {
     "name": "stderr",
     "output_type": "stream",
     "text": [
      "/home/ubuntu/anaconda3/envs/tensorflow_p36/lib/python3.6/site-packages/sklearn/metrics/classification.py:1135: UndefinedMetricWarning: Precision and F-score are ill-defined and being set to 0.0 due to no predicted samples.\n",
      "  'precision', 'predicted', average, warn_for)\n"
     ]
    },
    {
     "data": {
      "image/png": "[encoded data removed]",
      "text/plain": [
       "<Figure size 432x288 with 2 Axes>"
      ]
     },
     "metadata": {},
     "output_type": "display_data"
    },
    {
     "name": "stdout",
     "output_type": "stream",
     "text": [
      "********** 5 cultivation **********\n"
     ]
    },
    {
     "name": "stderr",
     "output_type": "stream",
     "text": [
      "/home/ubuntu/anaconda3/envs/tensorflow_p36/lib/python3.6/site-packages/sklearn/metrics/classification.py:1135: UndefinedMetricWarning: Precision and F-score are ill-defined and being set to 0.0 due to no predicted samples.\n",
      "  'precision', 'predicted', average, warn_for)\n"
     ]
    },
    {
     "data": {
      "image/png": "[encoded data removed]",
      "text/plain": [
       "<Figure size 432x288 with 2 Axes>"
      ]
     },
     "metadata": {},
     "output_type": "display_data"
    },
    {
     "name": "stdout",
     "output_type": "stream",
     "text": [
      "********** 6 habitation **********\n"
     ]
    },
    {
     "name": "stderr",
     "output_type": "stream",
     "text": [
      "/home/ubuntu/anaconda3/envs/tensorflow_p36/lib/python3.6/site-packages/sklearn/metrics/classification.py:1135: UndefinedMetricWarning: Precision and F-score are ill-defined and being set to 0.0 due to no predicted samples.\n",
      "  'precision', 'predicted', average, warn_for)\n"
     ]
    },
    {
     "data": {
      "image/png": "[encoded data removed]",
      "text/plain": [
       "<Figure size 432x288 with 2 Axes>"
      ]
     },
     "metadata": {},
     "output_type": "display_data"
    },
    {
     "name": "stdout",
     "output_type": "stream",
     "text": [
      "********** 7 bare_ground **********\n"
     ]
    },
    {
     "name": "stderr",
     "output_type": "stream",
     "text": [
      "/home/ubuntu/anaconda3/envs/tensorflow_p36/lib/python3.6/site-packages/sklearn/metrics/classification.py:1135: UndefinedMetricWarning: Precision and F-score are ill-defined and being set to 0.0 due to no predicted samples.\n",
      "  'precision', 'predicted', average, warn_for)\n"
     ]
    },
    {
     "data": {
      "image/png": "[encoded data removed]",
      "text/plain": [
       "<Figure size 432x288 with 2 Axes>"
      ]
     },
     "metadata": {},
     "output_type": "display_data"
    },
    {
     "name": "stdout",
     "output_type": "stream",
     "text": [
      "********** 8 selective_logging **********\n"
     ]
    },
    {
     "name": "stderr",
     "output_type": "stream",
     "text": [
      "/home/ubuntu/anaconda3/envs/tensorflow_p36/lib/python3.6/site-packages/sklearn/metrics/classification.py:1135: UndefinedMetricWarning: Precision and F-score are ill-defined and being set to 0.0 due to no predicted samples.\n",
      "  'precision', 'predicted', average, warn_for)\n"
     ]
    },
    {
     "data": {
      "image/png": "[encoded data removed]",
      "text/plain": [
       "<Figure size 432x288 with 2 Axes>"
      ]
     },
     "metadata": {},
     "output_type": "display_data"
    },
    {
     "name": "stdout",
     "output_type": "stream",
     "text": [
      "********** 9 artisinal_mine **********\n"
     ]
    },
    {
     "name": "stderr",
     "output_type": "stream",
     "text": [
      "/home/ubuntu/anaconda3/envs/tensorflow_p36/lib/python3.6/site-packages/sklearn/metrics/classification.py:1135: UndefinedMetricWarning: Precision and F-score are ill-defined and being set to 0.0 due to no predicted samples.\n",
      "  'precision', 'predicted', average, warn_for)\n"
     ]
    },
    {
     "data": {
      "image/png": "[encoded data removed]",
      "text/plain": [
       "<Figure size 432x288 with 2 Axes>"
      ]
     },
     "metadata": {},
     "output_type": "display_data"
    },
    {
     "name": "stdout",
     "output_type": "stream",
     "text": [
      "********** 10 blooming **********\n"
     ]
    },
    {
     "name": "stderr",
     "output_type": "stream",
     "text": [
      "/home/ubuntu/anaconda3/envs/tensorflow_p36/lib/python3.6/site-packages/sklearn/metrics/classification.py:1135: UndefinedMetricWarning: Precision and F-score are ill-defined and being set to 0.0 due to no predicted samples.\n",
      "  'precision', 'predicted', average, warn_for)\n"
     ]
    },
    {
     "data": {
      "image/png": "[encoded data removed]",
      "text/plain": [
       "<Figure size 432x288 with 2 Axes>"
      ]
     },
     "metadata": {},
     "output_type": "display_data"
    },
    {
     "name": "stdout",
     "output_type": "stream",
     "text": [
      "********** 11 slash_burn **********\n"
     ]
    },
    {
     "name": "stderr",
     "output_type": "stream",
     "text": [
      "/home/ubuntu/anaconda3/envs/tensorflow_p36/lib/python3.6/site-packages/sklearn/metrics/classification.py:1135: UndefinedMetricWarning: Precision and F-score are ill-defined and being set to 0.0 due to no predicted samples.\n",
      "  'precision', 'predicted', average, warn_for)\n"
     ]
    },
    {
     "data": {
      "image/png": "[encoded data removed]",
      "text/plain": [
       "<Figure size 432x288 with 2 Axes>"
      ]
     },
     "metadata": {},
     "output_type": "display_data"
    },
    {
     "name": "stdout",
     "output_type": "stream",
     "text": [
      "********** 12 blow_down **********\n"
     ]
    },
    {
     "name": "stderr",
     "output_type": "stream",
     "text": [
      "/home/ubuntu/anaconda3/envs/tensorflow_p36/lib/python3.6/site-packages/sklearn/metrics/classification.py:1135: UndefinedMetricWarning: Precision and F-score are ill-defined and being set to 0.0 due to no predicted samples.\n",
      "  'precision', 'predicted', average, warn_for)\n"
     ]
    },
    {
     "data": {
      "image/png": "[encoded data removed]",
      "text/plain": [
       "<Figure size 432x288 with 2 Axes>"
      ]
     },
     "metadata": {},
     "output_type": "display_data"
    }
   ],
   "source": [
    "def tuning_threshold(y_pred,y_true):\n",
    "    precision = []\n",
    "    recall = []\n",
    "    t = np.linspace(0.,1,50)\n",
    "    for threshold in t :\n",
    "        y = (y_pred>threshold)*1\n",
    "        p, r, _,__ = precision_recall_fscore_support(y_true,y,average = 'binary')\n",
    "        precision.append(p)\n",
    "        recall.append(r)\n",
    "#         print ('threshold %.2f p %.3f r %.3f'%(threshold,p,r))\n",
    "    fig, ax1 = plt.subplots()    \n",
    "    ax1.plot(t, precision, 'b-')\n",
    "    ax1.set_xlabel('threshold')\n",
    "    # Make the y-axis label, ticks and tick labels match the line color.\n",
    "    ax1.set_ylabel('precision', color='b')\n",
    "    ax1.tick_params('y', colors='b')\n",
    "    ax1.set_ylim([0,1])\n",
    "\n",
    "    ax2 = ax1.twinx()\n",
    "    ax2.plot(t, recall, 'r.')\n",
    "    ax2.set_ylabel('recall', color='r')\n",
    "    ax2.tick_params('y', colors='r')\n",
    "    ax2.set_ylim([0,1])\n",
    "\n",
    "    fig.tight_layout()\n",
    "    ax1.grid(True, which='both')\n",
    "\n",
    "for n in range(13):\n",
    "    print ('*'*10 ,n, y_test.columns[n],'*'*10)\n",
    "    tuning_threshold(y_pred_train[:,n],y_train.iloc[:,n])\n",
    "    plt.show()\n"
   ]
  },
  {
   "cell_type": "code",
   "execution_count": 12,
   "metadata": {},
   "outputs": [
    {
     "ename": "ValueError",
     "evalue": "continuous-multioutput format is not supported",
     "output_type": "error",
     "traceback": [
      "\u001b[0;31m---------------------------------------------------------------------------\u001b[0m",
      "\u001b[0;31mValueError\u001b[0m                                Traceback (most recent call last)",
      "\u001b[0;32m<ipython-input-12-5ebca9b5d9f6>\u001b[0m in \u001b[0;36m<module>\u001b[0;34m()\u001b[0m\n\u001b[0;32m----> 1\u001b[0;31m \u001b[0mcoverage_error\u001b[0m\u001b[0;34m(\u001b[0m\u001b[0my_pred_train\u001b[0m\u001b[0;34m,\u001b[0m\u001b[0my_train\u001b[0m\u001b[0;34m)\u001b[0m\u001b[0;34m\u001b[0m\u001b[0m\n\u001b[0m",
      "\u001b[0;32m~/anaconda3/envs/tensorflow_p36/lib/python3.6/site-packages/sklearn/metrics/ranking.py\u001b[0m in \u001b[0;36mcoverage_error\u001b[0;34m(y_true, y_score, sample_weight)\u001b[0m\n\u001b[1;32m    699\u001b[0m     \u001b[0my_type\u001b[0m \u001b[0;34m=\u001b[0m \u001b[0mtype_of_target\u001b[0m\u001b[0;34m(\u001b[0m\u001b[0my_true\u001b[0m\u001b[0;34m)\u001b[0m\u001b[0;34m\u001b[0m\u001b[0m\n\u001b[1;32m    700\u001b[0m     \u001b[0;32mif\u001b[0m \u001b[0my_type\u001b[0m \u001b[0;34m!=\u001b[0m \u001b[0;34m\"multilabel-indicator\"\u001b[0m\u001b[0;34m:\u001b[0m\u001b[0;34m\u001b[0m\u001b[0m\n\u001b[0;32m--> 701\u001b[0;31m         \u001b[0;32mraise\u001b[0m \u001b[0mValueError\u001b[0m\u001b[0;34m(\u001b[0m\u001b[0;34m\"{0} format is not supported\"\u001b[0m\u001b[0;34m.\u001b[0m\u001b[0mformat\u001b[0m\u001b[0;34m(\u001b[0m\u001b[0my_type\u001b[0m\u001b[0;34m)\u001b[0m\u001b[0;34m)\u001b[0m\u001b[0;34m\u001b[0m\u001b[0m\n\u001b[0m\u001b[1;32m    702\u001b[0m \u001b[0;34m\u001b[0m\u001b[0m\n\u001b[1;32m    703\u001b[0m     \u001b[0;32mif\u001b[0m \u001b[0my_true\u001b[0m\u001b[0;34m.\u001b[0m\u001b[0mshape\u001b[0m \u001b[0;34m!=\u001b[0m \u001b[0my_score\u001b[0m\u001b[0;34m.\u001b[0m\u001b[0mshape\u001b[0m\u001b[0;34m:\u001b[0m\u001b[0;34m\u001b[0m\u001b[0m\n",
      "\u001b[0;31mValueError\u001b[0m: continuous-multioutput format is not supported"
     ]
    }
   ],
   "source": [
    "coverage_error(y_pred_train,y_train)"
   ]
  },
  {
   "cell_type": "code",
   "execution_count": 78,
   "metadata": {},
   "outputs": [],
   "source": [
    "# threshold = {'conventional_mine':0.06, 'primary':.7, 'agriculture':.43, 'road':.4, 'water':.3,\n",
    "#        'cultivation':.24, 'habitation':.3, 'bare_ground':0.12, 'selective_logging':0.06,\n",
    "#        'artisinal_mine':.09, 'blooming':0.02, 'slash_burn':.04, 'blow_down':.02}\n",
    "threshold = {'conventional_mine':0.4, 'primary':.7, 'agriculture':.4, 'road':.4, 'water':.56,\n",
    "       'cultivation':.3, 'habitation':.2, 'bare_ground':0.3, 'selective_logging':0.1,\n",
    "       'artisinal_mine':.2, 'blooming':0.2, 'slash_burn':.2, 'blow_down':.1}"
   ]
  },
  {
   "cell_type": "code",
   "execution_count": 85,
   "metadata": {},
   "outputs": [],
   "source": [
    "def multilable_confusion_matrix(y_pred,y_true):\n",
    "    y_pred = ((y_pred-np.array(list(threshold.values())))>0)*1\n",
    "    for n in range(13):\n",
    "        M = confusion_matrix(y_true.iloc[:,n], y_pred[:,n])\n",
    "        p, r, f,__ = precision_recall_fscore_support(y_true.iloc[:,n],y_pred[:,n],average = 'binary')\n",
    "#         print ('*'*10 ,n, y_test.columns[n],'| f',round(f,3)*100,'*'*10)\n",
    "        print (' %.3f ' % (f*100))\n",
    "#         sns.heatmap(M, annot=True,fmt='d',cmap=\"YlGnBu\")\n",
    "#         plt.show()\n",
    "        \n",
    "\n"
   ]
  },
  {
   "cell_type": "code",
   "execution_count": 86,
   "metadata": {},
   "outputs": [],
   "source": [
    "# multilable_confusion_matrix(y_pred_train,y_train)\n"
   ]
  },
  {
   "cell_type": "code",
   "execution_count": 87,
   "metadata": {},
   "outputs": [
    {
     "name": "stdout",
     "output_type": "stream",
     "text": [
      " 0.000 \n",
      " 95.446 \n",
      " 66.362 \n",
      " 58.373 \n",
      " 43.839 \n",
      " 24.816 \n",
      " 37.326 \n",
      " 8.917 \n",
      " 10.714 \n",
      " 19.820 \n",
      " 0.000 \n",
      " 0.000 \n",
      " 0.000 \n"
     ]
    }
   ],
   "source": [
    "multilable_confusion_matrix(y_pred_test,y_test)"
   ]
  },
  {
   "cell_type": "markdown",
   "metadata": {},
   "source": [
    "#### 1.3 Try vgg16 and rasnet"
   ]
  },
  {
   "cell_type": "code",
   "execution_count": null,
   "metadata": {},
   "outputs": [],
   "source": [
    "from keras.applications.vgg16 import VGG16\n",
    "#Get back the convolutional part of a VGG network trained on ImageNet\n",
    "def vgg_16():\n",
    "    # VGG16\n",
    "    input_tensor = Input(shape=(256,256,3))\n",
    "    vgg16_model = VGG16(weights = \"imagenet\", include_top=False)\n",
    "    vgg16_model_output = vgg16_model(input_tensor)\n",
    "    vgg16_model = VGG16(include_top=False, weights=None, input_tensor=input_tensor)\n",
    "\n",
    "    x = Flatten(name='flatten')(vgg16_model(input_tensor))\n",
    "    x = Dense(256, activation='relu')(x)\n",
    "    x = Dense(16, activation='relu')(x)\n",
    "    x = Dense(no_features, activation='softmax')(x)\n",
    "    model = Model(input=input_tensor, output=x)  # Using the Functional API\n",
    "\n",
    "    for layer in model.layers[:2]:      \n",
    "        layer.trainable = False\n",
    "\n",
    "    sgd = SGD(lr=0.1, decay=1e-6, momentum=0.9, nesterov=True)\n",
    "    model.compile(optimizer=sgd, loss='categorical_crossentropy',metrics=[F2_score])\n",
    "    cb_a=keras.callbacks.EarlyStopping(monitor='val_loss', min_delta=0, patience=2, verbose=0, mode='auto')\n",
    "    model.fit(X_train, y_train,\n",
    "              batch_size=32, epochs=1, verbose=1,\n",
    "              validation_data=(X_test, y_test),\n",
    "              callbacks=[cb_a])\n",
    "    y_pred = model.predict(X_test)\n",
    "    plot_confusion_matrix(categorical_to_array(y_test,no_features),y_pred.argmax(axis=1))\n",
    "    return \n",
    "\n",
    "# vgg16_y = vgg_16()"
   ]
  },
  {
   "cell_type": "code",
   "execution_count": null,
   "metadata": {},
   "outputs": [],
   "source": []
  },
  {
   "cell_type": "markdown",
   "metadata": {},
   "source": [
    "#### 1.3 Implementation\n",
    "Build different models and test\n",
    "F2 | prec  |  recall\n",
    "_________________________\n",
    "\n",
    "0.70 | 0.47 | 0.75 | model 2 Test F2: 0.754 - multi layers\n",
    "\n",
    "0.00 | 0.00 | 0.00 | model 3 - haze free\n",
    "\n",
    "-  Divide labels to 2 categories.\n",
    "    - weather labels\n",
    "    - non-weather labels\n",
    "-  Run model on haze free images\n",
    "\n"
   ]
  },
  {
   "cell_type": "markdown",
   "metadata": {},
   "source": [
    "### Preprocess Image\n",
    "#### 1. Calculate haze degree\n",
    "Source: [Detecting Foggy Images and Estimating the Haze Degree Factor](https://www.omicsonline.org/open-access/detecting-foggy-images-and-estimating-the-haze-degree-factor-jcsb.1000226.pdf)\n",
    "\n",
    "Define haze degree as w, where w is a number between (0,1). Smaller w indicates a clearer image while haze images have greater w.  For example, w greater than 0.7 means 80%-100% of the image area is hazed.\n",
    "\n",
    "#### 2. Dehaze images\n",
    "Source: [Single Image Haze Removal Using Dark Channel Prior](http://kaiminghe.com/publications/pami10dehaze.pdf)\n",
    "\n",
    "The following formula is widely used to describe the formation of a haze image\n",
    "\n",
    "$I(x) = J(x)t(x) + A(1-t(x))$\n",
    "\n",
    "where *I* is the observed intensity, *J* represents the original haze-free image to be recovered, *A* is the global atmospheric light, and *t* is an exponential decay distribution .\n",
    "\n",
    "The aim is to recover *J* from *I*. We can achieve that by tuning *t*, as *t* has a formula of\n",
    "\n",
    "$t(x) = 1- w\\times min[min(\\frac{I_{c}(y)}{A^{c}})]$\n",
    ",where *w* is weight coefficient, *c* is the dark channel color (darkest channel of RGB channel)"
   ]
  },
  {
   "cell_type": "code",
   "execution_count": 3,
   "metadata": {},
   "outputs": [],
   "source": [
    "\"\"\"Single image dehazing.\"\"\"\n",
    "class Channel_value:\n",
    "    val = -1.0\n",
    "    intensity = -1.0\n",
    "\n",
    "def find_intensity_of_atmospheric_light(img, gray,img_width=256):\n",
    "    \"\"\"return Atomospheric light A \n",
    "       find brightest pixels in the dark channel and find max intensity\n",
    "    \"\"\"\n",
    "    toplist = [Channel_value()] * 2\n",
    "    dark_channel = find_dark_channel(img)\n",
    "    coords = np.argwhere(img[:,:,dark_channel] == np.max(img[:,:,dark_channel]) )\n",
    "    I = [gray[c[0],c[1]] for c in coords]\n",
    "    return max(I)\n",
    "\n",
    "def find_dark_channel(img): #get darkest RBG channel\n",
    "    return np.unravel_index(np.argmin(img), img.shape)[2]\n",
    "\n",
    "def clamp(minimum, x, maximum):\n",
    "    return max(minimum, min(x, maximum))\n",
    "\n",
    "def dehaze_function(img, light_intensity, windowSize, t0, w,img_width=256):\n",
    "    outimg = np.zeros(img.shape, img.dtype)\n",
    "    # sliding windowns\n",
    "    # try tf.train.batch\n",
    "    for y in range(img_width):\n",
    "        for x in range(img_width):\n",
    "            x_low = max(x-(windowSize//2), 0)\n",
    "            y_low = max(y-(windowSize//2), 0)\n",
    "            x_high = min(x+(windowSize//2), img_width)\n",
    "            y_high = min(y+(windowSize//2), img_width)\n",
    "            sliceimg = img[y_low:y_high, x_low:x_high]\n",
    "            dark_channel = find_dark_channel(sliceimg)\n",
    "            t = 1.0 - (w * img.item(y, x, dark_channel) / light_intensity)\n",
    "            outimg.itemset((y,x,0), clamp(0, ((img.item(y,x,0) - light_intensity) / max(t, t0) + light_intensity), 255))\n",
    "            outimg.itemset((y,x,1), clamp(0, ((img.item(y,x,1) - light_intensity) / max(t, t0) + light_intensity), 255))\n",
    "            outimg.itemset((y,x,2), clamp(0, ((img.item(y,x,2) - light_intensity) / max(t, t0) + light_intensity), 255))\n",
    "    return outimg\n",
    "\n",
    "\n",
    "def dehaze_image(path,w = 0.95, t0 = 0.55):\n",
    "    img = cv2.imread(path)\n",
    "    gray = cv2.cvtColor(img, cv2.COLOR_BGR2GRAY) #image to gray scale\n",
    "    light_intensity = find_intensity_of_atmospheric_light(img, gray)\n",
    "    outimg = dehaze_function(img, light_intensity, 20, t0, w)\n",
    "    return outimg\n",
    "\n",
    "#  %%%%%%%%%%%%%%%%%%%%%%%%%%%%%%%%%%%%%%%%%%%%%%%%%%\n",
    "def display_photo_no(image_id, folder='train-jpg/'):\n",
    "    img = cv2.imread(kaggle_path+folder+f'train_{image_id}.jpg')\n",
    "    plt.imshow(img)\n",
    "    return\n"
   ]
  },
  {
   "cell_type": "code",
   "execution_count": 22,
   "metadata": {},
   "outputs": [],
   "source": [
    "miu, v, sigma = 5.1,2.9,.2461\n",
    "def calculate_haziness(img_id):\n",
    "    path = kaggle_path+f'train-jpg/train_{img_id}.jpg'\n",
    "    img = cv2.imread(path)\n",
    "    gray = cv2.cvtColor(img, cv2.COLOR_BGR2GRAY) #image to gray scale\n",
    "    A = find_intensity_of_atmospheric_light(img, gray)\n",
    "    D = img.min(2).sum()/(img.shape[0]*img.shape[1])\n",
    "    B = img.max(2).sum()/(img.shape[0]*img.shape[1])\n",
    "    C = B - D\n",
    "    w = math.e**(-0.5*(miu*(A-D)/A+v*C/A))\n",
    "    return (img_id,w,A)\n",
    "\n",
    "def compare_photos(image_id):\n",
    "    path = kaggle_path+f'train-jpg/train_{image_id}.jpg'\n",
    "    fig=plt.figure(figsize=(5, 8))\n",
    "    ax1 = fig.add_subplot(211)\n",
    "    dehazed_img = dehaze_image(path)\n",
    "    plt.imshow(dehazed_img)\n",
    "    fig.add_subplot(212,sharex=ax1)\n",
    "    display_photo_no(image_id)\n",
    "    plt.show()\n",
    "# display_photo_no(33)\n",
    "compare_photos(33)"
   ]
  },
  {
   "cell_type": "code",
   "execution_count": null,
   "metadata": {},
   "outputs": [],
   "source": [
    "# from multiprocessing import Pool\n",
    "# import pickle\n",
    "\n",
    "# res = []\n",
    "# d = range(0,40479,1)\n",
    "# chunks = [d[x:x+5000] for x in range(0, len(d), 5000)]\n",
    "# pool = Pool(6)\n",
    "# for rang in chunks:\n",
    "#     print (rang)\n",
    "#     res+=pool.map(calculate_haziness,rang)\n",
    "# pool.close()\n",
    "# pool.join()\n",
    "# with open('haze_train.pkl', 'wb') as f:\n",
    "#     pickle.dump(res, f)"
   ]
  },
  {
   "cell_type": "code",
   "execution_count": 71,
   "metadata": {},
   "outputs": [
    {
     "data": {
      "text/plain": [
       "40478"
      ]
     },
     "execution_count": 71,
     "metadata": {},
     "output_type": "execute_result"
    }
   ],
   "source": [
    "kaggle_path = '/home/ubuntu/.kaggle/competitions/planet-understanding-the-amazon-from-space/'\n",
    "x = glob.glob(kaggle_path+'train_haze_free/train_*.jpg')\n",
    "x = sorted([int(i.split('_')[-1].rstrip('.jpg')) for i in x])"
   ]
  },
  {
   "cell_type": "code",
   "execution_count": null,
   "metadata": {},
   "outputs": [],
   "source": []
  },
  {
   "cell_type": "code",
   "execution_count": null,
   "metadata": {},
   "outputs": [],
   "source": [
    "display_photo_no(25,folder='train_haze_free/')"
   ]
  },
  {
   "cell_type": "code",
   "execution_count": 14,
   "metadata": {},
   "outputs": [
    {
     "data": {
      "text/html": [
       "<div>\n",
       "<style scoped>\n",
       "    .dataframe tbody tr th:only-of-type {\n",
       "        vertical-align: middle;\n",
       "    }\n",
       "\n",
       "    .dataframe tbody tr th {\n",
       "        vertical-align: top;\n",
       "    }\n",
       "\n",
       "    .dataframe thead th {\n",
       "        text-align: right;\n",
       "    }\n",
       "</style>\n",
       "<table border=\"1\" class=\"dataframe\">\n",
       "  <thead>\n",
       "    <tr style=\"text-align: right;\">\n",
       "      <th></th>\n",
       "      <th>conventional_mine</th>\n",
       "      <th>primary</th>\n",
       "      <th>clear</th>\n",
       "      <th>agriculture</th>\n",
       "      <th>road</th>\n",
       "      <th>water</th>\n",
       "      <th>partly_cloudy</th>\n",
       "      <th>cultivation</th>\n",
       "      <th>habitation</th>\n",
       "      <th>haze</th>\n",
       "      <th>cloudy</th>\n",
       "      <th>bare_ground</th>\n",
       "      <th>selective_logging</th>\n",
       "      <th>artisinal_mine</th>\n",
       "      <th>blooming</th>\n",
       "      <th>slash_burn</th>\n",
       "      <th>blow_down</th>\n",
       "    </tr>\n",
       "  </thead>\n",
       "  <tbody>\n",
       "    <tr>\n",
       "      <th>0</th>\n",
       "      <td>0.0</td>\n",
       "      <td>1.0</td>\n",
       "      <td>0.0</td>\n",
       "      <td>0.0</td>\n",
       "      <td>0.0</td>\n",
       "      <td>0.0</td>\n",
       "      <td>0.0</td>\n",
       "      <td>0.0</td>\n",
       "      <td>0.0</td>\n",
       "      <td>1.0</td>\n",
       "      <td>0.0</td>\n",
       "      <td>0.0</td>\n",
       "      <td>0.0</td>\n",
       "      <td>0.0</td>\n",
       "      <td>0.0</td>\n",
       "      <td>0.0</td>\n",
       "      <td>0.0</td>\n",
       "    </tr>\n",
       "    <tr>\n",
       "      <th>1</th>\n",
       "      <td>0.0</td>\n",
       "      <td>1.0</td>\n",
       "      <td>1.0</td>\n",
       "      <td>1.0</td>\n",
       "      <td>0.0</td>\n",
       "      <td>1.0</td>\n",
       "      <td>0.0</td>\n",
       "      <td>0.0</td>\n",
       "      <td>0.0</td>\n",
       "      <td>0.0</td>\n",
       "      <td>0.0</td>\n",
       "      <td>0.0</td>\n",
       "      <td>0.0</td>\n",
       "      <td>0.0</td>\n",
       "      <td>0.0</td>\n",
       "      <td>0.0</td>\n",
       "      <td>0.0</td>\n",
       "    </tr>\n",
       "    <tr>\n",
       "      <th>2</th>\n",
       "      <td>0.0</td>\n",
       "      <td>1.0</td>\n",
       "      <td>1.0</td>\n",
       "      <td>0.0</td>\n",
       "      <td>0.0</td>\n",
       "      <td>0.0</td>\n",
       "      <td>0.0</td>\n",
       "      <td>0.0</td>\n",
       "      <td>0.0</td>\n",
       "      <td>0.0</td>\n",
       "      <td>0.0</td>\n",
       "      <td>0.0</td>\n",
       "      <td>0.0</td>\n",
       "      <td>0.0</td>\n",
       "      <td>0.0</td>\n",
       "      <td>0.0</td>\n",
       "      <td>0.0</td>\n",
       "    </tr>\n",
       "    <tr>\n",
       "      <th>3</th>\n",
       "      <td>0.0</td>\n",
       "      <td>1.0</td>\n",
       "      <td>1.0</td>\n",
       "      <td>0.0</td>\n",
       "      <td>0.0</td>\n",
       "      <td>0.0</td>\n",
       "      <td>0.0</td>\n",
       "      <td>0.0</td>\n",
       "      <td>0.0</td>\n",
       "      <td>0.0</td>\n",
       "      <td>0.0</td>\n",
       "      <td>0.0</td>\n",
       "      <td>0.0</td>\n",
       "      <td>0.0</td>\n",
       "      <td>0.0</td>\n",
       "      <td>0.0</td>\n",
       "      <td>0.0</td>\n",
       "    </tr>\n",
       "    <tr>\n",
       "      <th>4</th>\n",
       "      <td>0.0</td>\n",
       "      <td>1.0</td>\n",
       "      <td>1.0</td>\n",
       "      <td>1.0</td>\n",
       "      <td>1.0</td>\n",
       "      <td>0.0</td>\n",
       "      <td>0.0</td>\n",
       "      <td>0.0</td>\n",
       "      <td>1.0</td>\n",
       "      <td>0.0</td>\n",
       "      <td>0.0</td>\n",
       "      <td>0.0</td>\n",
       "      <td>0.0</td>\n",
       "      <td>0.0</td>\n",
       "      <td>0.0</td>\n",
       "      <td>0.0</td>\n",
       "      <td>0.0</td>\n",
       "    </tr>\n",
       "  </tbody>\n",
       "</table>\n",
       "</div>"
      ],
      "text/plain": [
       "   conventional_mine  primary  clear  agriculture  road  water  partly_cloudy  \\\n",
       "0                0.0      1.0    0.0          0.0   0.0    0.0            0.0   \n",
       "1                0.0      1.0    1.0          1.0   0.0    1.0            0.0   \n",
       "2                0.0      1.0    1.0          0.0   0.0    0.0            0.0   \n",
       "3                0.0      1.0    1.0          0.0   0.0    0.0            0.0   \n",
       "4                0.0      1.0    1.0          1.0   1.0    0.0            0.0   \n",
       "\n",
       "   cultivation  habitation  haze  cloudy  bare_ground  selective_logging  \\\n",
       "0          0.0         0.0   1.0     0.0          0.0                0.0   \n",
       "1          0.0         0.0   0.0     0.0          0.0                0.0   \n",
       "2          0.0         0.0   0.0     0.0          0.0                0.0   \n",
       "3          0.0         0.0   0.0     0.0          0.0                0.0   \n",
       "4          0.0         1.0   0.0     0.0          0.0                0.0   \n",
       "\n",
       "   artisinal_mine  blooming  slash_burn  blow_down  \n",
       "0             0.0       0.0         0.0        0.0  \n",
       "1             0.0       0.0         0.0        0.0  \n",
       "2             0.0       0.0         0.0        0.0  \n",
       "3             0.0       0.0         0.0        0.0  \n",
       "4             0.0       0.0         0.0        0.0  "
      ]
     },
     "execution_count": 14,
     "metadata": {},
     "output_type": "execute_result"
    }
   ],
   "source": [
    "df_label.head()"
   ]
  },
  {
   "cell_type": "code",
   "execution_count": null,
   "metadata": {},
   "outputs": [],
   "source": []
  },
  {
   "cell_type": "code",
   "execution_count": null,
   "metadata": {},
   "outputs": [],
   "source": []
  },
  {
   "cell_type": "code",
   "execution_count": null,
   "metadata": {},
   "outputs": [],
   "source": []
  },
  {
   "cell_type": "code",
   "execution_count": 4,
   "metadata": {},
   "outputs": [
    {
     "ename": "SyntaxError",
     "evalue": "invalid syntax (<ipython-input-4-37a23d63e786>, line 5)",
     "output_type": "error",
     "traceback": [
      "\u001b[0;36m  File \u001b[0;32m\"<ipython-input-4-37a23d63e786>\"\u001b[0;36m, line \u001b[0;32m5\u001b[0m\n\u001b[0;31m    results = cross_val_score(estimator, X, y cv=kfold)\u001b[0m\n\u001b[0m                                               ^\u001b[0m\n\u001b[0;31mSyntaxError\u001b[0m\u001b[0;31m:\u001b[0m invalid syntax\n"
     ]
    }
   ],
   "source": [
    "from keras.wrappers.scikit_learn import KerasClassifier\n",
    "\n",
    "estimator = KerasClassifier(build_fn=baseline_model, epochs=200, batch_size=5, verbose=0)\n",
    "kfold = KFold(n_splits=10, shuffle=True, random_state=123)\n",
    "results = cross_val_score(estimator, X, y cv=kfold)\n",
    "print(\"Baseline: %.2f%% (%.2f%%)\" % (results.mean()*100, results.std()*100))"
   ]
  },
  {
   "cell_type": "markdown",
   "metadata": {},
   "source": [
    "#### Appendix\n",
    "version 1 - single layer\n",
    "```python\n",
    "def build_layers():\n",
    "    \"\"\"32 filters of size 12x12\n",
    "        input image size 256 x 256, 3 for RGB\n",
    "    \"\"\"\n",
    "    no_features = 17\n",
    "    model = Sequential()\n",
    "    model.add(Conv2D(32, kernel_size=(12,12), activation = 'relu',input_shape = (256, 256, 3)))\n",
    "    model.add(MaxPooling2D(pool_size = (2, 2)))\n",
    "    model.add(Flatten())\n",
    "    model.add(Dense(units = no_features, activation = 'sigmoid'))\n",
    "    return model\n",
    "```\n",
    "\n",
    "```terminal\n",
    "ls -1 | wc -l    #find number of files in the directary\n",
    "ls -Art | tail -n 1  # lastest file added in to the folder\n",
    "\n",
    "```\n"
   ]
  },
  {
   "cell_type": "code",
   "execution_count": 12,
   "metadata": {},
   "outputs": [
    {
     "name": "stdout",
     "output_type": "stream",
     "text": [
      "[33 66 38 63  7 47 11 43 95  1  0 73 80 16 29  4  6 77 97 21 58 44 89 99\n",
      " 79 62  5  3 48 82 10  9 90 67 56 53 52 12 98 91 42 69 85 23 78 24 49 81\n",
      " 25 71 88 84 39 86 37  2 93 20 87 70 59 60 96 75 26 17 54 94 13 18 45 72\n",
      " 40 46 50 22 41 31 55 32 15 76 92 30 34 14 83 68 19 36 27 74  8 35 57 65\n",
      " 28 61 51 64]\n"
     ]
    },
    {
     "name": "stderr",
     "output_type": "stream",
     "text": [
      "/home/ubuntu/anaconda3/envs/tensorflow_p36/lib/python3.6/site-packages/ipykernel/__main__.py:77: UserWarning: The semantics of the Keras 2 argument `steps_per_epoch` is not the same as the Keras 1 argument `samples_per_epoch`. `steps_per_epoch` is the number of batches to draw from the generator at each epoch. Basically steps_per_epoch = samples_per_epoch/batch_size. Similarly `nb_val_samples`->`validation_steps` and `val_samples`->`steps` arguments have changed. Update your method calls accordingly.\n",
      "/home/ubuntu/anaconda3/envs/tensorflow_p36/lib/python3.6/site-packages/ipykernel/__main__.py:77: UserWarning: Update your `fit_generator` call to the Keras 2 API: `fit_generator(generator=<__main__...., epochs=1, workers=4)`\n"
     ]
    },
    {
     "name": "stdout",
     "output_type": "stream",
     "text": [
      "Epoch 1/1\n",
      "98\n",
      "5511\n",
      "\n",
      "57\n",
      "91\n",
      "65\n",
      "32(2, 4) (2, 256, 256, 3)\n",
      "52\n",
      "43\n",
      "\n",
      "12\n",
      "(2, 4) (2, 256, 256, 3)\n",
      "15\n",
      "(2, 4) (2, 256, 256, 3)\n",
      "56\n",
      "(2, 4) (2, 256, 256, 3)(2, 4) (2, 256, 256, 3)\n",
      "53\n",
      "\n",
      "76\n",
      "(2, 4) (2, 256, 256, 3)\n",
      "(2, 4) (2, 256, 256, 3)\n"
     ]
    },
    {
     "ename": "ValueError",
     "evalue": "Error when checking model target: the list of Numpy arrays that you are passing to your model is not the size the model expected. Expected to see 1 array(s), but instead got the following list of 2 arrays: [array([[1., 0., 0., 0.],\n       [0., 0., 1., 0.]]), array([[0., 1., 0., 0., 0., 0., 0., 0., 0., 0., 0., 0., 0.],\n       [0., 1., 0., 0., 0., 0., 0., 0., 0., 0., 0., 0., 0.]])]...",
     "output_type": "error",
     "traceback": [
      "\u001b[0;31m------------------------------------------------\u001b[0m",
      "\u001b[0;31mValueError\u001b[0m     Traceback (most recent call last)",
      "\u001b[0;32m<ipython-input-12-f4fd164de20b>\u001b[0m in \u001b[0;36m<module>\u001b[0;34m()\u001b[0m\n\u001b[1;32m     75\u001b[0m results = model.fit_generator(generator=training_generator,\n\u001b[1;32m     76\u001b[0m                    \u001b[0mepochs\u001b[0m\u001b[0;34m=\u001b[0m\u001b[0;36m1\u001b[0m\u001b[0;34m,\u001b[0m\u001b[0;34m\u001b[0m\u001b[0m\n\u001b[0;32m---> 77\u001b[0;31m                    nb_worker=4)\n\u001b[0m",
      "\u001b[0;32m~/anaconda3/envs/tensorflow_p36/lib/python3.6/site-packages/keras/legacy/interfaces.py\u001b[0m in \u001b[0;36mwrapper\u001b[0;34m(*args, **kwargs)\u001b[0m\n\u001b[1;32m     89\u001b[0m                 warnings.warn('Update your `' + object_name +\n\u001b[1;32m     90\u001b[0m                               '` call to the Keras 2 API: ' + signature, stacklevel=2)\n\u001b[0;32m---> 91\u001b[0;31m             \u001b[0;32mreturn\u001b[0m \u001b[0mfunc\u001b[0m\u001b[0;34m(\u001b[0m\u001b[0;34m*\u001b[0m\u001b[0margs\u001b[0m\u001b[0;34m,\u001b[0m \u001b[0;34m**\u001b[0m\u001b[0mkwargs\u001b[0m\u001b[0;34m)\u001b[0m\u001b[0;34m\u001b[0m\u001b[0m\n\u001b[0m\u001b[1;32m     92\u001b[0m         \u001b[0mwrapper\u001b[0m\u001b[0;34m.\u001b[0m\u001b[0m_original_function\u001b[0m \u001b[0;34m=\u001b[0m \u001b[0mfunc\u001b[0m\u001b[0;34m\u001b[0m\u001b[0m\n\u001b[1;32m     93\u001b[0m         \u001b[0;32mreturn\u001b[0m \u001b[0mwrapper\u001b[0m\u001b[0;34m\u001b[0m\u001b[0m\n",
      "\u001b[0;32m~/anaconda3/envs/tensorflow_p36/lib/python3.6/site-packages/keras/models.py\u001b[0m in \u001b[0;36mfit_generator\u001b[0;34m(self, generator, steps_per_epoch, epochs, verbose, callbacks, validation_data, validation_steps, class_weight, max_queue_size, workers, use_multiprocessing, shuffle, initial_epoch)\u001b[0m\n\u001b[1;32m   1313\u001b[0m                                         \u001b[0muse_multiprocessing\u001b[0m\u001b[0;34m=\u001b[0m\u001b[0muse_multiprocessing\u001b[0m\u001b[0;34m,\u001b[0m\u001b[0;34m\u001b[0m\u001b[0m\n\u001b[1;32m   1314\u001b[0m                                         \u001b[0mshuffle\u001b[0m\u001b[0;34m=\u001b[0m\u001b[0mshuffle\u001b[0m\u001b[0;34m,\u001b[0m\u001b[0;34m\u001b[0m\u001b[0m\n\u001b[0;32m-> 1315\u001b[0;31m                                         initial_epoch=initial_epoch)\n\u001b[0m\u001b[1;32m   1316\u001b[0m \u001b[0;34m\u001b[0m\u001b[0m\n\u001b[1;32m   1317\u001b[0m     \u001b[0;34m@\u001b[0m\u001b[0minterfaces\u001b[0m\u001b[0;34m.\u001b[0m\u001b[0mlegacy_generator_methods_support\u001b[0m\u001b[0;34m\u001b[0m\u001b[0m\n",
      "\u001b[0;32m~/anaconda3/envs/tensorflow_p36/lib/python3.6/site-packages/keras/legacy/interfaces.py\u001b[0m in \u001b[0;36mwrapper\u001b[0;34m(*args, **kwargs)\u001b[0m\n\u001b[1;32m     89\u001b[0m                 warnings.warn('Update your `' + object_name +\n\u001b[1;32m     90\u001b[0m                               '` call to the Keras 2 API: ' + signature, stacklevel=2)\n\u001b[0;32m---> 91\u001b[0;31m             \u001b[0;32mreturn\u001b[0m \u001b[0mfunc\u001b[0m\u001b[0;34m(\u001b[0m\u001b[0;34m*\u001b[0m\u001b[0margs\u001b[0m\u001b[0;34m,\u001b[0m \u001b[0;34m**\u001b[0m\u001b[0mkwargs\u001b[0m\u001b[0;34m)\u001b[0m\u001b[0;34m\u001b[0m\u001b[0m\n\u001b[0m\u001b[1;32m     92\u001b[0m         \u001b[0mwrapper\u001b[0m\u001b[0;34m.\u001b[0m\u001b[0m_original_function\u001b[0m \u001b[0;34m=\u001b[0m \u001b[0mfunc\u001b[0m\u001b[0;34m\u001b[0m\u001b[0m\n\u001b[1;32m     93\u001b[0m         \u001b[0;32mreturn\u001b[0m \u001b[0mwrapper\u001b[0m\u001b[0;34m\u001b[0m\u001b[0m\n",
      "\u001b[0;32m~/anaconda3/envs/tensorflow_p36/lib/python3.6/site-packages/keras/engine/training.py\u001b[0m in \u001b[0;36mfit_generator\u001b[0;34m(self, generator, steps_per_epoch, epochs, verbose, callbacks, validation_data, validation_steps, class_weight, max_queue_size, workers, use_multiprocessing, shuffle, initial_epoch)\u001b[0m\n\u001b[1;32m   2228\u001b[0m                     outs = self.train_on_batch(x, y,\n\u001b[1;32m   2229\u001b[0m                                                \u001b[0msample_weight\u001b[0m\u001b[0;34m=\u001b[0m\u001b[0msample_weight\u001b[0m\u001b[0;34m,\u001b[0m\u001b[0;34m\u001b[0m\u001b[0m\n\u001b[0;32m-> 2230\u001b[0;31m                                                class_weight=class_weight)\n\u001b[0m\u001b[1;32m   2231\u001b[0m \u001b[0;34m\u001b[0m\u001b[0m\n\u001b[1;32m   2232\u001b[0m                     \u001b[0;32mif\u001b[0m \u001b[0;32mnot\u001b[0m \u001b[0misinstance\u001b[0m\u001b[0;34m(\u001b[0m\u001b[0mouts\u001b[0m\u001b[0;34m,\u001b[0m \u001b[0mlist\u001b[0m\u001b[0;34m)\u001b[0m\u001b[0;34m:\u001b[0m\u001b[0;34m\u001b[0m\u001b[0m\n",
      "\u001b[0;32m~/anaconda3/envs/tensorflow_p36/lib/python3.6/site-packages/keras/engine/training.py\u001b[0m in \u001b[0;36mtrain_on_batch\u001b[0;34m(self, x, y, sample_weight, class_weight)\u001b[0m\n\u001b[1;32m   1875\u001b[0m             \u001b[0mx\u001b[0m\u001b[0;34m,\u001b[0m \u001b[0my\u001b[0m\u001b[0;34m,\u001b[0m\u001b[0;34m\u001b[0m\u001b[0m\n\u001b[1;32m   1876\u001b[0m             \u001b[0msample_weight\u001b[0m\u001b[0;34m=\u001b[0m\u001b[0msample_weight\u001b[0m\u001b[0;34m,\u001b[0m\u001b[0;34m\u001b[0m\u001b[0m\n\u001b[0;32m-> 1877\u001b[0;31m             class_weight=class_weight)\n\u001b[0m\u001b[1;32m   1878\u001b[0m         \u001b[0;32mif\u001b[0m \u001b[0mself\u001b[0m\u001b[0;34m.\u001b[0m\u001b[0muses_learning_phase\u001b[0m \u001b[0;32mand\u001b[0m \u001b[0;32mnot\u001b[0m \u001b[0misinstance\u001b[0m\u001b[0;34m(\u001b[0m\u001b[0mK\u001b[0m\u001b[0;34m.\u001b[0m\u001b[0mlearning_phase\u001b[0m\u001b[0;34m(\u001b[0m\u001b[0;34m)\u001b[0m\u001b[0;34m,\u001b[0m \u001b[0mint\u001b[0m\u001b[0;34m)\u001b[0m\u001b[0;34m:\u001b[0m\u001b[0;34m\u001b[0m\u001b[0m\n\u001b[1;32m   1879\u001b[0m             \u001b[0mins\u001b[0m \u001b[0;34m=\u001b[0m \u001b[0mx\u001b[0m \u001b[0;34m+\u001b[0m \u001b[0my\u001b[0m \u001b[0;34m+\u001b[0m \u001b[0msample_weights\u001b[0m \u001b[0;34m+\u001b[0m \u001b[0;34m[\u001b[0m\u001b[0;36m1.\u001b[0m\u001b[0;34m]\u001b[0m\u001b[0;34m\u001b[0m\u001b[0m\n",
      "\u001b[0;32m~/anaconda3/envs/tensorflow_p36/lib/python3.6/site-packages/keras/engine/training.py\u001b[0m in \u001b[0;36m_standardize_user_data\u001b[0;34m(self, x, y, sample_weight, class_weight, check_array_lengths, batch_size)\u001b[0m\n\u001b[1;32m   1478\u001b[0m                                     \u001b[0moutput_shapes\u001b[0m\u001b[0;34m,\u001b[0m\u001b[0;34m\u001b[0m\u001b[0m\n\u001b[1;32m   1479\u001b[0m                                     \u001b[0mcheck_batch_axis\u001b[0m\u001b[0;34m=\u001b[0m\u001b[0;32mFalse\u001b[0m\u001b[0;34m,\u001b[0m\u001b[0;34m\u001b[0m\u001b[0m\n\u001b[0;32m-> 1480\u001b[0;31m                                     exception_prefix='target')\n\u001b[0m\u001b[1;32m   1481\u001b[0m         sample_weights = _standardize_sample_weights(sample_weight,\n\u001b[1;32m   1482\u001b[0m                                                      self._feed_output_names)\n",
      "\u001b[0;32m~/anaconda3/envs/tensorflow_p36/lib/python3.6/site-packages/keras/engine/training.py\u001b[0m in \u001b[0;36m_standardize_input_data\u001b[0;34m(data, names, shapes, check_batch_axis, exception_prefix)\u001b[0m\n\u001b[1;32m     84\u001b[0m                 \u001b[0;34m'Expected to see '\u001b[0m \u001b[0;34m+\u001b[0m \u001b[0mstr\u001b[0m\u001b[0;34m(\u001b[0m\u001b[0mlen\u001b[0m\u001b[0;34m(\u001b[0m\u001b[0mnames\u001b[0m\u001b[0;34m)\u001b[0m\u001b[0;34m)\u001b[0m \u001b[0;34m+\u001b[0m \u001b[0;34m' array(s), '\u001b[0m\u001b[0;34m\u001b[0m\u001b[0m\n\u001b[1;32m     85\u001b[0m                 \u001b[0;34m'but instead got the following list of '\u001b[0m \u001b[0;34m+\u001b[0m\u001b[0;34m\u001b[0m\u001b[0m\n\u001b[0;32m---> 86\u001b[0;31m                 str(len(data)) + ' arrays: ' + str(data)[:200] + '...')\n\u001b[0m\u001b[1;32m     87\u001b[0m         \u001b[0;32melif\u001b[0m \u001b[0mlen\u001b[0m\u001b[0;34m(\u001b[0m\u001b[0mnames\u001b[0m\u001b[0;34m)\u001b[0m \u001b[0;34m>\u001b[0m \u001b[0;36m1\u001b[0m\u001b[0;34m:\u001b[0m\u001b[0;34m\u001b[0m\u001b[0m\n\u001b[1;32m     88\u001b[0m             raise ValueError(\n",
      "\u001b[0;31mValueError\u001b[0m: Error when checking model target: the list of Numpy arrays that you are passing to your model is not the size the model expected. Expected to see 1 array(s), but instead got the following list of 2 arrays: [array([[1., 0., 0., 0.],\n       [0., 0., 1., 0.]]), array([[0., 1., 0., 0., 0., 0., 0., 0., 0., 0., 0., 0., 0.],\n       [0., 1., 0., 0., 0., 0., 0., 0., 0., 0., 0., 0., 0.]])]..."
     ]
    }
   ],
   "source": [
    "# Defining the generator:\n",
    "\n",
    "# https://stanford.edu/~shervine/blog/keras-how-to-generate-data-on-the-fly.html\n",
    "\n",
    "class SubDataGenerator(keras.utils.Sequence):\n",
    "    def __init__(self, list_IDs, batch_size=3, dim=(256,256), n_channels=4,\n",
    "                 n_classes=3, shuffle=True):\n",
    "        self.dim = dim\n",
    "        self.batch_size = batch_size\n",
    "        self.labels = labels\n",
    "        self.list_IDs = list_IDs\n",
    "        self.n_channels = n_channels\n",
    "        self.n_classes = n_classes\n",
    "        self.shuffle = shuffle\n",
    "        self.on_epoch_end()\n",
    "        print (self.indexes)\n",
    "\n",
    "    def __len__(self):\n",
    "        'Denotes the number of batches per epoch'\n",
    "        return int(np.floor(len(self.list_IDs) / self.batch_size))\n",
    "\n",
    "    def __getitem__(self, index):\n",
    "        'Generate one batch of data'\n",
    "        indexes = self.indexes[index*self.batch_size:(index+1)*self.batch_size]\n",
    "        # Find list of IDs\n",
    "        list_IDs_temp = [self.list_IDs[k] for k in indexes]\n",
    "        # Generate data\n",
    "        X, y1, y2 = self.__data_generation(list_IDs_temp)\n",
    "\n",
    "        return X, [y1, y2]\n",
    "\n",
    "    def on_epoch_end(self):\n",
    "        'Updates indexes after each epoch'\n",
    "        self.indexes = np.arange(len(self.list_IDs))\n",
    "        if self.shuffle == True:\n",
    "            np.random.shuffle(self.indexes)\n",
    "\n",
    "    def __data_generation(self, list_IDs_temp):\n",
    "        'Generates data containing batch_size samples' \n",
    "        # Initialization\n",
    "        X  = np.empty((self.batch_size, *self.dim, self.n_channels))\n",
    "        y1 = np.empty((self.batch_size,4))\n",
    "        y2  = np.empty((self.batch_size,13))\n",
    "        for i, ID in enumerate(list_IDs_temp):\n",
    "            print (ID)\n",
    "            X[i,] = cv2.imread(kaggle_path+f'train_haze_free/train_{ID}.jpg')\n",
    "            y1[i,] = self.labels[weather_tags].iloc[[ID]].values\n",
    "            y2[i,] = self.labels[land_cover_tags].iloc[[ID]].values\n",
    "        print (y1.shape,X.shape)\n",
    "        return X, y1, y2\n",
    "\n",
    "\n",
    "# Fit_generator for training:\n",
    "read = lambda i: cv2.imread(kaggle_path+f'train_haze_free/train_{i}.jpg')\n",
    "                            \n",
    "params = {'dim': (256,256),\n",
    "          'batch_size': 2,\n",
    "          'n_classes': 13,\n",
    "          'n_channels': 3,\n",
    "          'shuffle': True}\n",
    "\n",
    "partition = {'train':range(100)}\n",
    "labels = df_label\n",
    "\n",
    "# # Generators\n",
    "training_generator = SubDataGenerator(partition['train'], **params)\n",
    "\n",
    "# validation_generator = SubDataGenerator(subpartition['test'], **params)\n",
    "\n",
    "# cb_1=keras.callbacks.EarlyStopping(monitor='val_loss', min_delta=0, patience=2, verbose=0, mode='auto')\n",
    "# cb_2=keras.callbacks.ModelCheckpoint(filepath=\"3pred_weights.{epoch:02d}-{val_loss:.2f}.hdf5\", monitor='val_loss', verbose=0, save_best_only=True, save_weights_only=False, mode='auto', period=1)\n",
    "model = build_model()\n",
    "# model.fit(X_train, y_train, epochs=20, batch_size=50)\n",
    "    \n",
    "results = model.fit_generator(generator=training_generator,\n",
    "                   epochs=1, \n",
    "                   nb_worker=4)"
   ]
  },
  {
   "cell_type": "code",
   "execution_count": 51,
   "metadata": {},
   "outputs": [
    {
     "data": {
      "text/plain": [
       "array([[0., 1., 1., 0., 1., 1., 0., 0., 0., 0., 0., 0., 0.]])"
      ]
     },
     "execution_count": 51,
     "metadata": {},
     "output_type": "execute_result"
    }
   ],
   "source": []
  },
  {
   "cell_type": "code",
   "execution_count": 53,
   "metadata": {},
   "outputs": [
    {
     "data": {
      "text/html": [
       "<div>\n",
       "<style scoped>\n",
       "    .dataframe tbody tr th:only-of-type {\n",
       "        vertical-align: middle;\n",
       "    }\n",
       "\n",
       "    .dataframe tbody tr th {\n",
       "        vertical-align: top;\n",
       "    }\n",
       "\n",
       "    .dataframe thead th {\n",
       "        text-align: right;\n",
       "    }\n",
       "</style>\n",
       "<table border=\"1\" class=\"dataframe\">\n",
       "  <thead>\n",
       "    <tr style=\"text-align: right;\">\n",
       "      <th></th>\n",
       "      <th>conventional_mine</th>\n",
       "      <th>primary</th>\n",
       "      <th>agriculture</th>\n",
       "      <th>road</th>\n",
       "      <th>water</th>\n",
       "      <th>cultivation</th>\n",
       "      <th>habitation</th>\n",
       "      <th>bare_ground</th>\n",
       "      <th>selective_logging</th>\n",
       "      <th>artisinal_mine</th>\n",
       "      <th>blooming</th>\n",
       "      <th>slash_burn</th>\n",
       "      <th>blow_down</th>\n",
       "    </tr>\n",
       "  </thead>\n",
       "  <tbody>\n",
       "    <tr>\n",
       "      <th>2</th>\n",
       "      <td>0.0</td>\n",
       "      <td>1.0</td>\n",
       "      <td>0.0</td>\n",
       "      <td>0.0</td>\n",
       "      <td>0.0</td>\n",
       "      <td>0.0</td>\n",
       "      <td>0.0</td>\n",
       "      <td>0.0</td>\n",
       "      <td>0.0</td>\n",
       "      <td>0.0</td>\n",
       "      <td>0.0</td>\n",
       "      <td>0.0</td>\n",
       "      <td>0.0</td>\n",
       "    </tr>\n",
       "  </tbody>\n",
       "</table>\n",
       "</div>"
      ],
      "text/plain": [
       "   conventional_mine  primary  agriculture  road  water  cultivation  \\\n",
       "2                0.0      1.0          0.0   0.0    0.0          0.0   \n",
       "\n",
       "   habitation  bare_ground  selective_logging  artisinal_mine  blooming  \\\n",
       "2         0.0          0.0                0.0             0.0       0.0   \n",
       "\n",
       "   slash_burn  blow_down  \n",
       "2         0.0        0.0  "
      ]
     },
     "execution_count": 53,
     "metadata": {},
     "output_type": "execute_result"
    }
   ],
   "source": [
    "train_gen= keras.preprocessing.image.ImageDataGenerator(\n",
    "    featurewise_center=False,\n",
    "    samplewise_center=False,\n",
    "    featurewise_std_normalization=False,\n",
    "    samplewise_std_normalization=False,\n",
    "    zca_whitening=False,\n",
    "    rotation_range=0.,\n",
    "    width_shift_range=0.,\n",
    "    height_shift_range=0.,\n",
    "    shear_range=0.,\n",
    "    zoom_range=0.,\n",
    "    channel_shift_range=0.,\n",
    "    fill_mode='nearest',\n",
    "    cval=0.,\n",
    "    horizontal_flip=False,\n",
    "    vertical_flip=False,\n",
    "    rescale=None)\n",
    "\n",
    "train_generator = train_gen.flow_from_directory(\n",
    "        '/home/ubuntu/upper/make_train',\n",
    "        target_size=(224, 224),\n",
    "        batch_size=16,\n",
    "        class_mode='sparse')"
   ]
  },
  {
   "cell_type": "code",
   "execution_count": null,
   "metadata": {},
   "outputs": [],
   "source": []
  }
 ],
 "metadata": {
  "kernelspec": {
   "display_name": "Python [conda env:tensorflow_p36]",
   "language": "python",
   "name": "conda-env-tensorflow_p36-py"
  },
  "language_info": {
   "codemirror_mode": {
    "name": "ipython",
    "version": 3
   },
   "file_extension": ".py",
   "mimetype": "text/x-python",
   "name": "python",
   "nbconvert_exporter": "python",
   "pygments_lexer": "ipython3",
   "version": "3.6.4"
  }
 },
 "nbformat": 4,
 "nbformat_minor": 2
}
