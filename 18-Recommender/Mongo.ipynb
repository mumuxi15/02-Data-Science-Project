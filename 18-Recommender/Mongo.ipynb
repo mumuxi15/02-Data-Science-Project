{
 "cells": [
  {
   "cell_type": "markdown",
   "metadata": {},
   "source": [
    "#### 1 Start mongodb on Ubuntu\n",
    "```sql\n",
    "sudo service mongod start\n",
    "```\n",
    "\n",
    "** Remove duplicates and output to a new collection called newcollection  **"
   ]
  },
  {
   "cell_type": "code",
   "execution_count": 2,
   "metadata": {},
   "outputs": [
    {
     "name": "stdout",
     "output_type": "stream",
     "text": [
      "database:  ['local', 'test', 'config', 'admin', 'anime_recommend']\n",
      "collections: ['system.indexes', 'animes', 'usr', 'db_anime']\n"
     ]
    }
   ],
   "source": [
    "from pymongo import MongoClient\n",
    "client = MongoClient()\n",
    "db = client.anime_recommend\n",
    "print ('database: ',client.database_names())\n",
    "print ('collections:',db.collection_names())\n",
    "db.collection.allowDiskUse=\"true\""
   ]
  },
  {
   "cell_type": "code",
   "execution_count": null,
   "metadata": {},
   "outputs": [],
   "source": [
    "db.animes.aggregate(\n",
    "   [    {\n",
    "        \"$redact\": {\n",
    "            \"$cond\": [\n",
    "                    { \"$gt\": [ { \"$strLenCP\": \"$description\" }, 140] },\n",
    "                    \"$$KEEP\",\n",
    "                    \"$$PRUNE\"\n",
    "                    ]}\n",
    "        },\n",
    "       {\n",
    "        \"$group\": {\n",
    "            \"_id\" :  \"$anime\",\n",
    "            \"themesongs\": {\"$addToSet\":\"$themesongs\" },\n",
    "            \"description\": { \"$push\": \"$description\" },\n",
    "            \"reviews\": { \"$push\": \"$reviews\" },\n",
    "            \"img_url\":{\"$first\":\"$img_url\"}\n",
    "        }\n",
    "       },\n",
    "       { \"$out\": \"db_anime\" }\n",
    "   ]\n",
    ")"
   ]
  },
  {
   "cell_type": "markdown",
   "metadata": {},
   "source": [
    "** Group by with condition ** "
   ]
  },
  {
   "cell_type": "code",
   "execution_count": null,
   "metadata": {},
   "outputs": [],
   "source": [
    "db.users.aggregate(\n",
    "    [   { \"$sort\": { \"_id\": 1 } }, \n",
    "        { \"$group\": { \n",
    "            \"_id\": \"$user\", \n",
    "            \"doc\": { \"$first\": \"$$ROOT\" } \n",
    "        }}, \n",
    "        { \"$replaceRoot\": { \"newRoot\": \"$doc\" } },\n",
    "        { \"$out\": \"newcollection\" }\n",
    "    ]\n",
    ")"
   ]
  },
  {
   "cell_type": "markdown",
   "metadata": {},
   "source": [
    "** Update rows **"
   ]
  },
  {
   "cell_type": "code",
   "execution_count": null,
   "metadata": {},
   "outputs": [],
   "source": [
    "db.animes.update_one(\n",
    "   { '_id': ObjectId('5b05f91ab567e33c923a85af') },\n",
    "   { '$set':\n",
    "      {\n",
    "        'reviews':update_info\n",
    "   }\n",
    "   }\n",
    ")"
   ]
  }
 ],
 "metadata": {
  "kernelspec": {
   "display_name": "Python 3",
   "language": "python",
   "name": "python3"
  },
  "language_info": {
   "codemirror_mode": {
    "name": "ipython",
    "version": 3
   },
   "file_extension": ".py",
   "mimetype": "text/x-python",
   "name": "python",
   "nbconvert_exporter": "python",
   "pygments_lexer": "ipython3",
   "version": "3.6.5"
  }
 },
 "nbformat": 4,
 "nbformat_minor": 2
}
